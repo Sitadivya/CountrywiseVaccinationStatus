{
 "cells": [
  {
   "cell_type": "code",
   "execution_count": 87,
   "metadata": {},
   "outputs": [],
   "source": [
    "# import the required libraries\n",
    "\n",
    "import pandas as pd\n",
    "import numpy as np\n",
    "import matplotlib.pyplot as plt\n",
    "%matplotlib inline\n",
    "import seaborn as sns\n",
    "sns.set_style('whitegrid')\n"
   ]
  },
  {
   "cell_type": "code",
   "execution_count": 77,
   "metadata": {},
   "outputs": [
    {
     "name": "stdout",
     "output_type": "stream",
     "text": [
      "Requirement already satisfied: plotly in c:\\users\\surya\\anaconda3\\lib\\site-packages (4.14.3)\n",
      "Requirement already satisfied: six in c:\\users\\surya\\anaconda3\\lib\\site-packages (from plotly) (1.12.0)\n",
      "Requirement already satisfied: retrying>=1.3.3 in c:\\users\\surya\\anaconda3\\lib\\site-packages (from plotly) (1.3.3)\n"
     ]
    }
   ],
   "source": [
    "!pip install plotly"
   ]
  },
  {
   "cell_type": "code",
   "execution_count": 78,
   "metadata": {},
   "outputs": [
    {
     "name": "stdout",
     "output_type": "stream",
     "text": [
      "Requirement already satisfied: cufflinks in c:\\users\\surya\\anaconda3\\lib\\site-packages (0.17.3)\n",
      "Requirement already satisfied: colorlover>=0.2.1 in c:\\users\\surya\\anaconda3\\lib\\site-packages (from cufflinks) (0.3.0)\n",
      "Requirement already satisfied: setuptools>=34.4.1 in c:\\users\\surya\\anaconda3\\lib\\site-packages (from cufflinks) (41.4.0)\n",
      "Requirement already satisfied: pandas>=0.19.2 in c:\\users\\surya\\anaconda3\\lib\\site-packages (from cufflinks) (0.25.1)\n",
      "Requirement already satisfied: six>=1.9.0 in c:\\users\\surya\\anaconda3\\lib\\site-packages (from cufflinks) (1.12.0)\n",
      "Requirement already satisfied: plotly>=4.1.1 in c:\\users\\surya\\anaconda3\\lib\\site-packages (from cufflinks) (4.14.3)\n",
      "Requirement already satisfied: numpy>=1.9.2 in c:\\users\\surya\\anaconda3\\lib\\site-packages (from cufflinks) (1.16.5)\n",
      "Requirement already satisfied: ipython>=5.3.0 in c:\\users\\surya\\anaconda3\\lib\\site-packages (from cufflinks) (7.8.0)\n",
      "Requirement already satisfied: ipywidgets>=7.0.0 in c:\\users\\surya\\anaconda3\\lib\\site-packages (from cufflinks) (7.5.1)\n",
      "Requirement already satisfied: python-dateutil>=2.6.1 in c:\\users\\surya\\anaconda3\\lib\\site-packages (from pandas>=0.19.2->cufflinks) (2.8.0)\n",
      "Requirement already satisfied: pytz>=2017.2 in c:\\users\\surya\\anaconda3\\lib\\site-packages (from pandas>=0.19.2->cufflinks) (2019.3)\n",
      "Requirement already satisfied: retrying>=1.3.3 in c:\\users\\surya\\anaconda3\\lib\\site-packages (from plotly>=4.1.1->cufflinks) (1.3.3)\n",
      "Requirement already satisfied: pickleshare in c:\\users\\surya\\anaconda3\\lib\\site-packages (from ipython>=5.3.0->cufflinks) (0.7.5)\n",
      "Requirement already satisfied: traitlets>=4.2 in c:\\users\\surya\\anaconda3\\lib\\site-packages (from ipython>=5.3.0->cufflinks) (4.3.3)\n",
      "Requirement already satisfied: prompt-toolkit<2.1.0,>=2.0.0 in c:\\users\\surya\\anaconda3\\lib\\site-packages (from ipython>=5.3.0->cufflinks) (2.0.10)\n",
      "Requirement already satisfied: colorama; sys_platform == \"win32\" in c:\\users\\surya\\anaconda3\\lib\\site-packages (from ipython>=5.3.0->cufflinks) (0.4.1)\n",
      "Requirement already satisfied: decorator in c:\\users\\surya\\anaconda3\\lib\\site-packages (from ipython>=5.3.0->cufflinks) (4.4.0)\n",
      "Requirement already satisfied: pygments in c:\\users\\surya\\anaconda3\\lib\\site-packages (from ipython>=5.3.0->cufflinks) (2.4.2)\n",
      "Requirement already satisfied: backcall in c:\\users\\surya\\anaconda3\\lib\\site-packages (from ipython>=5.3.0->cufflinks) (0.1.0)\n",
      "Requirement already satisfied: jedi>=0.10 in c:\\users\\surya\\anaconda3\\lib\\site-packages (from ipython>=5.3.0->cufflinks) (0.15.1)\n",
      "Requirement already satisfied: widgetsnbextension~=3.5.0 in c:\\users\\surya\\anaconda3\\lib\\site-packages (from ipywidgets>=7.0.0->cufflinks) (3.5.1)\n",
      "Requirement already satisfied: ipykernel>=4.5.1 in c:\\users\\surya\\anaconda3\\lib\\site-packages (from ipywidgets>=7.0.0->cufflinks) (5.1.2)\n",
      "Requirement already satisfied: nbformat>=4.2.0 in c:\\users\\surya\\anaconda3\\lib\\site-packages (from ipywidgets>=7.0.0->cufflinks) (4.4.0)\n",
      "Requirement already satisfied: ipython-genutils in c:\\users\\surya\\anaconda3\\lib\\site-packages (from traitlets>=4.2->ipython>=5.3.0->cufflinks) (0.2.0)\n",
      "Requirement already satisfied: wcwidth in c:\\users\\surya\\anaconda3\\lib\\site-packages (from prompt-toolkit<2.1.0,>=2.0.0->ipython>=5.3.0->cufflinks) (0.1.7)\n",
      "Requirement already satisfied: parso>=0.5.0 in c:\\users\\surya\\anaconda3\\lib\\site-packages (from jedi>=0.10->ipython>=5.3.0->cufflinks) (0.5.1)\n",
      "Requirement already satisfied: notebook>=4.4.1 in c:\\users\\surya\\anaconda3\\lib\\site-packages (from widgetsnbextension~=3.5.0->ipywidgets>=7.0.0->cufflinks) (6.0.1)\n",
      "Requirement already satisfied: jupyter-client in c:\\users\\surya\\anaconda3\\lib\\site-packages (from ipykernel>=4.5.1->ipywidgets>=7.0.0->cufflinks) (5.3.3)\n",
      "Requirement already satisfied: tornado>=4.2 in c:\\users\\surya\\anaconda3\\lib\\site-packages (from ipykernel>=4.5.1->ipywidgets>=7.0.0->cufflinks) (6.0.3)\n",
      "Requirement already satisfied: jupyter-core in c:\\users\\surya\\anaconda3\\lib\\site-packages (from nbformat>=4.2.0->ipywidgets>=7.0.0->cufflinks) (4.5.0)\n",
      "Requirement already satisfied: jsonschema!=2.5.0,>=2.4 in c:\\users\\surya\\anaconda3\\lib\\site-packages (from nbformat>=4.2.0->ipywidgets>=7.0.0->cufflinks) (3.0.2)\n",
      "Requirement already satisfied: pyzmq>=17 in c:\\users\\surya\\anaconda3\\lib\\site-packages (from notebook>=4.4.1->widgetsnbextension~=3.5.0->ipywidgets>=7.0.0->cufflinks) (18.1.0)\n",
      "Requirement already satisfied: jinja2 in c:\\users\\surya\\anaconda3\\lib\\site-packages (from notebook>=4.4.1->widgetsnbextension~=3.5.0->ipywidgets>=7.0.0->cufflinks) (2.10.3)\n",
      "Requirement already satisfied: nbconvert in c:\\users\\surya\\anaconda3\\lib\\site-packages (from notebook>=4.4.1->widgetsnbextension~=3.5.0->ipywidgets>=7.0.0->cufflinks) (5.6.0)\n",
      "Requirement already satisfied: terminado>=0.8.1 in c:\\users\\surya\\anaconda3\\lib\\site-packages (from notebook>=4.4.1->widgetsnbextension~=3.5.0->ipywidgets>=7.0.0->cufflinks) (0.8.2)\n",
      "Requirement already satisfied: Send2Trash in c:\\users\\surya\\anaconda3\\lib\\site-packages (from notebook>=4.4.1->widgetsnbextension~=3.5.0->ipywidgets>=7.0.0->cufflinks) (1.5.0)\n",
      "Requirement already satisfied: prometheus-client in c:\\users\\surya\\anaconda3\\lib\\site-packages (from notebook>=4.4.1->widgetsnbextension~=3.5.0->ipywidgets>=7.0.0->cufflinks) (0.7.1)\n",
      "Requirement already satisfied: pywin32>=1.0; sys_platform == \"win32\" in c:\\users\\surya\\anaconda3\\lib\\site-packages (from jupyter-client->ipykernel>=4.5.1->ipywidgets>=7.0.0->cufflinks) (223)\n",
      "Requirement already satisfied: pyrsistent>=0.14.0 in c:\\users\\surya\\anaconda3\\lib\\site-packages (from jsonschema!=2.5.0,>=2.4->nbformat>=4.2.0->ipywidgets>=7.0.0->cufflinks) (0.15.4)\n",
      "Requirement already satisfied: attrs>=17.4.0 in c:\\users\\surya\\anaconda3\\lib\\site-packages (from jsonschema!=2.5.0,>=2.4->nbformat>=4.2.0->ipywidgets>=7.0.0->cufflinks) (19.2.0)\n",
      "Requirement already satisfied: MarkupSafe>=0.23 in c:\\users\\surya\\anaconda3\\lib\\site-packages (from jinja2->notebook>=4.4.1->widgetsnbextension~=3.5.0->ipywidgets>=7.0.0->cufflinks) (1.1.1)\n",
      "Requirement already satisfied: mistune<2,>=0.8.1 in c:\\users\\surya\\anaconda3\\lib\\site-packages (from nbconvert->notebook>=4.4.1->widgetsnbextension~=3.5.0->ipywidgets>=7.0.0->cufflinks) (0.8.4)\n",
      "Requirement already satisfied: bleach in c:\\users\\surya\\anaconda3\\lib\\site-packages (from nbconvert->notebook>=4.4.1->widgetsnbextension~=3.5.0->ipywidgets>=7.0.0->cufflinks) (3.1.0)\n",
      "Requirement already satisfied: defusedxml in c:\\users\\surya\\anaconda3\\lib\\site-packages (from nbconvert->notebook>=4.4.1->widgetsnbextension~=3.5.0->ipywidgets>=7.0.0->cufflinks) (0.6.0)\n",
      "Requirement already satisfied: entrypoints>=0.2.2 in c:\\users\\surya\\anaconda3\\lib\\site-packages (from nbconvert->notebook>=4.4.1->widgetsnbextension~=3.5.0->ipywidgets>=7.0.0->cufflinks) (0.3)\n",
      "Requirement already satisfied: pandocfilters>=1.4.1 in c:\\users\\surya\\anaconda3\\lib\\site-packages (from nbconvert->notebook>=4.4.1->widgetsnbextension~=3.5.0->ipywidgets>=7.0.0->cufflinks) (1.4.2)\n",
      "Requirement already satisfied: testpath in c:\\users\\surya\\anaconda3\\lib\\site-packages (from nbconvert->notebook>=4.4.1->widgetsnbextension~=3.5.0->ipywidgets>=7.0.0->cufflinks) (0.4.2)\n",
      "Requirement already satisfied: webencodings in c:\\users\\surya\\anaconda3\\lib\\site-packages (from bleach->nbconvert->notebook>=4.4.1->widgetsnbextension~=3.5.0->ipywidgets>=7.0.0->cufflinks) (0.5.1)\n"
     ]
    }
   ],
   "source": [
    "!pip install cufflinks"
   ]
  },
  {
   "cell_type": "code",
   "execution_count": 79,
   "metadata": {},
   "outputs": [],
   "source": [
    "from plotly.offline import iplot\n",
    "import plotly as py\n",
    "import plotly.tools as tls"
   ]
  },
  {
   "cell_type": "code",
   "execution_count": 80,
   "metadata": {},
   "outputs": [],
   "source": [
    "import cufflinks as cf"
   ]
  },
  {
   "cell_type": "code",
   "execution_count": 81,
   "metadata": {},
   "outputs": [],
   "source": [
    "import plotly.express as px"
   ]
  },
  {
   "cell_type": "markdown",
   "metadata": {},
   "source": [
    "# 1. Reading the country_vaccinations.csv file"
   ]
  },
  {
   "cell_type": "code",
   "execution_count": 88,
   "metadata": {},
   "outputs": [],
   "source": [
    "data = pd.read_csv(\"D:\\From C\\divya\\Edubridge\\Python\\country_vaccinations.csv.zip\")"
   ]
  },
  {
   "cell_type": "code",
   "execution_count": 89,
   "metadata": {},
   "outputs": [
    {
     "data": {
      "text/html": [
       "<div>\n",
       "<style scoped>\n",
       "    .dataframe tbody tr th:only-of-type {\n",
       "        vertical-align: middle;\n",
       "    }\n",
       "\n",
       "    .dataframe tbody tr th {\n",
       "        vertical-align: top;\n",
       "    }\n",
       "\n",
       "    .dataframe thead th {\n",
       "        text-align: right;\n",
       "    }\n",
       "</style>\n",
       "<table border=\"1\" class=\"dataframe\">\n",
       "  <thead>\n",
       "    <tr style=\"text-align: right;\">\n",
       "      <th></th>\n",
       "      <th>country</th>\n",
       "      <th>iso_code</th>\n",
       "      <th>date</th>\n",
       "      <th>total_vaccinations</th>\n",
       "      <th>people_vaccinated</th>\n",
       "      <th>people_fully_vaccinated</th>\n",
       "      <th>daily_vaccinations_raw</th>\n",
       "      <th>daily_vaccinations</th>\n",
       "      <th>total_vaccinations_per_hundred</th>\n",
       "      <th>people_vaccinated_per_hundred</th>\n",
       "      <th>people_fully_vaccinated_per_hundred</th>\n",
       "      <th>daily_vaccinations_per_million</th>\n",
       "      <th>vaccines</th>\n",
       "      <th>source_name</th>\n",
       "      <th>source_website</th>\n",
       "    </tr>\n",
       "  </thead>\n",
       "  <tbody>\n",
       "    <tr>\n",
       "      <td>0</td>\n",
       "      <td>Afghanistan</td>\n",
       "      <td>AFG</td>\n",
       "      <td>2021-02-22</td>\n",
       "      <td>0.0</td>\n",
       "      <td>0.0</td>\n",
       "      <td>NaN</td>\n",
       "      <td>NaN</td>\n",
       "      <td>NaN</td>\n",
       "      <td>0.00</td>\n",
       "      <td>0.00</td>\n",
       "      <td>NaN</td>\n",
       "      <td>NaN</td>\n",
       "      <td>Oxford/AstraZeneca</td>\n",
       "      <td>Government of Afghanistan</td>\n",
       "      <td>http://www.xinhuanet.com/english/asiapacific/2...</td>\n",
       "    </tr>\n",
       "    <tr>\n",
       "      <td>1</td>\n",
       "      <td>Afghanistan</td>\n",
       "      <td>AFG</td>\n",
       "      <td>2021-02-23</td>\n",
       "      <td>NaN</td>\n",
       "      <td>NaN</td>\n",
       "      <td>NaN</td>\n",
       "      <td>NaN</td>\n",
       "      <td>1367.0</td>\n",
       "      <td>NaN</td>\n",
       "      <td>NaN</td>\n",
       "      <td>NaN</td>\n",
       "      <td>35.0</td>\n",
       "      <td>Oxford/AstraZeneca</td>\n",
       "      <td>Government of Afghanistan</td>\n",
       "      <td>http://www.xinhuanet.com/english/asiapacific/2...</td>\n",
       "    </tr>\n",
       "    <tr>\n",
       "      <td>2</td>\n",
       "      <td>Afghanistan</td>\n",
       "      <td>AFG</td>\n",
       "      <td>2021-02-24</td>\n",
       "      <td>NaN</td>\n",
       "      <td>NaN</td>\n",
       "      <td>NaN</td>\n",
       "      <td>NaN</td>\n",
       "      <td>1367.0</td>\n",
       "      <td>NaN</td>\n",
       "      <td>NaN</td>\n",
       "      <td>NaN</td>\n",
       "      <td>35.0</td>\n",
       "      <td>Oxford/AstraZeneca</td>\n",
       "      <td>Government of Afghanistan</td>\n",
       "      <td>http://www.xinhuanet.com/english/asiapacific/2...</td>\n",
       "    </tr>\n",
       "    <tr>\n",
       "      <td>3</td>\n",
       "      <td>Afghanistan</td>\n",
       "      <td>AFG</td>\n",
       "      <td>2021-02-25</td>\n",
       "      <td>NaN</td>\n",
       "      <td>NaN</td>\n",
       "      <td>NaN</td>\n",
       "      <td>NaN</td>\n",
       "      <td>1367.0</td>\n",
       "      <td>NaN</td>\n",
       "      <td>NaN</td>\n",
       "      <td>NaN</td>\n",
       "      <td>35.0</td>\n",
       "      <td>Oxford/AstraZeneca</td>\n",
       "      <td>Government of Afghanistan</td>\n",
       "      <td>http://www.xinhuanet.com/english/asiapacific/2...</td>\n",
       "    </tr>\n",
       "    <tr>\n",
       "      <td>4</td>\n",
       "      <td>Afghanistan</td>\n",
       "      <td>AFG</td>\n",
       "      <td>2021-02-26</td>\n",
       "      <td>NaN</td>\n",
       "      <td>NaN</td>\n",
       "      <td>NaN</td>\n",
       "      <td>NaN</td>\n",
       "      <td>1367.0</td>\n",
       "      <td>NaN</td>\n",
       "      <td>NaN</td>\n",
       "      <td>NaN</td>\n",
       "      <td>35.0</td>\n",
       "      <td>Oxford/AstraZeneca</td>\n",
       "      <td>Government of Afghanistan</td>\n",
       "      <td>http://www.xinhuanet.com/english/asiapacific/2...</td>\n",
       "    </tr>\n",
       "    <tr>\n",
       "      <td>...</td>\n",
       "      <td>...</td>\n",
       "      <td>...</td>\n",
       "      <td>...</td>\n",
       "      <td>...</td>\n",
       "      <td>...</td>\n",
       "      <td>...</td>\n",
       "      <td>...</td>\n",
       "      <td>...</td>\n",
       "      <td>...</td>\n",
       "      <td>...</td>\n",
       "      <td>...</td>\n",
       "      <td>...</td>\n",
       "      <td>...</td>\n",
       "      <td>...</td>\n",
       "      <td>...</td>\n",
       "    </tr>\n",
       "    <tr>\n",
       "      <td>12151</td>\n",
       "      <td>Zimbabwe</td>\n",
       "      <td>ZWE</td>\n",
       "      <td>2021-04-12</td>\n",
       "      <td>234579.0</td>\n",
       "      <td>205275.0</td>\n",
       "      <td>29304.0</td>\n",
       "      <td>11087.0</td>\n",
       "      <td>12724.0</td>\n",
       "      <td>1.58</td>\n",
       "      <td>1.38</td>\n",
       "      <td>0.20</td>\n",
       "      <td>856.0</td>\n",
       "      <td>Sinopharm/Beijing</td>\n",
       "      <td>Ministry of Health</td>\n",
       "      <td>https://twitter.com/MoHCCZim/status/1383174384...</td>\n",
       "    </tr>\n",
       "    <tr>\n",
       "      <td>12152</td>\n",
       "      <td>Zimbabwe</td>\n",
       "      <td>ZWE</td>\n",
       "      <td>2021-04-13</td>\n",
       "      <td>248355.0</td>\n",
       "      <td>218516.0</td>\n",
       "      <td>29839.0</td>\n",
       "      <td>13776.0</td>\n",
       "      <td>12246.0</td>\n",
       "      <td>1.67</td>\n",
       "      <td>1.47</td>\n",
       "      <td>0.20</td>\n",
       "      <td>824.0</td>\n",
       "      <td>Sinopharm/Beijing</td>\n",
       "      <td>Ministry of Health</td>\n",
       "      <td>https://twitter.com/MoHCCZim/status/1383174384...</td>\n",
       "    </tr>\n",
       "    <tr>\n",
       "      <td>12153</td>\n",
       "      <td>Zimbabwe</td>\n",
       "      <td>ZWE</td>\n",
       "      <td>2021-04-14</td>\n",
       "      <td>262128.0</td>\n",
       "      <td>231632.0</td>\n",
       "      <td>30496.0</td>\n",
       "      <td>13773.0</td>\n",
       "      <td>11816.0</td>\n",
       "      <td>1.76</td>\n",
       "      <td>1.56</td>\n",
       "      <td>0.21</td>\n",
       "      <td>795.0</td>\n",
       "      <td>Sinopharm/Beijing</td>\n",
       "      <td>Ministry of Health</td>\n",
       "      <td>https://twitter.com/MoHCCZim/status/1383174384...</td>\n",
       "    </tr>\n",
       "    <tr>\n",
       "      <td>12154</td>\n",
       "      <td>Zimbabwe</td>\n",
       "      <td>ZWE</td>\n",
       "      <td>2021-04-15</td>\n",
       "      <td>285881.0</td>\n",
       "      <td>252932.0</td>\n",
       "      <td>32949.0</td>\n",
       "      <td>23753.0</td>\n",
       "      <td>13172.0</td>\n",
       "      <td>1.92</td>\n",
       "      <td>1.70</td>\n",
       "      <td>0.22</td>\n",
       "      <td>886.0</td>\n",
       "      <td>Sinopharm/Beijing</td>\n",
       "      <td>Ministry of Health</td>\n",
       "      <td>https://twitter.com/MoHCCZim/status/1383174384...</td>\n",
       "    </tr>\n",
       "    <tr>\n",
       "      <td>12155</td>\n",
       "      <td>Zimbabwe</td>\n",
       "      <td>ZWE</td>\n",
       "      <td>2021-04-16</td>\n",
       "      <td>304701.0</td>\n",
       "      <td>269732.0</td>\n",
       "      <td>34969.0</td>\n",
       "      <td>18820.0</td>\n",
       "      <td>14071.0</td>\n",
       "      <td>2.05</td>\n",
       "      <td>1.81</td>\n",
       "      <td>0.24</td>\n",
       "      <td>947.0</td>\n",
       "      <td>Sinopharm/Beijing</td>\n",
       "      <td>Ministry of Health</td>\n",
       "      <td>https://twitter.com/MoHCCZim/status/1383174384...</td>\n",
       "    </tr>\n",
       "  </tbody>\n",
       "</table>\n",
       "<p>12156 rows × 15 columns</p>\n",
       "</div>"
      ],
      "text/plain": [
       "           country iso_code        date  total_vaccinations  \\\n",
       "0      Afghanistan      AFG  2021-02-22                 0.0   \n",
       "1      Afghanistan      AFG  2021-02-23                 NaN   \n",
       "2      Afghanistan      AFG  2021-02-24                 NaN   \n",
       "3      Afghanistan      AFG  2021-02-25                 NaN   \n",
       "4      Afghanistan      AFG  2021-02-26                 NaN   \n",
       "...            ...      ...         ...                 ...   \n",
       "12151     Zimbabwe      ZWE  2021-04-12            234579.0   \n",
       "12152     Zimbabwe      ZWE  2021-04-13            248355.0   \n",
       "12153     Zimbabwe      ZWE  2021-04-14            262128.0   \n",
       "12154     Zimbabwe      ZWE  2021-04-15            285881.0   \n",
       "12155     Zimbabwe      ZWE  2021-04-16            304701.0   \n",
       "\n",
       "       people_vaccinated  people_fully_vaccinated  daily_vaccinations_raw  \\\n",
       "0                    0.0                      NaN                     NaN   \n",
       "1                    NaN                      NaN                     NaN   \n",
       "2                    NaN                      NaN                     NaN   \n",
       "3                    NaN                      NaN                     NaN   \n",
       "4                    NaN                      NaN                     NaN   \n",
       "...                  ...                      ...                     ...   \n",
       "12151           205275.0                  29304.0                 11087.0   \n",
       "12152           218516.0                  29839.0                 13776.0   \n",
       "12153           231632.0                  30496.0                 13773.0   \n",
       "12154           252932.0                  32949.0                 23753.0   \n",
       "12155           269732.0                  34969.0                 18820.0   \n",
       "\n",
       "       daily_vaccinations  total_vaccinations_per_hundred  \\\n",
       "0                     NaN                            0.00   \n",
       "1                  1367.0                             NaN   \n",
       "2                  1367.0                             NaN   \n",
       "3                  1367.0                             NaN   \n",
       "4                  1367.0                             NaN   \n",
       "...                   ...                             ...   \n",
       "12151             12724.0                            1.58   \n",
       "12152             12246.0                            1.67   \n",
       "12153             11816.0                            1.76   \n",
       "12154             13172.0                            1.92   \n",
       "12155             14071.0                            2.05   \n",
       "\n",
       "       people_vaccinated_per_hundred  people_fully_vaccinated_per_hundred  \\\n",
       "0                               0.00                                  NaN   \n",
       "1                                NaN                                  NaN   \n",
       "2                                NaN                                  NaN   \n",
       "3                                NaN                                  NaN   \n",
       "4                                NaN                                  NaN   \n",
       "...                              ...                                  ...   \n",
       "12151                           1.38                                 0.20   \n",
       "12152                           1.47                                 0.20   \n",
       "12153                           1.56                                 0.21   \n",
       "12154                           1.70                                 0.22   \n",
       "12155                           1.81                                 0.24   \n",
       "\n",
       "       daily_vaccinations_per_million            vaccines  \\\n",
       "0                                 NaN  Oxford/AstraZeneca   \n",
       "1                                35.0  Oxford/AstraZeneca   \n",
       "2                                35.0  Oxford/AstraZeneca   \n",
       "3                                35.0  Oxford/AstraZeneca   \n",
       "4                                35.0  Oxford/AstraZeneca   \n",
       "...                               ...                 ...   \n",
       "12151                           856.0   Sinopharm/Beijing   \n",
       "12152                           824.0   Sinopharm/Beijing   \n",
       "12153                           795.0   Sinopharm/Beijing   \n",
       "12154                           886.0   Sinopharm/Beijing   \n",
       "12155                           947.0   Sinopharm/Beijing   \n",
       "\n",
       "                     source_name  \\\n",
       "0      Government of Afghanistan   \n",
       "1      Government of Afghanistan   \n",
       "2      Government of Afghanistan   \n",
       "3      Government of Afghanistan   \n",
       "4      Government of Afghanistan   \n",
       "...                          ...   \n",
       "12151         Ministry of Health   \n",
       "12152         Ministry of Health   \n",
       "12153         Ministry of Health   \n",
       "12154         Ministry of Health   \n",
       "12155         Ministry of Health   \n",
       "\n",
       "                                          source_website  \n",
       "0      http://www.xinhuanet.com/english/asiapacific/2...  \n",
       "1      http://www.xinhuanet.com/english/asiapacific/2...  \n",
       "2      http://www.xinhuanet.com/english/asiapacific/2...  \n",
       "3      http://www.xinhuanet.com/english/asiapacific/2...  \n",
       "4      http://www.xinhuanet.com/english/asiapacific/2...  \n",
       "...                                                  ...  \n",
       "12151  https://twitter.com/MoHCCZim/status/1383174384...  \n",
       "12152  https://twitter.com/MoHCCZim/status/1383174384...  \n",
       "12153  https://twitter.com/MoHCCZim/status/1383174384...  \n",
       "12154  https://twitter.com/MoHCCZim/status/1383174384...  \n",
       "12155  https://twitter.com/MoHCCZim/status/1383174384...  \n",
       "\n",
       "[12156 rows x 15 columns]"
      ]
     },
     "execution_count": 89,
     "metadata": {},
     "output_type": "execute_result"
    }
   ],
   "source": [
    "data"
   ]
  },
  {
   "cell_type": "code",
   "execution_count": null,
   "metadata": {},
   "outputs": [],
   "source": []
  },
  {
   "cell_type": "code",
   "execution_count": 90,
   "metadata": {},
   "outputs": [
    {
     "data": {
      "text/plain": [
       "Index(['country', 'iso_code', 'date', 'total_vaccinations',\n",
       "       'people_vaccinated', 'people_fully_vaccinated',\n",
       "       'daily_vaccinations_raw', 'daily_vaccinations',\n",
       "       'total_vaccinations_per_hundred', 'people_vaccinated_per_hundred',\n",
       "       'people_fully_vaccinated_per_hundred', 'daily_vaccinations_per_million',\n",
       "       'vaccines', 'source_name', 'source_website'],\n",
       "      dtype='object')"
      ]
     },
     "execution_count": 90,
     "metadata": {},
     "output_type": "execute_result"
    }
   ],
   "source": [
    "data.columns"
   ]
  },
  {
   "cell_type": "markdown",
   "metadata": {},
   "source": [
    "# Overview\n",
    "The data (country vaccinations) contains the following information:\n",
    "\n",
    "Country- this is the country for which the vaccination information is provided;\n",
    "\n",
    "Country ISO Code - ISO code for the country;\n",
    "\n",
    "Date - date for the data entry; for some of the dates we have only the daily vaccinations, for others, only the (cumulative)          total;\n",
    "\n",
    "Total number of vaccinations - this is the absolute number of total immunizations in the country;\n",
    "\n",
    "Total number of people vaccinated - a person, depending on the immunization scheme, will receive one or more (typically 2)                          vaccines; at a certain moment, the number of vaccination might be larger than the number of people;\n",
    "\n",
    "Total number of people fully vaccinated - this is the number of people that received the entire set of immunization according to the immunization scheme (typically 2); at a certain moment in time, there might be a certain number of people that received one vaccine and another number (smaller) of people that received all vaccines in the scheme;\n",
    "\n",
    "Daily vaccinations (raw) - for a certain data entry, the number of vaccination for that date/country;\n",
    "\n",
    "Daily vaccinations - for a certain data entry, the number of vaccination for that date/country;\n",
    "\n",
    "Total vaccinations per hundred - ratio (in percent) between vaccination number and total population up to the date in the country;\n",
    "\n",
    "Total number of people vaccinated per hundred - ratio (in percent) between population immunized and total population up to the date in the country;\n",
    "\n",
    "Total number of people fully vaccinated per hundred - ratio (in percent) between population fully immunized and total population up to the date in the country;\n",
    "\n",
    "Number of vaccinations per day - number of daily vaccination for that day and country;\n",
    "\n",
    "Daily vaccinations per million - ratio (in ppm) between vaccination number and total population for the current date in the   country;\n",
    "\n",
    "Vaccines used in the country - total number of vaccines used in the country (up to date);\n",
    "\n",
    "Source name - source of the information (national authority, international organization, local organization etc.);\n",
    "\n",
    "Source website - website of the source of information;"
   ]
  },
  {
   "cell_type": "markdown",
   "metadata": {},
   "source": [
    "# 2. Renaming the column names with labels"
   ]
  },
  {
   "cell_type": "code",
   "execution_count": 72,
   "metadata": {},
   "outputs": [],
   "source": [
    "data.columns=['Country_name','ISO_Code_for_country','Calendar_date','Total_vaccinations_per_date_and_country',\n",
    "             'Number_of_people_vaccinated','Number_of_people_fully_vaccinated','Daily_vaccinations(raw data)',\n",
    "             'Daily_vaccination','Total_vaccination_percent','People_vaccinated_percent','People_fully_vaccinated_percent',\n",
    "             'Daily_vaccinations_per_million','The_combination_of_vaccines_used_by_a_country',\n",
    "             'Source_authority_name','Source_website']"
   ]
  },
  {
   "cell_type": "code",
   "execution_count": 73,
   "metadata": {},
   "outputs": [
    {
     "data": {
      "text/plain": [
       "Index(['Country_name', 'ISO_Code_for_country', 'Calendar_date',\n",
       "       'Total_vaccinations_per_date_and_country',\n",
       "       'Number_of_people_vaccinated', 'Number_of_people_fully_vaccinated',\n",
       "       'Daily_vaccinations(raw data)', 'Daily_vaccination',\n",
       "       'Total_vaccination_percent', 'People_vaccinated_percent',\n",
       "       'People_fully_vaccinated_percent', 'Daily_vaccinations_per_million',\n",
       "       'The_combination_of_vaccines_used_by_a_country',\n",
       "       'Source_authority_name', 'Source_website'],\n",
       "      dtype='object')"
      ]
     },
     "execution_count": 73,
     "metadata": {},
     "output_type": "execute_result"
    }
   ],
   "source": [
    "data.columns"
   ]
  },
  {
   "cell_type": "markdown",
   "metadata": {},
   "source": [
    "# 3. Last 5 rows of the dataset"
   ]
  },
  {
   "cell_type": "code",
   "execution_count": 12,
   "metadata": {},
   "outputs": [
    {
     "data": {
      "text/html": [
       "<div>\n",
       "<style scoped>\n",
       "    .dataframe tbody tr th:only-of-type {\n",
       "        vertical-align: middle;\n",
       "    }\n",
       "\n",
       "    .dataframe tbody tr th {\n",
       "        vertical-align: top;\n",
       "    }\n",
       "\n",
       "    .dataframe thead th {\n",
       "        text-align: right;\n",
       "    }\n",
       "</style>\n",
       "<table border=\"1\" class=\"dataframe\">\n",
       "  <thead>\n",
       "    <tr style=\"text-align: right;\">\n",
       "      <th></th>\n",
       "      <th>Country_name</th>\n",
       "      <th>ISO_Code_for_country</th>\n",
       "      <th>Calendar_date</th>\n",
       "      <th>Total_vaccinations_per_date_and_country</th>\n",
       "      <th>Number_of_people_vaccinated</th>\n",
       "      <th>Number_of_people_fully_vaccinated</th>\n",
       "      <th>Daily_vaccinations(raw data)</th>\n",
       "      <th>Daily_vaccination</th>\n",
       "      <th>Total_vaccination_percent</th>\n",
       "      <th>People_vaccinated_percent</th>\n",
       "      <th>People_fully_vaccinated_percent</th>\n",
       "      <th>Daily vaccinations per million</th>\n",
       "      <th>The_combination_of_vaccines_used_by_a_country</th>\n",
       "      <th>Source_authority_name</th>\n",
       "      <th>Source_website</th>\n",
       "    </tr>\n",
       "  </thead>\n",
       "  <tbody>\n",
       "    <tr>\n",
       "      <td>12151</td>\n",
       "      <td>Zimbabwe</td>\n",
       "      <td>ZWE</td>\n",
       "      <td>2021-04-12</td>\n",
       "      <td>234579.0</td>\n",
       "      <td>205275.0</td>\n",
       "      <td>29304.0</td>\n",
       "      <td>11087.0</td>\n",
       "      <td>12724.0</td>\n",
       "      <td>1.58</td>\n",
       "      <td>1.38</td>\n",
       "      <td>0.20</td>\n",
       "      <td>856.0</td>\n",
       "      <td>Sinopharm/Beijing</td>\n",
       "      <td>Ministry of Health</td>\n",
       "      <td>https://twitter.com/MoHCCZim/status/1383174384...</td>\n",
       "    </tr>\n",
       "    <tr>\n",
       "      <td>12152</td>\n",
       "      <td>Zimbabwe</td>\n",
       "      <td>ZWE</td>\n",
       "      <td>2021-04-13</td>\n",
       "      <td>248355.0</td>\n",
       "      <td>218516.0</td>\n",
       "      <td>29839.0</td>\n",
       "      <td>13776.0</td>\n",
       "      <td>12246.0</td>\n",
       "      <td>1.67</td>\n",
       "      <td>1.47</td>\n",
       "      <td>0.20</td>\n",
       "      <td>824.0</td>\n",
       "      <td>Sinopharm/Beijing</td>\n",
       "      <td>Ministry of Health</td>\n",
       "      <td>https://twitter.com/MoHCCZim/status/1383174384...</td>\n",
       "    </tr>\n",
       "    <tr>\n",
       "      <td>12153</td>\n",
       "      <td>Zimbabwe</td>\n",
       "      <td>ZWE</td>\n",
       "      <td>2021-04-14</td>\n",
       "      <td>262128.0</td>\n",
       "      <td>231632.0</td>\n",
       "      <td>30496.0</td>\n",
       "      <td>13773.0</td>\n",
       "      <td>11816.0</td>\n",
       "      <td>1.76</td>\n",
       "      <td>1.56</td>\n",
       "      <td>0.21</td>\n",
       "      <td>795.0</td>\n",
       "      <td>Sinopharm/Beijing</td>\n",
       "      <td>Ministry of Health</td>\n",
       "      <td>https://twitter.com/MoHCCZim/status/1383174384...</td>\n",
       "    </tr>\n",
       "    <tr>\n",
       "      <td>12154</td>\n",
       "      <td>Zimbabwe</td>\n",
       "      <td>ZWE</td>\n",
       "      <td>2021-04-15</td>\n",
       "      <td>285881.0</td>\n",
       "      <td>252932.0</td>\n",
       "      <td>32949.0</td>\n",
       "      <td>23753.0</td>\n",
       "      <td>13172.0</td>\n",
       "      <td>1.92</td>\n",
       "      <td>1.70</td>\n",
       "      <td>0.22</td>\n",
       "      <td>886.0</td>\n",
       "      <td>Sinopharm/Beijing</td>\n",
       "      <td>Ministry of Health</td>\n",
       "      <td>https://twitter.com/MoHCCZim/status/1383174384...</td>\n",
       "    </tr>\n",
       "    <tr>\n",
       "      <td>12155</td>\n",
       "      <td>Zimbabwe</td>\n",
       "      <td>ZWE</td>\n",
       "      <td>2021-04-16</td>\n",
       "      <td>304701.0</td>\n",
       "      <td>269732.0</td>\n",
       "      <td>34969.0</td>\n",
       "      <td>18820.0</td>\n",
       "      <td>14071.0</td>\n",
       "      <td>2.05</td>\n",
       "      <td>1.81</td>\n",
       "      <td>0.24</td>\n",
       "      <td>947.0</td>\n",
       "      <td>Sinopharm/Beijing</td>\n",
       "      <td>Ministry of Health</td>\n",
       "      <td>https://twitter.com/MoHCCZim/status/1383174384...</td>\n",
       "    </tr>\n",
       "  </tbody>\n",
       "</table>\n",
       "</div>"
      ],
      "text/plain": [
       "      Country_name ISO_Code_for_country Calendar_date  \\\n",
       "12151     Zimbabwe                  ZWE    2021-04-12   \n",
       "12152     Zimbabwe                  ZWE    2021-04-13   \n",
       "12153     Zimbabwe                  ZWE    2021-04-14   \n",
       "12154     Zimbabwe                  ZWE    2021-04-15   \n",
       "12155     Zimbabwe                  ZWE    2021-04-16   \n",
       "\n",
       "       Total_vaccinations_per_date_and_country  Number_of_people_vaccinated  \\\n",
       "12151                                 234579.0                     205275.0   \n",
       "12152                                 248355.0                     218516.0   \n",
       "12153                                 262128.0                     231632.0   \n",
       "12154                                 285881.0                     252932.0   \n",
       "12155                                 304701.0                     269732.0   \n",
       "\n",
       "       Number_of_people_fully_vaccinated  Daily_vaccinations(raw data)  \\\n",
       "12151                            29304.0                       11087.0   \n",
       "12152                            29839.0                       13776.0   \n",
       "12153                            30496.0                       13773.0   \n",
       "12154                            32949.0                       23753.0   \n",
       "12155                            34969.0                       18820.0   \n",
       "\n",
       "       Daily_vaccination  Total_vaccination_percent  \\\n",
       "12151            12724.0                       1.58   \n",
       "12152            12246.0                       1.67   \n",
       "12153            11816.0                       1.76   \n",
       "12154            13172.0                       1.92   \n",
       "12155            14071.0                       2.05   \n",
       "\n",
       "       People_vaccinated_percent  People_fully_vaccinated_percent  \\\n",
       "12151                       1.38                             0.20   \n",
       "12152                       1.47                             0.20   \n",
       "12153                       1.56                             0.21   \n",
       "12154                       1.70                             0.22   \n",
       "12155                       1.81                             0.24   \n",
       "\n",
       "       Daily vaccinations per million  \\\n",
       "12151                           856.0   \n",
       "12152                           824.0   \n",
       "12153                           795.0   \n",
       "12154                           886.0   \n",
       "12155                           947.0   \n",
       "\n",
       "      The_combination_of_vaccines_used_by_a_country Source_authority_name  \\\n",
       "12151                             Sinopharm/Beijing    Ministry of Health   \n",
       "12152                             Sinopharm/Beijing    Ministry of Health   \n",
       "12153                             Sinopharm/Beijing    Ministry of Health   \n",
       "12154                             Sinopharm/Beijing    Ministry of Health   \n",
       "12155                             Sinopharm/Beijing    Ministry of Health   \n",
       "\n",
       "                                          Source_website  \n",
       "12151  https://twitter.com/MoHCCZim/status/1383174384...  \n",
       "12152  https://twitter.com/MoHCCZim/status/1383174384...  \n",
       "12153  https://twitter.com/MoHCCZim/status/1383174384...  \n",
       "12154  https://twitter.com/MoHCCZim/status/1383174384...  \n",
       "12155  https://twitter.com/MoHCCZim/status/1383174384...  "
      ]
     },
     "execution_count": 12,
     "metadata": {},
     "output_type": "execute_result"
    }
   ],
   "source": [
    "data.tail(5)"
   ]
  },
  {
   "cell_type": "markdown",
   "metadata": {},
   "source": [
    "# 4. Shape of the dataset (rows,columns)"
   ]
  },
  {
   "cell_type": "code",
   "execution_count": 13,
   "metadata": {},
   "outputs": [
    {
     "data": {
      "text/plain": [
       "(12156, 15)"
      ]
     },
     "execution_count": 13,
     "metadata": {},
     "output_type": "execute_result"
    }
   ],
   "source": [
    "data.shape"
   ]
  },
  {
   "cell_type": "markdown",
   "metadata": {},
   "source": [
    "# 5. Looking at the datatype and memory information"
   ]
  },
  {
   "cell_type": "code",
   "execution_count": 14,
   "metadata": {},
   "outputs": [
    {
     "name": "stdout",
     "output_type": "stream",
     "text": [
      "<class 'pandas.core.frame.DataFrame'>\n",
      "RangeIndex: 12156 entries, 0 to 12155\n",
      "Data columns (total 15 columns):\n",
      "Country_name                                     12156 non-null object\n",
      "ISO_Code_for_country                             12156 non-null object\n",
      "Calendar_date                                    12156 non-null object\n",
      "Total_vaccinations_per_date_and_country          7316 non-null float64\n",
      "Number_of_people_vaccinated                      6661 non-null float64\n",
      "Number_of_people_fully_vaccinated                4784 non-null float64\n",
      "Daily_vaccinations(raw data)                     6158 non-null float64\n",
      "Daily_vaccination                                11946 non-null float64\n",
      "Total_vaccination_percent                        7316 non-null float64\n",
      "People_vaccinated_percent                        6661 non-null float64\n",
      "People_fully_vaccinated_percent                  4784 non-null float64\n",
      "Daily vaccinations per million                   11946 non-null float64\n",
      "The_combination_of_vaccines_used_by_a_country    12156 non-null object\n",
      "Source_authority_name                            12156 non-null object\n",
      "Source_website                                   12156 non-null object\n",
      "dtypes: float64(9), object(6)\n",
      "memory usage: 1.4+ MB\n"
     ]
    }
   ],
   "source": [
    "data.info()"
   ]
  },
  {
   "cell_type": "markdown",
   "metadata": {},
   "source": [
    "# 6. Summary statistics of the numerical column"
   ]
  },
  {
   "cell_type": "code",
   "execution_count": 15,
   "metadata": {},
   "outputs": [
    {
     "data": {
      "text/html": [
       "<div>\n",
       "<style scoped>\n",
       "    .dataframe tbody tr th:only-of-type {\n",
       "        vertical-align: middle;\n",
       "    }\n",
       "\n",
       "    .dataframe tbody tr th {\n",
       "        vertical-align: top;\n",
       "    }\n",
       "\n",
       "    .dataframe thead th {\n",
       "        text-align: right;\n",
       "    }\n",
       "</style>\n",
       "<table border=\"1\" class=\"dataframe\">\n",
       "  <thead>\n",
       "    <tr style=\"text-align: right;\">\n",
       "      <th></th>\n",
       "      <th>Total_vaccinations_per_date_and_country</th>\n",
       "      <th>Number_of_people_vaccinated</th>\n",
       "      <th>Number_of_people_fully_vaccinated</th>\n",
       "      <th>Daily_vaccinations(raw data)</th>\n",
       "      <th>Daily_vaccination</th>\n",
       "      <th>Total_vaccination_percent</th>\n",
       "      <th>People_vaccinated_percent</th>\n",
       "      <th>People_fully_vaccinated_percent</th>\n",
       "      <th>Daily vaccinations per million</th>\n",
       "    </tr>\n",
       "  </thead>\n",
       "  <tbody>\n",
       "    <tr>\n",
       "      <td>count</td>\n",
       "      <td>7.316000e+03</td>\n",
       "      <td>6.661000e+03</td>\n",
       "      <td>4.784000e+03</td>\n",
       "      <td>6.158000e+03</td>\n",
       "      <td>1.194600e+04</td>\n",
       "      <td>7316.000000</td>\n",
       "      <td>6661.000000</td>\n",
       "      <td>4784.000000</td>\n",
       "      <td>11946.000000</td>\n",
       "    </tr>\n",
       "    <tr>\n",
       "      <td>mean</td>\n",
       "      <td>3.946801e+06</td>\n",
       "      <td>2.716129e+06</td>\n",
       "      <td>1.263383e+06</td>\n",
       "      <td>1.228644e+05</td>\n",
       "      <td>7.222971e+04</td>\n",
       "      <td>13.019794</td>\n",
       "      <td>9.686615</td>\n",
       "      <td>4.725422</td>\n",
       "      <td>2852.309057</td>\n",
       "    </tr>\n",
       "    <tr>\n",
       "      <td>std</td>\n",
       "      <td>1.561611e+07</td>\n",
       "      <td>9.817144e+06</td>\n",
       "      <td>5.344869e+06</td>\n",
       "      <td>4.582579e+05</td>\n",
       "      <td>3.163995e+05</td>\n",
       "      <td>21.148911</td>\n",
       "      <td>14.097287</td>\n",
       "      <td>9.294781</td>\n",
       "      <td>4869.798727</td>\n",
       "    </tr>\n",
       "    <tr>\n",
       "      <td>min</td>\n",
       "      <td>0.000000e+00</td>\n",
       "      <td>0.000000e+00</td>\n",
       "      <td>1.000000e+00</td>\n",
       "      <td>-2.928600e+04</td>\n",
       "      <td>0.000000e+00</td>\n",
       "      <td>0.000000</td>\n",
       "      <td>0.000000</td>\n",
       "      <td>0.000000</td>\n",
       "      <td>0.000000</td>\n",
       "    </tr>\n",
       "    <tr>\n",
       "      <td>25%</td>\n",
       "      <td>5.076275e+04</td>\n",
       "      <td>4.517400e+04</td>\n",
       "      <td>2.064000e+04</td>\n",
       "      <td>2.783250e+03</td>\n",
       "      <td>9.080000e+02</td>\n",
       "      <td>1.030000</td>\n",
       "      <td>0.960000</td>\n",
       "      <td>0.507500</td>\n",
       "      <td>331.000000</td>\n",
       "    </tr>\n",
       "    <tr>\n",
       "      <td>50%</td>\n",
       "      <td>3.491235e+05</td>\n",
       "      <td>2.883190e+05</td>\n",
       "      <td>1.448750e+05</td>\n",
       "      <td>1.487900e+04</td>\n",
       "      <td>5.941000e+03</td>\n",
       "      <td>5.015000</td>\n",
       "      <td>3.940000</td>\n",
       "      <td>1.840000</td>\n",
       "      <td>1398.000000</td>\n",
       "    </tr>\n",
       "    <tr>\n",
       "      <td>75%</td>\n",
       "      <td>1.641268e+06</td>\n",
       "      <td>1.196551e+06</td>\n",
       "      <td>5.955172e+05</td>\n",
       "      <td>5.897575e+04</td>\n",
       "      <td>2.712425e+04</td>\n",
       "      <td>15.817500</td>\n",
       "      <td>11.730000</td>\n",
       "      <td>4.840000</td>\n",
       "      <td>3567.500000</td>\n",
       "    </tr>\n",
       "    <tr>\n",
       "      <td>max</td>\n",
       "      <td>2.022829e+08</td>\n",
       "      <td>1.277431e+08</td>\n",
       "      <td>8.060982e+07</td>\n",
       "      <td>7.185000e+06</td>\n",
       "      <td>5.190143e+06</td>\n",
       "      <td>196.590000</td>\n",
       "      <td>106.350000</td>\n",
       "      <td>90.240000</td>\n",
       "      <td>118759.000000</td>\n",
       "    </tr>\n",
       "  </tbody>\n",
       "</table>\n",
       "</div>"
      ],
      "text/plain": [
       "       Total_vaccinations_per_date_and_country  Number_of_people_vaccinated  \\\n",
       "count                             7.316000e+03                 6.661000e+03   \n",
       "mean                              3.946801e+06                 2.716129e+06   \n",
       "std                               1.561611e+07                 9.817144e+06   \n",
       "min                               0.000000e+00                 0.000000e+00   \n",
       "25%                               5.076275e+04                 4.517400e+04   \n",
       "50%                               3.491235e+05                 2.883190e+05   \n",
       "75%                               1.641268e+06                 1.196551e+06   \n",
       "max                               2.022829e+08                 1.277431e+08   \n",
       "\n",
       "       Number_of_people_fully_vaccinated  Daily_vaccinations(raw data)  \\\n",
       "count                       4.784000e+03                  6.158000e+03   \n",
       "mean                        1.263383e+06                  1.228644e+05   \n",
       "std                         5.344869e+06                  4.582579e+05   \n",
       "min                         1.000000e+00                 -2.928600e+04   \n",
       "25%                         2.064000e+04                  2.783250e+03   \n",
       "50%                         1.448750e+05                  1.487900e+04   \n",
       "75%                         5.955172e+05                  5.897575e+04   \n",
       "max                         8.060982e+07                  7.185000e+06   \n",
       "\n",
       "       Daily_vaccination  Total_vaccination_percent  \\\n",
       "count       1.194600e+04                7316.000000   \n",
       "mean        7.222971e+04                  13.019794   \n",
       "std         3.163995e+05                  21.148911   \n",
       "min         0.000000e+00                   0.000000   \n",
       "25%         9.080000e+02                   1.030000   \n",
       "50%         5.941000e+03                   5.015000   \n",
       "75%         2.712425e+04                  15.817500   \n",
       "max         5.190143e+06                 196.590000   \n",
       "\n",
       "       People_vaccinated_percent  People_fully_vaccinated_percent  \\\n",
       "count                6661.000000                      4784.000000   \n",
       "mean                    9.686615                         4.725422   \n",
       "std                    14.097287                         9.294781   \n",
       "min                     0.000000                         0.000000   \n",
       "25%                     0.960000                         0.507500   \n",
       "50%                     3.940000                         1.840000   \n",
       "75%                    11.730000                         4.840000   \n",
       "max                   106.350000                        90.240000   \n",
       "\n",
       "       Daily vaccinations per million  \n",
       "count                    11946.000000  \n",
       "mean                      2852.309057  \n",
       "std                       4869.798727  \n",
       "min                          0.000000  \n",
       "25%                        331.000000  \n",
       "50%                       1398.000000  \n",
       "75%                       3567.500000  \n",
       "max                     118759.000000  "
      ]
     },
     "execution_count": 15,
     "metadata": {},
     "output_type": "execute_result"
    }
   ],
   "source": [
    "data.describe()"
   ]
  },
  {
   "cell_type": "markdown",
   "metadata": {},
   "source": [
    "# 7. Checking the number of non null values in the dataset"
   ]
  },
  {
   "cell_type": "code",
   "execution_count": 16,
   "metadata": {},
   "outputs": [
    {
     "data": {
      "text/plain": [
       "Country_name                                     12156\n",
       "ISO_Code_for_country                             12156\n",
       "Calendar_date                                    12156\n",
       "Total_vaccinations_per_date_and_country           7316\n",
       "Number_of_people_vaccinated                       6661\n",
       "Number_of_people_fully_vaccinated                 4784\n",
       "Daily_vaccinations(raw data)                      6158\n",
       "Daily_vaccination                                11946\n",
       "Total_vaccination_percent                         7316\n",
       "People_vaccinated_percent                         6661\n",
       "People_fully_vaccinated_percent                   4784\n",
       "Daily vaccinations per million                   11946\n",
       "The_combination_of_vaccines_used_by_a_country    12156\n",
       "Source_authority_name                            12156\n",
       "Source_website                                   12156\n",
       "dtype: int64"
      ]
     },
     "execution_count": 16,
     "metadata": {},
     "output_type": "execute_result"
    }
   ],
   "source": [
    "data.count()"
   ]
  },
  {
   "cell_type": "markdown",
   "metadata": {},
   "source": [
    "# 8. Checking the number of null values in the dataset"
   ]
  },
  {
   "cell_type": "code",
   "execution_count": 17,
   "metadata": {},
   "outputs": [
    {
     "data": {
      "text/plain": [
       "Country_name                                        0\n",
       "ISO_Code_for_country                                0\n",
       "Calendar_date                                       0\n",
       "Total_vaccinations_per_date_and_country          4840\n",
       "Number_of_people_vaccinated                      5495\n",
       "Number_of_people_fully_vaccinated                7372\n",
       "Daily_vaccinations(raw data)                     5998\n",
       "Daily_vaccination                                 210\n",
       "Total_vaccination_percent                        4840\n",
       "People_vaccinated_percent                        5495\n",
       "People_fully_vaccinated_percent                  7372\n",
       "Daily vaccinations per million                    210\n",
       "The_combination_of_vaccines_used_by_a_country       0\n",
       "Source_authority_name                               0\n",
       "Source_website                                      0\n",
       "dtype: int64"
      ]
     },
     "execution_count": 17,
     "metadata": {},
     "output_type": "execute_result"
    }
   ],
   "source": [
    "data.isnull().sum()"
   ]
  },
  {
   "cell_type": "code",
   "execution_count": 18,
   "metadata": {},
   "outputs": [],
   "source": [
    "#  In most of the cases we cannot say that, at the particular date how many people\n",
    "# got the vaccination. So, keep the dataset stable, we fill the missing value with the 0, \n",
    "# considoring that at a particular date no one got the vaccine"
   ]
  },
  {
   "cell_type": "markdown",
   "metadata": {},
   "source": [
    "#  9. Filling missing values of all the columns with 0 since only numerical values are missing."
   ]
  },
  {
   "cell_type": "code",
   "execution_count": 19,
   "metadata": {},
   "outputs": [
    {
     "data": {
      "text/plain": [
       "<matplotlib.axes._subplots.AxesSubplot at 0x18fe723e2c8>"
      ]
     },
     "execution_count": 19,
     "metadata": {},
     "output_type": "execute_result"
    },
    {
     "data": {
      "image/png": "[encoded data removed]",
      "text/plain": [
       "<Figure size 432x288 with 2 Axes>"
      ]
     },
     "metadata": {
      "needs_background": "light"
     },
     "output_type": "display_data"
    }
   ],
   "source": [
    "data.fillna(0,inplace=True)\n",
    "sns.heatmap(data.isnull()) #Checking through heatmap if there are any null values left."
   ]
  },
  {
   "cell_type": "markdown",
   "metadata": {},
   "source": [
    "# 10. Checking correlation between variables"
   ]
  },
  {
   "cell_type": "code",
   "execution_count": 20,
   "metadata": {},
   "outputs": [
    {
     "data": {
      "text/html": [
       "<div>\n",
       "<style scoped>\n",
       "    .dataframe tbody tr th:only-of-type {\n",
       "        vertical-align: middle;\n",
       "    }\n",
       "\n",
       "    .dataframe tbody tr th {\n",
       "        vertical-align: top;\n",
       "    }\n",
       "\n",
       "    .dataframe thead th {\n",
       "        text-align: right;\n",
       "    }\n",
       "</style>\n",
       "<table border=\"1\" class=\"dataframe\">\n",
       "  <thead>\n",
       "    <tr style=\"text-align: right;\">\n",
       "      <th></th>\n",
       "      <th>Total_vaccinations_per_date_and_country</th>\n",
       "      <th>Number_of_people_vaccinated</th>\n",
       "      <th>Number_of_people_fully_vaccinated</th>\n",
       "      <th>Daily_vaccinations(raw data)</th>\n",
       "      <th>Daily_vaccination</th>\n",
       "      <th>Total_vaccination_percent</th>\n",
       "      <th>People_vaccinated_percent</th>\n",
       "      <th>People_fully_vaccinated_percent</th>\n",
       "      <th>Daily vaccinations per million</th>\n",
       "    </tr>\n",
       "  </thead>\n",
       "  <tbody>\n",
       "    <tr>\n",
       "      <td>Total_vaccinations_per_date_and_country</td>\n",
       "      <td>1.000000</td>\n",
       "      <td>0.836377</td>\n",
       "      <td>0.800385</td>\n",
       "      <td>0.887730</td>\n",
       "      <td>0.917667</td>\n",
       "      <td>0.195590</td>\n",
       "      <td>0.186650</td>\n",
       "      <td>0.150073</td>\n",
       "      <td>0.081139</td>\n",
       "    </tr>\n",
       "    <tr>\n",
       "      <td>Number_of_people_vaccinated</td>\n",
       "      <td>0.836377</td>\n",
       "      <td>1.000000</td>\n",
       "      <td>0.891147</td>\n",
       "      <td>0.714369</td>\n",
       "      <td>0.726065</td>\n",
       "      <td>0.209579</td>\n",
       "      <td>0.243943</td>\n",
       "      <td>0.167173</td>\n",
       "      <td>0.090498</td>\n",
       "    </tr>\n",
       "    <tr>\n",
       "      <td>Number_of_people_fully_vaccinated</td>\n",
       "      <td>0.800385</td>\n",
       "      <td>0.891147</td>\n",
       "      <td>1.000000</td>\n",
       "      <td>0.616543</td>\n",
       "      <td>0.627481</td>\n",
       "      <td>0.201088</td>\n",
       "      <td>0.201018</td>\n",
       "      <td>0.217233</td>\n",
       "      <td>0.085519</td>\n",
       "    </tr>\n",
       "    <tr>\n",
       "      <td>Daily_vaccinations(raw data)</td>\n",
       "      <td>0.887730</td>\n",
       "      <td>0.714369</td>\n",
       "      <td>0.616543</td>\n",
       "      <td>1.000000</td>\n",
       "      <td>0.914535</td>\n",
       "      <td>0.115672</td>\n",
       "      <td>0.110818</td>\n",
       "      <td>0.081389</td>\n",
       "      <td>0.059835</td>\n",
       "    </tr>\n",
       "    <tr>\n",
       "      <td>Daily_vaccination</td>\n",
       "      <td>0.917667</td>\n",
       "      <td>0.726065</td>\n",
       "      <td>0.627481</td>\n",
       "      <td>0.914535</td>\n",
       "      <td>1.000000</td>\n",
       "      <td>0.107108</td>\n",
       "      <td>0.100998</td>\n",
       "      <td>0.075480</td>\n",
       "      <td>0.053035</td>\n",
       "    </tr>\n",
       "    <tr>\n",
       "      <td>Total_vaccination_percent</td>\n",
       "      <td>0.195590</td>\n",
       "      <td>0.209579</td>\n",
       "      <td>0.201088</td>\n",
       "      <td>0.115672</td>\n",
       "      <td>0.107108</td>\n",
       "      <td>1.000000</td>\n",
       "      <td>0.914291</td>\n",
       "      <td>0.865442</td>\n",
       "      <td>0.478612</td>\n",
       "    </tr>\n",
       "    <tr>\n",
       "      <td>People_vaccinated_percent</td>\n",
       "      <td>0.186650</td>\n",
       "      <td>0.243943</td>\n",
       "      <td>0.201018</td>\n",
       "      <td>0.110818</td>\n",
       "      <td>0.100998</td>\n",
       "      <td>0.914291</td>\n",
       "      <td>1.000000</td>\n",
       "      <td>0.797296</td>\n",
       "      <td>0.491789</td>\n",
       "    </tr>\n",
       "    <tr>\n",
       "      <td>People_fully_vaccinated_percent</td>\n",
       "      <td>0.150073</td>\n",
       "      <td>0.167173</td>\n",
       "      <td>0.217233</td>\n",
       "      <td>0.081389</td>\n",
       "      <td>0.075480</td>\n",
       "      <td>0.865442</td>\n",
       "      <td>0.797296</td>\n",
       "      <td>1.000000</td>\n",
       "      <td>0.349667</td>\n",
       "    </tr>\n",
       "    <tr>\n",
       "      <td>Daily vaccinations per million</td>\n",
       "      <td>0.081139</td>\n",
       "      <td>0.090498</td>\n",
       "      <td>0.085519</td>\n",
       "      <td>0.059835</td>\n",
       "      <td>0.053035</td>\n",
       "      <td>0.478612</td>\n",
       "      <td>0.491789</td>\n",
       "      <td>0.349667</td>\n",
       "      <td>1.000000</td>\n",
       "    </tr>\n",
       "  </tbody>\n",
       "</table>\n",
       "</div>"
      ],
      "text/plain": [
       "                                         Total_vaccinations_per_date_and_country  \\\n",
       "Total_vaccinations_per_date_and_country                                 1.000000   \n",
       "Number_of_people_vaccinated                                             0.836377   \n",
       "Number_of_people_fully_vaccinated                                       0.800385   \n",
       "Daily_vaccinations(raw data)                                            0.887730   \n",
       "Daily_vaccination                                                       0.917667   \n",
       "Total_vaccination_percent                                               0.195590   \n",
       "People_vaccinated_percent                                               0.186650   \n",
       "People_fully_vaccinated_percent                                         0.150073   \n",
       "Daily vaccinations per million                                          0.081139   \n",
       "\n",
       "                                         Number_of_people_vaccinated  \\\n",
       "Total_vaccinations_per_date_and_country                     0.836377   \n",
       "Number_of_people_vaccinated                                 1.000000   \n",
       "Number_of_people_fully_vaccinated                           0.891147   \n",
       "Daily_vaccinations(raw data)                                0.714369   \n",
       "Daily_vaccination                                           0.726065   \n",
       "Total_vaccination_percent                                   0.209579   \n",
       "People_vaccinated_percent                                   0.243943   \n",
       "People_fully_vaccinated_percent                             0.167173   \n",
       "Daily vaccinations per million                              0.090498   \n",
       "\n",
       "                                         Number_of_people_fully_vaccinated  \\\n",
       "Total_vaccinations_per_date_and_country                           0.800385   \n",
       "Number_of_people_vaccinated                                       0.891147   \n",
       "Number_of_people_fully_vaccinated                                 1.000000   \n",
       "Daily_vaccinations(raw data)                                      0.616543   \n",
       "Daily_vaccination                                                 0.627481   \n",
       "Total_vaccination_percent                                         0.201088   \n",
       "People_vaccinated_percent                                         0.201018   \n",
       "People_fully_vaccinated_percent                                   0.217233   \n",
       "Daily vaccinations per million                                    0.085519   \n",
       "\n",
       "                                         Daily_vaccinations(raw data)  \\\n",
       "Total_vaccinations_per_date_and_country                      0.887730   \n",
       "Number_of_people_vaccinated                                  0.714369   \n",
       "Number_of_people_fully_vaccinated                            0.616543   \n",
       "Daily_vaccinations(raw data)                                 1.000000   \n",
       "Daily_vaccination                                            0.914535   \n",
       "Total_vaccination_percent                                    0.115672   \n",
       "People_vaccinated_percent                                    0.110818   \n",
       "People_fully_vaccinated_percent                              0.081389   \n",
       "Daily vaccinations per million                               0.059835   \n",
       "\n",
       "                                         Daily_vaccination  \\\n",
       "Total_vaccinations_per_date_and_country           0.917667   \n",
       "Number_of_people_vaccinated                       0.726065   \n",
       "Number_of_people_fully_vaccinated                 0.627481   \n",
       "Daily_vaccinations(raw data)                      0.914535   \n",
       "Daily_vaccination                                 1.000000   \n",
       "Total_vaccination_percent                         0.107108   \n",
       "People_vaccinated_percent                         0.100998   \n",
       "People_fully_vaccinated_percent                   0.075480   \n",
       "Daily vaccinations per million                    0.053035   \n",
       "\n",
       "                                         Total_vaccination_percent  \\\n",
       "Total_vaccinations_per_date_and_country                   0.195590   \n",
       "Number_of_people_vaccinated                               0.209579   \n",
       "Number_of_people_fully_vaccinated                         0.201088   \n",
       "Daily_vaccinations(raw data)                              0.115672   \n",
       "Daily_vaccination                                         0.107108   \n",
       "Total_vaccination_percent                                 1.000000   \n",
       "People_vaccinated_percent                                 0.914291   \n",
       "People_fully_vaccinated_percent                           0.865442   \n",
       "Daily vaccinations per million                            0.478612   \n",
       "\n",
       "                                         People_vaccinated_percent  \\\n",
       "Total_vaccinations_per_date_and_country                   0.186650   \n",
       "Number_of_people_vaccinated                               0.243943   \n",
       "Number_of_people_fully_vaccinated                         0.201018   \n",
       "Daily_vaccinations(raw data)                              0.110818   \n",
       "Daily_vaccination                                         0.100998   \n",
       "Total_vaccination_percent                                 0.914291   \n",
       "People_vaccinated_percent                                 1.000000   \n",
       "People_fully_vaccinated_percent                           0.797296   \n",
       "Daily vaccinations per million                            0.491789   \n",
       "\n",
       "                                         People_fully_vaccinated_percent  \\\n",
       "Total_vaccinations_per_date_and_country                         0.150073   \n",
       "Number_of_people_vaccinated                                     0.167173   \n",
       "Number_of_people_fully_vaccinated                               0.217233   \n",
       "Daily_vaccinations(raw data)                                    0.081389   \n",
       "Daily_vaccination                                               0.075480   \n",
       "Total_vaccination_percent                                       0.865442   \n",
       "People_vaccinated_percent                                       0.797296   \n",
       "People_fully_vaccinated_percent                                 1.000000   \n",
       "Daily vaccinations per million                                  0.349667   \n",
       "\n",
       "                                         Daily vaccinations per million  \n",
       "Total_vaccinations_per_date_and_country                        0.081139  \n",
       "Number_of_people_vaccinated                                    0.090498  \n",
       "Number_of_people_fully_vaccinated                              0.085519  \n",
       "Daily_vaccinations(raw data)                                   0.059835  \n",
       "Daily_vaccination                                              0.053035  \n",
       "Total_vaccination_percent                                      0.478612  \n",
       "People_vaccinated_percent                                      0.491789  \n",
       "People_fully_vaccinated_percent                                0.349667  \n",
       "Daily vaccinations per million                                 1.000000  "
      ]
     },
     "execution_count": 20,
     "metadata": {},
     "output_type": "execute_result"
    }
   ],
   "source": [
    "data.corr()"
   ]
  },
  {
   "cell_type": "code",
   "execution_count": 21,
   "metadata": {},
   "outputs": [],
   "source": [
    "import seaborn as sns"
   ]
  },
  {
   "cell_type": "code",
   "execution_count": 22,
   "metadata": {},
   "outputs": [
    {
     "data": {
      "text/plain": [
       "<matplotlib.axes._subplots.AxesSubplot at 0x18fe73f7388>"
      ]
     },
     "execution_count": 22,
     "metadata": {},
     "output_type": "execute_result"
    },
    {
     "data": {
      "image/png": "[encoded data removed]",
      "text/plain": [
       "<Figure size 432x288 with 2 Axes>"
      ]
     },
     "metadata": {
      "needs_background": "light"
     },
     "output_type": "display_data"
    }
   ],
   "source": [
    "sns.heatmap(data.corr(),annot=True,cmap='RdYlGn')"
   ]
  },
  {
   "cell_type": "markdown",
   "metadata": {},
   "source": [
    "# 11.checking the total number of observations per each country"
   ]
  },
  {
   "cell_type": "code",
   "execution_count": 23,
   "metadata": {},
   "outputs": [
    {
     "data": {
      "text/plain": [
       "Canada           124\n",
       "Russia           123\n",
       "China            123\n",
       "Israel           119\n",
       "United States    118\n",
       "                ... \n",
       "Zambia             2\n",
       "Laos               1\n",
       "Ethiopia           1\n",
       "Nicaragua          1\n",
       "Armenia            1\n",
       "Name: Country_name, Length: 182, dtype: int64"
      ]
     },
     "execution_count": 23,
     "metadata": {},
     "output_type": "execute_result"
    }
   ],
   "source": [
    "data.Country_name.value_counts(ascending=False)"
   ]
  },
  {
   "cell_type": "markdown",
   "metadata": {},
   "source": [
    " # 12. Total number of countries available in our dataset"
   ]
  },
  {
   "cell_type": "code",
   "execution_count": 24,
   "metadata": {},
   "outputs": [
    {
     "data": {
      "text/plain": [
       "182"
      ]
     },
     "execution_count": 24,
     "metadata": {},
     "output_type": "execute_result"
    }
   ],
   "source": [
    "data.Country_name.nunique()"
   ]
  },
  {
   "cell_type": "code",
   "execution_count": 25,
   "metadata": {},
   "outputs": [
    {
     "data": {
      "text/plain": [
       "2021-03-31    164\n",
       "2021-03-23    162\n",
       "2021-03-30    161\n",
       "2021-03-29    161\n",
       "2021-03-22    160\n",
       "             ... \n",
       "2020-12-18      3\n",
       "2020-12-16      3\n",
       "2020-12-15      3\n",
       "2020-12-17      3\n",
       "2020-12-14      1\n",
       "Name: Calendar_date, Length: 124, dtype: int64"
      ]
     },
     "execution_count": 25,
     "metadata": {},
     "output_type": "execute_result"
    }
   ],
   "source": [
    "data.Calendar_date.value_counts()"
   ]
  },
  {
   "cell_type": "markdown",
   "metadata": {},
   "source": [
    "# 13. Number of unique dates available in our dataset"
   ]
  },
  {
   "cell_type": "code",
   "execution_count": 26,
   "metadata": {},
   "outputs": [
    {
     "data": {
      "text/plain": [
       "124"
      ]
     },
     "execution_count": 26,
     "metadata": {},
     "output_type": "execute_result"
    }
   ],
   "source": [
    "data.Calendar_date.nunique()"
   ]
  },
  {
   "cell_type": "markdown",
   "metadata": {},
   "source": [
    "#  14. Types of vaccines available in our dataset"
   ]
  },
  {
   "cell_type": "code",
   "execution_count": 27,
   "metadata": {},
   "outputs": [
    {
     "data": {
      "text/plain": [
       "Moderna, Oxford/AstraZeneca, Pfizer/BioNTech                                          2772\n",
       "Oxford/AstraZeneca                                                                    2024\n",
       "Oxford/AstraZeneca, Pfizer/BioNTech                                                   1374\n",
       "Pfizer/BioNTech                                                                       1336\n",
       "Pfizer/BioNTech, Sinovac                                                               516\n",
       "Moderna, Pfizer/BioNTech                                                               476\n",
       "Sputnik V                                                                              419\n",
       "Oxford/AstraZeneca, Sinovac                                                            337\n",
       "Oxford/AstraZeneca, Sinopharm/Beijing                                                  281\n",
       "Oxford/AstraZeneca, Pfizer/BioNTech, Sinopharm/Beijing, Sputnik V                      277\n",
       "Oxford/AstraZeneca, Sinopharm/Beijing, Sputnik V                                       248\n",
       "Oxford/AstraZeneca, Pfizer/BioNTech, Sinovac                                           235\n",
       "Sinopharm/Beijing                                                                      234\n",
       "Pfizer/BioNTech, Sinopharm/Beijing                                                     227\n",
       "EpiVacCorona, Sputnik V                                                                123\n",
       "Sinopharm/Beijing, Sinopharm/Wuhan, Sinovac                                            123\n",
       "Johnson&Johnson, Moderna, Pfizer/BioNTech                                              118\n",
       "CanSino, Oxford/AstraZeneca, Pfizer/BioNTech, Sinovac, Sputnik V                       114\n",
       "Moderna, Oxford/AstraZeneca, Pfizer/BioNTech, Sinopharm/Beijing, Sputnik V             108\n",
       "Oxford/AstraZeneca, Pfizer/BioNTech, Sinopharm/Beijing, Sinopharm/Wuhan, Sputnik V     102\n",
       "Covaxin, Oxford/AstraZeneca                                                             92\n",
       "Moderna, Oxford/AstraZeneca                                                             91\n",
       "Sinovac                                                                                 90\n",
       "Oxford/AstraZeneca, Pfizer/BioNTech, Sinopharm/Beijing                                  74\n",
       "Oxford/AstraZeneca, Sinopharm/Beijing, Sinovac                                          67\n",
       "Oxford/AstraZeneca, Pfizer/BioNTech, Sputnik V                                          58\n",
       "Sinopharm/Beijing, Sputnik V                                                            57\n",
       "Johnson&Johnson                                                                         57\n",
       "Pfizer/BioNTech, Sputnik V                                                              48\n",
       "Oxford/AstraZeneca, Sputnik V                                                           43\n",
       "Pfizer/BioNTech, Sinovac, Sputnik V                                                     35\n",
       "Name: The_combination_of_vaccines_used_by_a_country, dtype: int64"
      ]
     },
     "execution_count": 27,
     "metadata": {},
     "output_type": "execute_result"
    }
   ],
   "source": [
    "data.The_combination_of_vaccines_used_by_a_country.value_counts()"
   ]
  },
  {
   "cell_type": "markdown",
   "metadata": {},
   "source": [
    "#  15. Total types of vaccines available all over the world"
   ]
  },
  {
   "cell_type": "code",
   "execution_count": 28,
   "metadata": {},
   "outputs": [
    {
     "data": {
      "text/plain": [
       "31"
      ]
     },
     "execution_count": 28,
     "metadata": {},
     "output_type": "execute_result"
    }
   ],
   "source": [
    "data.The_combination_of_vaccines_used_by_a_country.nunique()"
   ]
  },
  {
   "cell_type": "markdown",
   "metadata": {},
   "source": [
    "# 16. Total number of vaccinations given in India"
   ]
  },
  {
   "cell_type": "code",
   "execution_count": 29,
   "metadata": {},
   "outputs": [
    {
     "data": {
      "text/plain": [
       "Country_name\n",
       "Afghanistan    120000.0\n",
       "Albania        314622.0\n",
       "Algeria         75000.0\n",
       "Andorra         19064.0\n",
       "Angola         245442.0\n",
       "Name: Total_vaccinations_per_date_and_country, dtype: float64"
      ]
     },
     "execution_count": 29,
     "metadata": {},
     "output_type": "execute_result"
    }
   ],
   "source": [
    "vaccine_doses_administered = data.groupby('Country_name').last()['Total_vaccinations_per_date_and_country']\n",
    "vaccine_doses_administered.head()"
   ]
  },
  {
   "cell_type": "code",
   "execution_count": 30,
   "metadata": {},
   "outputs": [
    {
     "data": {
      "text/plain": [
       "119937641"
      ]
     },
     "execution_count": 30,
     "metadata": {},
     "output_type": "execute_result"
    }
   ],
   "source": [
    "int(vaccine_doses_administered['India'])"
   ]
  },
  {
   "cell_type": "code",
   "execution_count": 31,
   "metadata": {},
   "outputs": [
    {
     "data": {
      "text/plain": [
       "120000"
      ]
     },
     "execution_count": 31,
     "metadata": {},
     "output_type": "execute_result"
    }
   ],
   "source": [
    "\n",
    "int(vaccine_doses_administered['Afghanistan'])\n"
   ]
  },
  {
   "cell_type": "code",
   "execution_count": null,
   "metadata": {},
   "outputs": [],
   "source": []
  },
  {
   "cell_type": "markdown",
   "metadata": {},
   "source": [
    "#  17 Types of vaccines available in India"
   ]
  },
  {
   "cell_type": "code",
   "execution_count": 32,
   "metadata": {},
   "outputs": [
    {
     "data": {
      "text/html": [
       "<div>\n",
       "<style scoped>\n",
       "    .dataframe tbody tr th:only-of-type {\n",
       "        vertical-align: middle;\n",
       "    }\n",
       "\n",
       "    .dataframe tbody tr th {\n",
       "        vertical-align: top;\n",
       "    }\n",
       "\n",
       "    .dataframe thead th {\n",
       "        text-align: right;\n",
       "    }\n",
       "</style>\n",
       "<table border=\"1\" class=\"dataframe\">\n",
       "  <thead>\n",
       "    <tr style=\"text-align: right;\">\n",
       "      <th></th>\n",
       "      <th>The_combination_of_vaccines_used_by_a_country</th>\n",
       "      <th>ISO_Code_for_country</th>\n",
       "    </tr>\n",
       "    <tr>\n",
       "      <th>Country_name</th>\n",
       "      <th></th>\n",
       "      <th></th>\n",
       "    </tr>\n",
       "  </thead>\n",
       "  <tbody>\n",
       "    <tr>\n",
       "      <td>Afghanistan</td>\n",
       "      <td>Oxford/AstraZeneca</td>\n",
       "      <td>AFG</td>\n",
       "    </tr>\n",
       "    <tr>\n",
       "      <td>Albania</td>\n",
       "      <td>Pfizer/BioNTech, Sinovac</td>\n",
       "      <td>ALB</td>\n",
       "    </tr>\n",
       "    <tr>\n",
       "      <td>Algeria</td>\n",
       "      <td>Sputnik V</td>\n",
       "      <td>DZA</td>\n",
       "    </tr>\n",
       "    <tr>\n",
       "      <td>Andorra</td>\n",
       "      <td>Oxford/AstraZeneca, Pfizer/BioNTech</td>\n",
       "      <td>AND</td>\n",
       "    </tr>\n",
       "    <tr>\n",
       "      <td>Angola</td>\n",
       "      <td>Oxford/AstraZeneca</td>\n",
       "      <td>AGO</td>\n",
       "    </tr>\n",
       "  </tbody>\n",
       "</table>\n",
       "</div>"
      ],
      "text/plain": [
       "             The_combination_of_vaccines_used_by_a_country  \\\n",
       "Country_name                                                 \n",
       "Afghanistan                             Oxford/AstraZeneca   \n",
       "Albania                           Pfizer/BioNTech, Sinovac   \n",
       "Algeria                                          Sputnik V   \n",
       "Andorra                Oxford/AstraZeneca, Pfizer/BioNTech   \n",
       "Angola                                  Oxford/AstraZeneca   \n",
       "\n",
       "             ISO_Code_for_country  \n",
       "Country_name                       \n",
       "Afghanistan                   AFG  \n",
       "Albania                       ALB  \n",
       "Algeria                       DZA  \n",
       "Andorra                       AND  \n",
       "Angola                        AGO  "
      ]
     },
     "execution_count": 32,
     "metadata": {},
     "output_type": "execute_result"
    }
   ],
   "source": [
    "vaccines_used_by_countries = data.groupby('Country_name').last()[['The_combination_of_vaccines_used_by_a_country','ISO_Code_for_country']]\n",
    "vaccines_used_by_countries.reset_index().set_index('Country_name')\n",
    "vaccines_used_by_countries.head()"
   ]
  },
  {
   "cell_type": "code",
   "execution_count": 33,
   "metadata": {},
   "outputs": [
    {
     "data": {
      "text/plain": [
       "'Covaxin, Oxford/AstraZeneca'"
      ]
     },
     "execution_count": 33,
     "metadata": {},
     "output_type": "execute_result"
    }
   ],
   "source": [
    "vaccines_used_by_countries.loc['India']['The_combination_of_vaccines_used_by_a_country']"
   ]
  },
  {
   "cell_type": "code",
   "execution_count": null,
   "metadata": {},
   "outputs": [],
   "source": []
  },
  {
   "cell_type": "code",
   "execution_count": null,
   "metadata": {},
   "outputs": [],
   "source": []
  },
  {
   "cell_type": "markdown",
   "metadata": {},
   "source": [
    "# 18. Calculating total vaccinations per each country"
   ]
  },
  {
   "cell_type": "code",
   "execution_count": 34,
   "metadata": {
    "scrolled": true
   },
   "outputs": [
    {
     "data": {
      "text/html": [
       "<div>\n",
       "<style scoped>\n",
       "    .dataframe tbody tr th:only-of-type {\n",
       "        vertical-align: middle;\n",
       "    }\n",
       "\n",
       "    .dataframe tbody tr th {\n",
       "        vertical-align: top;\n",
       "    }\n",
       "\n",
       "    .dataframe thead th {\n",
       "        text-align: right;\n",
       "    }\n",
       "</style>\n",
       "<table border=\"1\" class=\"dataframe\">\n",
       "  <thead>\n",
       "    <tr style=\"text-align: right;\">\n",
       "      <th></th>\n",
       "      <th>Total_Vaccinations</th>\n",
       "    </tr>\n",
       "    <tr>\n",
       "      <th>Country_name</th>\n",
       "      <th></th>\n",
       "    </tr>\n",
       "  </thead>\n",
       "  <tbody>\n",
       "    <tr>\n",
       "      <td>Afghanistan</td>\n",
       "      <td>120000.0</td>\n",
       "    </tr>\n",
       "    <tr>\n",
       "      <td>Albania</td>\n",
       "      <td>314622.0</td>\n",
       "    </tr>\n",
       "    <tr>\n",
       "      <td>Algeria</td>\n",
       "      <td>75000.0</td>\n",
       "    </tr>\n",
       "    <tr>\n",
       "      <td>Andorra</td>\n",
       "      <td>19064.0</td>\n",
       "    </tr>\n",
       "    <tr>\n",
       "      <td>Angola</td>\n",
       "      <td>245442.0</td>\n",
       "    </tr>\n",
       "    <tr>\n",
       "      <td>...</td>\n",
       "      <td>...</td>\n",
       "    </tr>\n",
       "    <tr>\n",
       "      <td>Venezuela</td>\n",
       "      <td>250000.0</td>\n",
       "    </tr>\n",
       "    <tr>\n",
       "      <td>Vietnam</td>\n",
       "      <td>63758.0</td>\n",
       "    </tr>\n",
       "    <tr>\n",
       "      <td>Wales</td>\n",
       "      <td>2231618.0</td>\n",
       "    </tr>\n",
       "    <tr>\n",
       "      <td>Zambia</td>\n",
       "      <td>106.0</td>\n",
       "    </tr>\n",
       "    <tr>\n",
       "      <td>Zimbabwe</td>\n",
       "      <td>304701.0</td>\n",
       "    </tr>\n",
       "  </tbody>\n",
       "</table>\n",
       "<p>182 rows × 1 columns</p>\n",
       "</div>"
      ],
      "text/plain": [
       "              Total_Vaccinations\n",
       "Country_name                    \n",
       "Afghanistan             120000.0\n",
       "Albania                 314622.0\n",
       "Algeria                  75000.0\n",
       "Andorra                  19064.0\n",
       "Angola                  245442.0\n",
       "...                          ...\n",
       "Venezuela               250000.0\n",
       "Vietnam                  63758.0\n",
       "Wales                  2231618.0\n",
       "Zambia                     106.0\n",
       "Zimbabwe                304701.0\n",
       "\n",
       "[182 rows x 1 columns]"
      ]
     },
     "execution_count": 34,
     "metadata": {},
     "output_type": "execute_result"
    }
   ],
   "source": [
    "vaccine_doses_administered = data.groupby('Country_name').last()['Total_vaccinations_per_date_and_country'].to_frame()\n",
    "vaccine_doses_administered.columns=['Total_Vaccinations']\n",
    "vaccine_doses_administered\n",
    "\n",
    "\n"
   ]
  },
  {
   "cell_type": "code",
   "execution_count": 35,
   "metadata": {},
   "outputs": [
    {
     "data": {
      "text/plain": [
       "119937641.0"
      ]
     },
     "execution_count": 35,
     "metadata": {},
     "output_type": "execute_result"
    }
   ],
   "source": [
    "vaccine_doses_administered.Total_Vaccinations['India']"
   ]
  },
  {
   "cell_type": "code",
   "execution_count": 36,
   "metadata": {},
   "outputs": [
    {
     "data": {
      "text/html": [
       "<div>\n",
       "<style scoped>\n",
       "    .dataframe tbody tr th:only-of-type {\n",
       "        vertical-align: middle;\n",
       "    }\n",
       "\n",
       "    .dataframe tbody tr th {\n",
       "        vertical-align: top;\n",
       "    }\n",
       "\n",
       "    .dataframe thead th {\n",
       "        text-align: right;\n",
       "    }\n",
       "</style>\n",
       "<table border=\"1\" class=\"dataframe\">\n",
       "  <thead>\n",
       "    <tr style=\"text-align: right;\">\n",
       "      <th></th>\n",
       "      <th>total_vaccinations</th>\n",
       "    </tr>\n",
       "    <tr>\n",
       "      <th>Country_name</th>\n",
       "      <th></th>\n",
       "    </tr>\n",
       "  </thead>\n",
       "  <tbody>\n",
       "    <tr>\n",
       "      <td>Afghanistan</td>\n",
       "      <td>182200.0</td>\n",
       "    </tr>\n",
       "    <tr>\n",
       "      <td>Albania</td>\n",
       "      <td>4100470.0</td>\n",
       "    </tr>\n",
       "    <tr>\n",
       "      <td>Algeria</td>\n",
       "      <td>75030.0</td>\n",
       "    </tr>\n",
       "    <tr>\n",
       "      <td>Andorra</td>\n",
       "      <td>101622.0</td>\n",
       "    </tr>\n",
       "    <tr>\n",
       "      <td>Angola</td>\n",
       "      <td>699961.0</td>\n",
       "    </tr>\n",
       "    <tr>\n",
       "      <td>...</td>\n",
       "      <td>...</td>\n",
       "    </tr>\n",
       "    <tr>\n",
       "      <td>Venezuela</td>\n",
       "      <td>374574.0</td>\n",
       "    </tr>\n",
       "    <tr>\n",
       "      <td>Vietnam</td>\n",
       "      <td>1495847.0</td>\n",
       "    </tr>\n",
       "    <tr>\n",
       "      <td>Wales</td>\n",
       "      <td>102345723.0</td>\n",
       "    </tr>\n",
       "    <tr>\n",
       "      <td>Zambia</td>\n",
       "      <td>106.0</td>\n",
       "    </tr>\n",
       "    <tr>\n",
       "      <td>Zimbabwe</td>\n",
       "      <td>4658171.0</td>\n",
       "    </tr>\n",
       "  </tbody>\n",
       "</table>\n",
       "<p>182 rows × 1 columns</p>\n",
       "</div>"
      ],
      "text/plain": [
       "              total_vaccinations\n",
       "Country_name                    \n",
       "Afghanistan             182200.0\n",
       "Albania                4100470.0\n",
       "Algeria                  75030.0\n",
       "Andorra                 101622.0\n",
       "Angola                  699961.0\n",
       "...                          ...\n",
       "Venezuela               374574.0\n",
       "Vietnam                1495847.0\n",
       "Wales                102345723.0\n",
       "Zambia                     106.0\n",
       "Zimbabwe               4658171.0\n",
       "\n",
       "[182 rows x 1 columns]"
      ]
     },
     "execution_count": 36,
     "metadata": {},
     "output_type": "execute_result"
    }
   ],
   "source": [
    "total_vac=data.groupby('Country_name').Total_vaccinations_per_date_and_country.sum().to_frame() #Making dataframe called 'total_vac' from results obtained from groupby.\n",
    "total_vac.columns=['total_vaccinations']\n",
    "total_vac"
   ]
  },
  {
   "cell_type": "code",
   "execution_count": 37,
   "metadata": {},
   "outputs": [
    {
     "data": {
      "text/plain": [
       "182200.0"
      ]
     },
     "execution_count": 37,
     "metadata": {},
     "output_type": "execute_result"
    }
   ],
   "source": [
    "total_vac.total_vaccinations['Afghanistan']"
   ]
  },
  {
   "cell_type": "code",
   "execution_count": 38,
   "metadata": {},
   "outputs": [
    {
     "data": {
      "text/plain": [
       "Country_name\n",
       "Afghanistan    120000.0\n",
       "Albania        314622.0\n",
       "Algeria         75000.0\n",
       "Andorra         19064.0\n",
       "Angola         245442.0\n",
       "Name: Total_vaccinations_per_date_and_country, dtype: float64"
      ]
     },
     "execution_count": 38,
     "metadata": {},
     "output_type": "execute_result"
    }
   ],
   "source": [
    "vaccine_doses_administered = data.groupby('Country_name').last()['Total_vaccinations_per_date_and_country']\n",
    "vaccine_doses_administered.head()"
   ]
  },
  {
   "cell_type": "code",
   "execution_count": 39,
   "metadata": {},
   "outputs": [
    {
     "data": {
      "text/plain": [
       "119937641.0"
      ]
     },
     "execution_count": 39,
     "metadata": {},
     "output_type": "execute_result"
    }
   ],
   "source": [
    "vaccine_doses_administered['India']"
   ]
  },
  {
   "cell_type": "markdown",
   "metadata": {},
   "source": [
    " #Total number of vaccinations - this is the absolute number of total immunizations in the country;"
   ]
  },
  {
   "cell_type": "markdown",
   "metadata": {},
   "source": [
    "#  19.Showing the countries with corresponding combination of vaccines used"
   ]
  },
  {
   "cell_type": "code",
   "execution_count": 40,
   "metadata": {},
   "outputs": [],
   "source": [
    "data2 = data.groupby('Country_name')['The_combination_of_vaccines_used_by_a_country'].unique()\n",
    "data_df = pd.DataFrame(data2)"
   ]
  },
  {
   "cell_type": "code",
   "execution_count": 41,
   "metadata": {},
   "outputs": [
    {
     "data": {
      "text/html": [
       "<style  type=\"text/css\" >\n",
       "</style><table id=\"T_4a090306_b6eb_11eb_87b5_d4bed9bcb8d0\" ><thead>    <tr>        <th class=\"blank level0\" ></th>        <th class=\"col_heading level0 col0\" >The_combination_of_vaccines_used_by_a_country</th>    </tr>    <tr>        <th class=\"index_name level0\" >Country_name</th>        <th class=\"blank\" ></th>    </tr></thead><tbody>\n",
       "                <tr>\n",
       "                        <th id=\"T_4a090306_b6eb_11eb_87b5_d4bed9bcb8d0level0_row0\" class=\"row_heading level0 row0\" >Afghanistan</th>\n",
       "                        <td id=\"T_4a090306_b6eb_11eb_87b5_d4bed9bcb8d0row0_col0\" class=\"data row0 col0\" >['Oxford/AstraZeneca']</td>\n",
       "            </tr>\n",
       "            <tr>\n",
       "                        <th id=\"T_4a090306_b6eb_11eb_87b5_d4bed9bcb8d0level0_row1\" class=\"row_heading level0 row1\" >Albania</th>\n",
       "                        <td id=\"T_4a090306_b6eb_11eb_87b5_d4bed9bcb8d0row1_col0\" class=\"data row1 col0\" >['Pfizer/BioNTech, Sinovac']</td>\n",
       "            </tr>\n",
       "            <tr>\n",
       "                        <th id=\"T_4a090306_b6eb_11eb_87b5_d4bed9bcb8d0level0_row2\" class=\"row_heading level0 row2\" >Algeria</th>\n",
       "                        <td id=\"T_4a090306_b6eb_11eb_87b5_d4bed9bcb8d0row2_col0\" class=\"data row2 col0\" >['Sputnik V']</td>\n",
       "            </tr>\n",
       "            <tr>\n",
       "                        <th id=\"T_4a090306_b6eb_11eb_87b5_d4bed9bcb8d0level0_row3\" class=\"row_heading level0 row3\" >Andorra</th>\n",
       "                        <td id=\"T_4a090306_b6eb_11eb_87b5_d4bed9bcb8d0row3_col0\" class=\"data row3 col0\" >['Oxford/AstraZeneca, Pfizer/BioNTech']</td>\n",
       "            </tr>\n",
       "            <tr>\n",
       "                        <th id=\"T_4a090306_b6eb_11eb_87b5_d4bed9bcb8d0level0_row4\" class=\"row_heading level0 row4\" >Angola</th>\n",
       "                        <td id=\"T_4a090306_b6eb_11eb_87b5_d4bed9bcb8d0row4_col0\" class=\"data row4 col0\" >['Oxford/AstraZeneca']</td>\n",
       "            </tr>\n",
       "            <tr>\n",
       "                        <th id=\"T_4a090306_b6eb_11eb_87b5_d4bed9bcb8d0level0_row5\" class=\"row_heading level0 row5\" >Anguilla</th>\n",
       "                        <td id=\"T_4a090306_b6eb_11eb_87b5_d4bed9bcb8d0row5_col0\" class=\"data row5 col0\" >['Oxford/AstraZeneca']</td>\n",
       "            </tr>\n",
       "            <tr>\n",
       "                        <th id=\"T_4a090306_b6eb_11eb_87b5_d4bed9bcb8d0level0_row6\" class=\"row_heading level0 row6\" >Antigua and Barbuda</th>\n",
       "                        <td id=\"T_4a090306_b6eb_11eb_87b5_d4bed9bcb8d0row6_col0\" class=\"data row6 col0\" >['Oxford/AstraZeneca']</td>\n",
       "            </tr>\n",
       "            <tr>\n",
       "                        <th id=\"T_4a090306_b6eb_11eb_87b5_d4bed9bcb8d0level0_row7\" class=\"row_heading level0 row7\" >Argentina</th>\n",
       "                        <td id=\"T_4a090306_b6eb_11eb_87b5_d4bed9bcb8d0row7_col0\" class=\"data row7 col0\" >['Oxford/AstraZeneca, Sinopharm/Beijing, Sputnik V']</td>\n",
       "            </tr>\n",
       "            <tr>\n",
       "                        <th id=\"T_4a090306_b6eb_11eb_87b5_d4bed9bcb8d0level0_row8\" class=\"row_heading level0 row8\" >Armenia</th>\n",
       "                        <td id=\"T_4a090306_b6eb_11eb_87b5_d4bed9bcb8d0row8_col0\" class=\"data row8 col0\" >['Sputnik V']</td>\n",
       "            </tr>\n",
       "            <tr>\n",
       "                        <th id=\"T_4a090306_b6eb_11eb_87b5_d4bed9bcb8d0level0_row9\" class=\"row_heading level0 row9\" >Australia</th>\n",
       "                        <td id=\"T_4a090306_b6eb_11eb_87b5_d4bed9bcb8d0row9_col0\" class=\"data row9 col0\" >['Oxford/AstraZeneca, Pfizer/BioNTech']</td>\n",
       "            </tr>\n",
       "            <tr>\n",
       "                        <th id=\"T_4a090306_b6eb_11eb_87b5_d4bed9bcb8d0level0_row10\" class=\"row_heading level0 row10\" >Austria</th>\n",
       "                        <td id=\"T_4a090306_b6eb_11eb_87b5_d4bed9bcb8d0row10_col0\" class=\"data row10 col0\" >['Moderna, Oxford/AstraZeneca, Pfizer/BioNTech']</td>\n",
       "            </tr>\n",
       "            <tr>\n",
       "                        <th id=\"T_4a090306_b6eb_11eb_87b5_d4bed9bcb8d0level0_row11\" class=\"row_heading level0 row11\" >Azerbaijan</th>\n",
       "                        <td id=\"T_4a090306_b6eb_11eb_87b5_d4bed9bcb8d0row11_col0\" class=\"data row11 col0\" >['Sinovac']</td>\n",
       "            </tr>\n",
       "            <tr>\n",
       "                        <th id=\"T_4a090306_b6eb_11eb_87b5_d4bed9bcb8d0level0_row12\" class=\"row_heading level0 row12\" >Bahamas</th>\n",
       "                        <td id=\"T_4a090306_b6eb_11eb_87b5_d4bed9bcb8d0row12_col0\" class=\"data row12 col0\" >['Oxford/AstraZeneca']</td>\n",
       "            </tr>\n",
       "            <tr>\n",
       "                        <th id=\"T_4a090306_b6eb_11eb_87b5_d4bed9bcb8d0level0_row13\" class=\"row_heading level0 row13\" >Bahrain</th>\n",
       "                        <td id=\"T_4a090306_b6eb_11eb_87b5_d4bed9bcb8d0row13_col0\" class=\"data row13 col0\" >['Oxford/AstraZeneca, Pfizer/BioNTech, Sinopharm/Beijing, Sputnik V']</td>\n",
       "            </tr>\n",
       "            <tr>\n",
       "                        <th id=\"T_4a090306_b6eb_11eb_87b5_d4bed9bcb8d0level0_row14\" class=\"row_heading level0 row14\" >Bangladesh</th>\n",
       "                        <td id=\"T_4a090306_b6eb_11eb_87b5_d4bed9bcb8d0row14_col0\" class=\"data row14 col0\" >['Oxford/AstraZeneca']</td>\n",
       "            </tr>\n",
       "            <tr>\n",
       "                        <th id=\"T_4a090306_b6eb_11eb_87b5_d4bed9bcb8d0level0_row15\" class=\"row_heading level0 row15\" >Barbados</th>\n",
       "                        <td id=\"T_4a090306_b6eb_11eb_87b5_d4bed9bcb8d0row15_col0\" class=\"data row15 col0\" >['Oxford/AstraZeneca']</td>\n",
       "            </tr>\n",
       "            <tr>\n",
       "                        <th id=\"T_4a090306_b6eb_11eb_87b5_d4bed9bcb8d0level0_row16\" class=\"row_heading level0 row16\" >Belarus</th>\n",
       "                        <td id=\"T_4a090306_b6eb_11eb_87b5_d4bed9bcb8d0row16_col0\" class=\"data row16 col0\" >['Sputnik V']</td>\n",
       "            </tr>\n",
       "            <tr>\n",
       "                        <th id=\"T_4a090306_b6eb_11eb_87b5_d4bed9bcb8d0level0_row17\" class=\"row_heading level0 row17\" >Belgium</th>\n",
       "                        <td id=\"T_4a090306_b6eb_11eb_87b5_d4bed9bcb8d0row17_col0\" class=\"data row17 col0\" >['Moderna, Oxford/AstraZeneca, Pfizer/BioNTech']</td>\n",
       "            </tr>\n",
       "            <tr>\n",
       "                        <th id=\"T_4a090306_b6eb_11eb_87b5_d4bed9bcb8d0level0_row18\" class=\"row_heading level0 row18\" >Belize</th>\n",
       "                        <td id=\"T_4a090306_b6eb_11eb_87b5_d4bed9bcb8d0row18_col0\" class=\"data row18 col0\" >['Oxford/AstraZeneca']</td>\n",
       "            </tr>\n",
       "            <tr>\n",
       "                        <th id=\"T_4a090306_b6eb_11eb_87b5_d4bed9bcb8d0level0_row19\" class=\"row_heading level0 row19\" >Bermuda</th>\n",
       "                        <td id=\"T_4a090306_b6eb_11eb_87b5_d4bed9bcb8d0row19_col0\" class=\"data row19 col0\" >['Pfizer/BioNTech']</td>\n",
       "            </tr>\n",
       "            <tr>\n",
       "                        <th id=\"T_4a090306_b6eb_11eb_87b5_d4bed9bcb8d0level0_row20\" class=\"row_heading level0 row20\" >Bhutan</th>\n",
       "                        <td id=\"T_4a090306_b6eb_11eb_87b5_d4bed9bcb8d0row20_col0\" class=\"data row20 col0\" >['Oxford/AstraZeneca']</td>\n",
       "            </tr>\n",
       "            <tr>\n",
       "                        <th id=\"T_4a090306_b6eb_11eb_87b5_d4bed9bcb8d0level0_row21\" class=\"row_heading level0 row21\" >Bolivia</th>\n",
       "                        <td id=\"T_4a090306_b6eb_11eb_87b5_d4bed9bcb8d0row21_col0\" class=\"data row21 col0\" >['Oxford/AstraZeneca, Sinopharm/Beijing, Sputnik V']</td>\n",
       "            </tr>\n",
       "            <tr>\n",
       "                        <th id=\"T_4a090306_b6eb_11eb_87b5_d4bed9bcb8d0level0_row22\" class=\"row_heading level0 row22\" >Bosnia and Herzegovina</th>\n",
       "                        <td id=\"T_4a090306_b6eb_11eb_87b5_d4bed9bcb8d0row22_col0\" class=\"data row22 col0\" >['Oxford/AstraZeneca, Pfizer/BioNTech, Sputnik V']</td>\n",
       "            </tr>\n",
       "            <tr>\n",
       "                        <th id=\"T_4a090306_b6eb_11eb_87b5_d4bed9bcb8d0level0_row23\" class=\"row_heading level0 row23\" >Botswana</th>\n",
       "                        <td id=\"T_4a090306_b6eb_11eb_87b5_d4bed9bcb8d0row23_col0\" class=\"data row23 col0\" >['Oxford/AstraZeneca']</td>\n",
       "            </tr>\n",
       "            <tr>\n",
       "                        <th id=\"T_4a090306_b6eb_11eb_87b5_d4bed9bcb8d0level0_row24\" class=\"row_heading level0 row24\" >Brazil</th>\n",
       "                        <td id=\"T_4a090306_b6eb_11eb_87b5_d4bed9bcb8d0row24_col0\" class=\"data row24 col0\" >['Oxford/AstraZeneca, Sinovac']</td>\n",
       "            </tr>\n",
       "            <tr>\n",
       "                        <th id=\"T_4a090306_b6eb_11eb_87b5_d4bed9bcb8d0level0_row25\" class=\"row_heading level0 row25\" >Brunei</th>\n",
       "                        <td id=\"T_4a090306_b6eb_11eb_87b5_d4bed9bcb8d0row25_col0\" class=\"data row25 col0\" >['Oxford/AstraZeneca']</td>\n",
       "            </tr>\n",
       "            <tr>\n",
       "                        <th id=\"T_4a090306_b6eb_11eb_87b5_d4bed9bcb8d0level0_row26\" class=\"row_heading level0 row26\" >Bulgaria</th>\n",
       "                        <td id=\"T_4a090306_b6eb_11eb_87b5_d4bed9bcb8d0row26_col0\" class=\"data row26 col0\" >['Moderna, Oxford/AstraZeneca, Pfizer/BioNTech']</td>\n",
       "            </tr>\n",
       "            <tr>\n",
       "                        <th id=\"T_4a090306_b6eb_11eb_87b5_d4bed9bcb8d0level0_row27\" class=\"row_heading level0 row27\" >Cambodia</th>\n",
       "                        <td id=\"T_4a090306_b6eb_11eb_87b5_d4bed9bcb8d0row27_col0\" class=\"data row27 col0\" >['Oxford/AstraZeneca, Sinopharm/Beijing, Sinovac']</td>\n",
       "            </tr>\n",
       "            <tr>\n",
       "                        <th id=\"T_4a090306_b6eb_11eb_87b5_d4bed9bcb8d0level0_row28\" class=\"row_heading level0 row28\" >Cameroon</th>\n",
       "                        <td id=\"T_4a090306_b6eb_11eb_87b5_d4bed9bcb8d0row28_col0\" class=\"data row28 col0\" >['Sinopharm/Beijing']</td>\n",
       "            </tr>\n",
       "            <tr>\n",
       "                        <th id=\"T_4a090306_b6eb_11eb_87b5_d4bed9bcb8d0level0_row29\" class=\"row_heading level0 row29\" >Canada</th>\n",
       "                        <td id=\"T_4a090306_b6eb_11eb_87b5_d4bed9bcb8d0row29_col0\" class=\"data row29 col0\" >['Moderna, Oxford/AstraZeneca, Pfizer/BioNTech']</td>\n",
       "            </tr>\n",
       "            <tr>\n",
       "                        <th id=\"T_4a090306_b6eb_11eb_87b5_d4bed9bcb8d0level0_row30\" class=\"row_heading level0 row30\" >Cape Verde</th>\n",
       "                        <td id=\"T_4a090306_b6eb_11eb_87b5_d4bed9bcb8d0row30_col0\" class=\"data row30 col0\" >['Oxford/AstraZeneca']</td>\n",
       "            </tr>\n",
       "            <tr>\n",
       "                        <th id=\"T_4a090306_b6eb_11eb_87b5_d4bed9bcb8d0level0_row31\" class=\"row_heading level0 row31\" >Cayman Islands</th>\n",
       "                        <td id=\"T_4a090306_b6eb_11eb_87b5_d4bed9bcb8d0row31_col0\" class=\"data row31 col0\" >['Pfizer/BioNTech']</td>\n",
       "            </tr>\n",
       "            <tr>\n",
       "                        <th id=\"T_4a090306_b6eb_11eb_87b5_d4bed9bcb8d0level0_row32\" class=\"row_heading level0 row32\" >Chile</th>\n",
       "                        <td id=\"T_4a090306_b6eb_11eb_87b5_d4bed9bcb8d0row32_col0\" class=\"data row32 col0\" >['Pfizer/BioNTech, Sinovac']</td>\n",
       "            </tr>\n",
       "            <tr>\n",
       "                        <th id=\"T_4a090306_b6eb_11eb_87b5_d4bed9bcb8d0level0_row33\" class=\"row_heading level0 row33\" >China</th>\n",
       "                        <td id=\"T_4a090306_b6eb_11eb_87b5_d4bed9bcb8d0row33_col0\" class=\"data row33 col0\" >['Sinopharm/Beijing, Sinopharm/Wuhan, Sinovac']</td>\n",
       "            </tr>\n",
       "            <tr>\n",
       "                        <th id=\"T_4a090306_b6eb_11eb_87b5_d4bed9bcb8d0level0_row34\" class=\"row_heading level0 row34\" >Colombia</th>\n",
       "                        <td id=\"T_4a090306_b6eb_11eb_87b5_d4bed9bcb8d0row34_col0\" class=\"data row34 col0\" >['Pfizer/BioNTech, Sinovac']</td>\n",
       "            </tr>\n",
       "            <tr>\n",
       "                        <th id=\"T_4a090306_b6eb_11eb_87b5_d4bed9bcb8d0level0_row35\" class=\"row_heading level0 row35\" >Costa Rica</th>\n",
       "                        <td id=\"T_4a090306_b6eb_11eb_87b5_d4bed9bcb8d0row35_col0\" class=\"data row35 col0\" >['Pfizer/BioNTech']</td>\n",
       "            </tr>\n",
       "            <tr>\n",
       "                        <th id=\"T_4a090306_b6eb_11eb_87b5_d4bed9bcb8d0level0_row36\" class=\"row_heading level0 row36\" >Cote d'Ivoire</th>\n",
       "                        <td id=\"T_4a090306_b6eb_11eb_87b5_d4bed9bcb8d0row36_col0\" class=\"data row36 col0\" >['Oxford/AstraZeneca']</td>\n",
       "            </tr>\n",
       "            <tr>\n",
       "                        <th id=\"T_4a090306_b6eb_11eb_87b5_d4bed9bcb8d0level0_row37\" class=\"row_heading level0 row37\" >Croatia</th>\n",
       "                        <td id=\"T_4a090306_b6eb_11eb_87b5_d4bed9bcb8d0row37_col0\" class=\"data row37 col0\" >['Moderna, Oxford/AstraZeneca, Pfizer/BioNTech']</td>\n",
       "            </tr>\n",
       "            <tr>\n",
       "                        <th id=\"T_4a090306_b6eb_11eb_87b5_d4bed9bcb8d0level0_row38\" class=\"row_heading level0 row38\" >Cyprus</th>\n",
       "                        <td id=\"T_4a090306_b6eb_11eb_87b5_d4bed9bcb8d0row38_col0\" class=\"data row38 col0\" >['Pfizer/BioNTech']</td>\n",
       "            </tr>\n",
       "            <tr>\n",
       "                        <th id=\"T_4a090306_b6eb_11eb_87b5_d4bed9bcb8d0level0_row39\" class=\"row_heading level0 row39\" >Czechia</th>\n",
       "                        <td id=\"T_4a090306_b6eb_11eb_87b5_d4bed9bcb8d0row39_col0\" class=\"data row39 col0\" >['Moderna, Oxford/AstraZeneca, Pfizer/BioNTech']</td>\n",
       "            </tr>\n",
       "            <tr>\n",
       "                        <th id=\"T_4a090306_b6eb_11eb_87b5_d4bed9bcb8d0level0_row40\" class=\"row_heading level0 row40\" >Denmark</th>\n",
       "                        <td id=\"T_4a090306_b6eb_11eb_87b5_d4bed9bcb8d0row40_col0\" class=\"data row40 col0\" >['Moderna, Oxford/AstraZeneca, Pfizer/BioNTech']</td>\n",
       "            </tr>\n",
       "            <tr>\n",
       "                        <th id=\"T_4a090306_b6eb_11eb_87b5_d4bed9bcb8d0level0_row41\" class=\"row_heading level0 row41\" >Dominica</th>\n",
       "                        <td id=\"T_4a090306_b6eb_11eb_87b5_d4bed9bcb8d0row41_col0\" class=\"data row41 col0\" >['Oxford/AstraZeneca']</td>\n",
       "            </tr>\n",
       "            <tr>\n",
       "                        <th id=\"T_4a090306_b6eb_11eb_87b5_d4bed9bcb8d0level0_row42\" class=\"row_heading level0 row42\" >Dominican Republic</th>\n",
       "                        <td id=\"T_4a090306_b6eb_11eb_87b5_d4bed9bcb8d0row42_col0\" class=\"data row42 col0\" >['Oxford/AstraZeneca, Sinovac']</td>\n",
       "            </tr>\n",
       "            <tr>\n",
       "                        <th id=\"T_4a090306_b6eb_11eb_87b5_d4bed9bcb8d0level0_row43\" class=\"row_heading level0 row43\" >Ecuador</th>\n",
       "                        <td id=\"T_4a090306_b6eb_11eb_87b5_d4bed9bcb8d0row43_col0\" class=\"data row43 col0\" >['Oxford/AstraZeneca, Pfizer/BioNTech, Sinovac']</td>\n",
       "            </tr>\n",
       "            <tr>\n",
       "                        <th id=\"T_4a090306_b6eb_11eb_87b5_d4bed9bcb8d0level0_row44\" class=\"row_heading level0 row44\" >Egypt</th>\n",
       "                        <td id=\"T_4a090306_b6eb_11eb_87b5_d4bed9bcb8d0row44_col0\" class=\"data row44 col0\" >['Oxford/AstraZeneca, Sinopharm/Beijing']</td>\n",
       "            </tr>\n",
       "            <tr>\n",
       "                        <th id=\"T_4a090306_b6eb_11eb_87b5_d4bed9bcb8d0level0_row45\" class=\"row_heading level0 row45\" >El Salvador</th>\n",
       "                        <td id=\"T_4a090306_b6eb_11eb_87b5_d4bed9bcb8d0row45_col0\" class=\"data row45 col0\" >['Oxford/AstraZeneca, Pfizer/BioNTech, Sinovac']</td>\n",
       "            </tr>\n",
       "            <tr>\n",
       "                        <th id=\"T_4a090306_b6eb_11eb_87b5_d4bed9bcb8d0level0_row46\" class=\"row_heading level0 row46\" >England</th>\n",
       "                        <td id=\"T_4a090306_b6eb_11eb_87b5_d4bed9bcb8d0row46_col0\" class=\"data row46 col0\" >['Oxford/AstraZeneca, Pfizer/BioNTech']</td>\n",
       "            </tr>\n",
       "            <tr>\n",
       "                        <th id=\"T_4a090306_b6eb_11eb_87b5_d4bed9bcb8d0level0_row47\" class=\"row_heading level0 row47\" >Equatorial Guinea</th>\n",
       "                        <td id=\"T_4a090306_b6eb_11eb_87b5_d4bed9bcb8d0row47_col0\" class=\"data row47 col0\" >['Sinopharm/Beijing']</td>\n",
       "            </tr>\n",
       "            <tr>\n",
       "                        <th id=\"T_4a090306_b6eb_11eb_87b5_d4bed9bcb8d0level0_row48\" class=\"row_heading level0 row48\" >Estonia</th>\n",
       "                        <td id=\"T_4a090306_b6eb_11eb_87b5_d4bed9bcb8d0row48_col0\" class=\"data row48 col0\" >['Moderna, Oxford/AstraZeneca, Pfizer/BioNTech']</td>\n",
       "            </tr>\n",
       "            <tr>\n",
       "                        <th id=\"T_4a090306_b6eb_11eb_87b5_d4bed9bcb8d0level0_row49\" class=\"row_heading level0 row49\" >Eswatini</th>\n",
       "                        <td id=\"T_4a090306_b6eb_11eb_87b5_d4bed9bcb8d0row49_col0\" class=\"data row49 col0\" >['Oxford/AstraZeneca']</td>\n",
       "            </tr>\n",
       "            <tr>\n",
       "                        <th id=\"T_4a090306_b6eb_11eb_87b5_d4bed9bcb8d0level0_row50\" class=\"row_heading level0 row50\" >Ethiopia</th>\n",
       "                        <td id=\"T_4a090306_b6eb_11eb_87b5_d4bed9bcb8d0row50_col0\" class=\"data row50 col0\" >['Oxford/AstraZeneca']</td>\n",
       "            </tr>\n",
       "            <tr>\n",
       "                        <th id=\"T_4a090306_b6eb_11eb_87b5_d4bed9bcb8d0level0_row51\" class=\"row_heading level0 row51\" >Faeroe Islands</th>\n",
       "                        <td id=\"T_4a090306_b6eb_11eb_87b5_d4bed9bcb8d0row51_col0\" class=\"data row51 col0\" >['Moderna, Pfizer/BioNTech']</td>\n",
       "            </tr>\n",
       "            <tr>\n",
       "                        <th id=\"T_4a090306_b6eb_11eb_87b5_d4bed9bcb8d0level0_row52\" class=\"row_heading level0 row52\" >Falkland Islands</th>\n",
       "                        <td id=\"T_4a090306_b6eb_11eb_87b5_d4bed9bcb8d0row52_col0\" class=\"data row52 col0\" >['Oxford/AstraZeneca']</td>\n",
       "            </tr>\n",
       "            <tr>\n",
       "                        <th id=\"T_4a090306_b6eb_11eb_87b5_d4bed9bcb8d0level0_row53\" class=\"row_heading level0 row53\" >Fiji</th>\n",
       "                        <td id=\"T_4a090306_b6eb_11eb_87b5_d4bed9bcb8d0row53_col0\" class=\"data row53 col0\" >['Oxford/AstraZeneca']</td>\n",
       "            </tr>\n",
       "            <tr>\n",
       "                        <th id=\"T_4a090306_b6eb_11eb_87b5_d4bed9bcb8d0level0_row54\" class=\"row_heading level0 row54\" >Finland</th>\n",
       "                        <td id=\"T_4a090306_b6eb_11eb_87b5_d4bed9bcb8d0row54_col0\" class=\"data row54 col0\" >['Moderna, Oxford/AstraZeneca, Pfizer/BioNTech']</td>\n",
       "            </tr>\n",
       "            <tr>\n",
       "                        <th id=\"T_4a090306_b6eb_11eb_87b5_d4bed9bcb8d0level0_row55\" class=\"row_heading level0 row55\" >France</th>\n",
       "                        <td id=\"T_4a090306_b6eb_11eb_87b5_d4bed9bcb8d0row55_col0\" class=\"data row55 col0\" >['Moderna, Oxford/AstraZeneca, Pfizer/BioNTech']</td>\n",
       "            </tr>\n",
       "            <tr>\n",
       "                        <th id=\"T_4a090306_b6eb_11eb_87b5_d4bed9bcb8d0level0_row56\" class=\"row_heading level0 row56\" >Gabon</th>\n",
       "                        <td id=\"T_4a090306_b6eb_11eb_87b5_d4bed9bcb8d0row56_col0\" class=\"data row56 col0\" >['Sinopharm/Beijing']</td>\n",
       "            </tr>\n",
       "            <tr>\n",
       "                        <th id=\"T_4a090306_b6eb_11eb_87b5_d4bed9bcb8d0level0_row57\" class=\"row_heading level0 row57\" >Gambia</th>\n",
       "                        <td id=\"T_4a090306_b6eb_11eb_87b5_d4bed9bcb8d0row57_col0\" class=\"data row57 col0\" >['Oxford/AstraZeneca']</td>\n",
       "            </tr>\n",
       "            <tr>\n",
       "                        <th id=\"T_4a090306_b6eb_11eb_87b5_d4bed9bcb8d0level0_row58\" class=\"row_heading level0 row58\" >Georgia</th>\n",
       "                        <td id=\"T_4a090306_b6eb_11eb_87b5_d4bed9bcb8d0row58_col0\" class=\"data row58 col0\" >['Oxford/AstraZeneca']</td>\n",
       "            </tr>\n",
       "            <tr>\n",
       "                        <th id=\"T_4a090306_b6eb_11eb_87b5_d4bed9bcb8d0level0_row59\" class=\"row_heading level0 row59\" >Germany</th>\n",
       "                        <td id=\"T_4a090306_b6eb_11eb_87b5_d4bed9bcb8d0row59_col0\" class=\"data row59 col0\" >['Moderna, Oxford/AstraZeneca, Pfizer/BioNTech']</td>\n",
       "            </tr>\n",
       "            <tr>\n",
       "                        <th id=\"T_4a090306_b6eb_11eb_87b5_d4bed9bcb8d0level0_row60\" class=\"row_heading level0 row60\" >Ghana</th>\n",
       "                        <td id=\"T_4a090306_b6eb_11eb_87b5_d4bed9bcb8d0row60_col0\" class=\"data row60 col0\" >['Oxford/AstraZeneca']</td>\n",
       "            </tr>\n",
       "            <tr>\n",
       "                        <th id=\"T_4a090306_b6eb_11eb_87b5_d4bed9bcb8d0level0_row61\" class=\"row_heading level0 row61\" >Gibraltar</th>\n",
       "                        <td id=\"T_4a090306_b6eb_11eb_87b5_d4bed9bcb8d0row61_col0\" class=\"data row61 col0\" >['Pfizer/BioNTech']</td>\n",
       "            </tr>\n",
       "            <tr>\n",
       "                        <th id=\"T_4a090306_b6eb_11eb_87b5_d4bed9bcb8d0level0_row62\" class=\"row_heading level0 row62\" >Greece</th>\n",
       "                        <td id=\"T_4a090306_b6eb_11eb_87b5_d4bed9bcb8d0row62_col0\" class=\"data row62 col0\" >['Moderna, Oxford/AstraZeneca, Pfizer/BioNTech']</td>\n",
       "            </tr>\n",
       "            <tr>\n",
       "                        <th id=\"T_4a090306_b6eb_11eb_87b5_d4bed9bcb8d0level0_row63\" class=\"row_heading level0 row63\" >Greenland</th>\n",
       "                        <td id=\"T_4a090306_b6eb_11eb_87b5_d4bed9bcb8d0row63_col0\" class=\"data row63 col0\" >['Pfizer/BioNTech']</td>\n",
       "            </tr>\n",
       "            <tr>\n",
       "                        <th id=\"T_4a090306_b6eb_11eb_87b5_d4bed9bcb8d0level0_row64\" class=\"row_heading level0 row64\" >Grenada</th>\n",
       "                        <td id=\"T_4a090306_b6eb_11eb_87b5_d4bed9bcb8d0row64_col0\" class=\"data row64 col0\" >['Oxford/AstraZeneca']</td>\n",
       "            </tr>\n",
       "            <tr>\n",
       "                        <th id=\"T_4a090306_b6eb_11eb_87b5_d4bed9bcb8d0level0_row65\" class=\"row_heading level0 row65\" >Guatemala</th>\n",
       "                        <td id=\"T_4a090306_b6eb_11eb_87b5_d4bed9bcb8d0row65_col0\" class=\"data row65 col0\" >['Moderna, Oxford/AstraZeneca']</td>\n",
       "            </tr>\n",
       "            <tr>\n",
       "                        <th id=\"T_4a090306_b6eb_11eb_87b5_d4bed9bcb8d0level0_row66\" class=\"row_heading level0 row66\" >Guernsey</th>\n",
       "                        <td id=\"T_4a090306_b6eb_11eb_87b5_d4bed9bcb8d0row66_col0\" class=\"data row66 col0\" >['Oxford/AstraZeneca, Pfizer/BioNTech']</td>\n",
       "            </tr>\n",
       "            <tr>\n",
       "                        <th id=\"T_4a090306_b6eb_11eb_87b5_d4bed9bcb8d0level0_row67\" class=\"row_heading level0 row67\" >Guinea</th>\n",
       "                        <td id=\"T_4a090306_b6eb_11eb_87b5_d4bed9bcb8d0row67_col0\" class=\"data row67 col0\" >['Sputnik V']</td>\n",
       "            </tr>\n",
       "            <tr>\n",
       "                        <th id=\"T_4a090306_b6eb_11eb_87b5_d4bed9bcb8d0level0_row68\" class=\"row_heading level0 row68\" >Guyana</th>\n",
       "                        <td id=\"T_4a090306_b6eb_11eb_87b5_d4bed9bcb8d0row68_col0\" class=\"data row68 col0\" >['Oxford/AstraZeneca']</td>\n",
       "            </tr>\n",
       "            <tr>\n",
       "                        <th id=\"T_4a090306_b6eb_11eb_87b5_d4bed9bcb8d0level0_row69\" class=\"row_heading level0 row69\" >Honduras</th>\n",
       "                        <td id=\"T_4a090306_b6eb_11eb_87b5_d4bed9bcb8d0row69_col0\" class=\"data row69 col0\" >['Moderna, Oxford/AstraZeneca']</td>\n",
       "            </tr>\n",
       "            <tr>\n",
       "                        <th id=\"T_4a090306_b6eb_11eb_87b5_d4bed9bcb8d0level0_row70\" class=\"row_heading level0 row70\" >Hong Kong</th>\n",
       "                        <td id=\"T_4a090306_b6eb_11eb_87b5_d4bed9bcb8d0row70_col0\" class=\"data row70 col0\" >['Pfizer/BioNTech, Sinovac']</td>\n",
       "            </tr>\n",
       "            <tr>\n",
       "                        <th id=\"T_4a090306_b6eb_11eb_87b5_d4bed9bcb8d0level0_row71\" class=\"row_heading level0 row71\" >Hungary</th>\n",
       "                        <td id=\"T_4a090306_b6eb_11eb_87b5_d4bed9bcb8d0row71_col0\" class=\"data row71 col0\" >['Moderna, Oxford/AstraZeneca, Pfizer/BioNTech, Sinopharm/Beijing, Sputnik V']</td>\n",
       "            </tr>\n",
       "            <tr>\n",
       "                        <th id=\"T_4a090306_b6eb_11eb_87b5_d4bed9bcb8d0level0_row72\" class=\"row_heading level0 row72\" >Iceland</th>\n",
       "                        <td id=\"T_4a090306_b6eb_11eb_87b5_d4bed9bcb8d0row72_col0\" class=\"data row72 col0\" >['Moderna, Oxford/AstraZeneca, Pfizer/BioNTech']</td>\n",
       "            </tr>\n",
       "            <tr>\n",
       "                        <th id=\"T_4a090306_b6eb_11eb_87b5_d4bed9bcb8d0level0_row73\" class=\"row_heading level0 row73\" >India</th>\n",
       "                        <td id=\"T_4a090306_b6eb_11eb_87b5_d4bed9bcb8d0row73_col0\" class=\"data row73 col0\" >['Covaxin, Oxford/AstraZeneca']</td>\n",
       "            </tr>\n",
       "            <tr>\n",
       "                        <th id=\"T_4a090306_b6eb_11eb_87b5_d4bed9bcb8d0level0_row74\" class=\"row_heading level0 row74\" >Indonesia</th>\n",
       "                        <td id=\"T_4a090306_b6eb_11eb_87b5_d4bed9bcb8d0row74_col0\" class=\"data row74 col0\" >['Oxford/AstraZeneca, Sinovac']</td>\n",
       "            </tr>\n",
       "            <tr>\n",
       "                        <th id=\"T_4a090306_b6eb_11eb_87b5_d4bed9bcb8d0level0_row75\" class=\"row_heading level0 row75\" >Iran</th>\n",
       "                        <td id=\"T_4a090306_b6eb_11eb_87b5_d4bed9bcb8d0row75_col0\" class=\"data row75 col0\" >['Sputnik V']</td>\n",
       "            </tr>\n",
       "            <tr>\n",
       "                        <th id=\"T_4a090306_b6eb_11eb_87b5_d4bed9bcb8d0level0_row76\" class=\"row_heading level0 row76\" >Iraq</th>\n",
       "                        <td id=\"T_4a090306_b6eb_11eb_87b5_d4bed9bcb8d0row76_col0\" class=\"data row76 col0\" >['Oxford/AstraZeneca, Sinopharm/Beijing']</td>\n",
       "            </tr>\n",
       "            <tr>\n",
       "                        <th id=\"T_4a090306_b6eb_11eb_87b5_d4bed9bcb8d0level0_row77\" class=\"row_heading level0 row77\" >Ireland</th>\n",
       "                        <td id=\"T_4a090306_b6eb_11eb_87b5_d4bed9bcb8d0row77_col0\" class=\"data row77 col0\" >['Moderna, Oxford/AstraZeneca, Pfizer/BioNTech']</td>\n",
       "            </tr>\n",
       "            <tr>\n",
       "                        <th id=\"T_4a090306_b6eb_11eb_87b5_d4bed9bcb8d0level0_row78\" class=\"row_heading level0 row78\" >Isle of Man</th>\n",
       "                        <td id=\"T_4a090306_b6eb_11eb_87b5_d4bed9bcb8d0row78_col0\" class=\"data row78 col0\" >['Oxford/AstraZeneca, Pfizer/BioNTech']</td>\n",
       "            </tr>\n",
       "            <tr>\n",
       "                        <th id=\"T_4a090306_b6eb_11eb_87b5_d4bed9bcb8d0level0_row79\" class=\"row_heading level0 row79\" >Israel</th>\n",
       "                        <td id=\"T_4a090306_b6eb_11eb_87b5_d4bed9bcb8d0row79_col0\" class=\"data row79 col0\" >['Moderna, Pfizer/BioNTech']</td>\n",
       "            </tr>\n",
       "            <tr>\n",
       "                        <th id=\"T_4a090306_b6eb_11eb_87b5_d4bed9bcb8d0level0_row80\" class=\"row_heading level0 row80\" >Italy</th>\n",
       "                        <td id=\"T_4a090306_b6eb_11eb_87b5_d4bed9bcb8d0row80_col0\" class=\"data row80 col0\" >['Moderna, Oxford/AstraZeneca, Pfizer/BioNTech']</td>\n",
       "            </tr>\n",
       "            <tr>\n",
       "                        <th id=\"T_4a090306_b6eb_11eb_87b5_d4bed9bcb8d0level0_row81\" class=\"row_heading level0 row81\" >Jamaica</th>\n",
       "                        <td id=\"T_4a090306_b6eb_11eb_87b5_d4bed9bcb8d0row81_col0\" class=\"data row81 col0\" >['Oxford/AstraZeneca']</td>\n",
       "            </tr>\n",
       "            <tr>\n",
       "                        <th id=\"T_4a090306_b6eb_11eb_87b5_d4bed9bcb8d0level0_row82\" class=\"row_heading level0 row82\" >Japan</th>\n",
       "                        <td id=\"T_4a090306_b6eb_11eb_87b5_d4bed9bcb8d0row82_col0\" class=\"data row82 col0\" >['Pfizer/BioNTech']</td>\n",
       "            </tr>\n",
       "            <tr>\n",
       "                        <th id=\"T_4a090306_b6eb_11eb_87b5_d4bed9bcb8d0level0_row83\" class=\"row_heading level0 row83\" >Jersey</th>\n",
       "                        <td id=\"T_4a090306_b6eb_11eb_87b5_d4bed9bcb8d0row83_col0\" class=\"data row83 col0\" >['Oxford/AstraZeneca, Pfizer/BioNTech']</td>\n",
       "            </tr>\n",
       "            <tr>\n",
       "                        <th id=\"T_4a090306_b6eb_11eb_87b5_d4bed9bcb8d0level0_row84\" class=\"row_heading level0 row84\" >Jordan</th>\n",
       "                        <td id=\"T_4a090306_b6eb_11eb_87b5_d4bed9bcb8d0row84_col0\" class=\"data row84 col0\" >['Pfizer/BioNTech, Sinopharm/Beijing']</td>\n",
       "            </tr>\n",
       "            <tr>\n",
       "                        <th id=\"T_4a090306_b6eb_11eb_87b5_d4bed9bcb8d0level0_row85\" class=\"row_heading level0 row85\" >Kazakhstan</th>\n",
       "                        <td id=\"T_4a090306_b6eb_11eb_87b5_d4bed9bcb8d0row85_col0\" class=\"data row85 col0\" >['Sputnik V']</td>\n",
       "            </tr>\n",
       "            <tr>\n",
       "                        <th id=\"T_4a090306_b6eb_11eb_87b5_d4bed9bcb8d0level0_row86\" class=\"row_heading level0 row86\" >Kenya</th>\n",
       "                        <td id=\"T_4a090306_b6eb_11eb_87b5_d4bed9bcb8d0row86_col0\" class=\"data row86 col0\" >['Oxford/AstraZeneca, Sputnik V']</td>\n",
       "            </tr>\n",
       "            <tr>\n",
       "                        <th id=\"T_4a090306_b6eb_11eb_87b5_d4bed9bcb8d0level0_row87\" class=\"row_heading level0 row87\" >Kosovo</th>\n",
       "                        <td id=\"T_4a090306_b6eb_11eb_87b5_d4bed9bcb8d0row87_col0\" class=\"data row87 col0\" >['Oxford/AstraZeneca']</td>\n",
       "            </tr>\n",
       "            <tr>\n",
       "                        <th id=\"T_4a090306_b6eb_11eb_87b5_d4bed9bcb8d0level0_row88\" class=\"row_heading level0 row88\" >Kuwait</th>\n",
       "                        <td id=\"T_4a090306_b6eb_11eb_87b5_d4bed9bcb8d0row88_col0\" class=\"data row88 col0\" >['Pfizer/BioNTech']</td>\n",
       "            </tr>\n",
       "            <tr>\n",
       "                        <th id=\"T_4a090306_b6eb_11eb_87b5_d4bed9bcb8d0level0_row89\" class=\"row_heading level0 row89\" >Kyrgyzstan</th>\n",
       "                        <td id=\"T_4a090306_b6eb_11eb_87b5_d4bed9bcb8d0row89_col0\" class=\"data row89 col0\" >['Sinopharm/Beijing']</td>\n",
       "            </tr>\n",
       "            <tr>\n",
       "                        <th id=\"T_4a090306_b6eb_11eb_87b5_d4bed9bcb8d0level0_row90\" class=\"row_heading level0 row90\" >Laos</th>\n",
       "                        <td id=\"T_4a090306_b6eb_11eb_87b5_d4bed9bcb8d0row90_col0\" class=\"data row90 col0\" >['Sinopharm/Beijing, Sputnik V']</td>\n",
       "            </tr>\n",
       "            <tr>\n",
       "                        <th id=\"T_4a090306_b6eb_11eb_87b5_d4bed9bcb8d0level0_row91\" class=\"row_heading level0 row91\" >Latvia</th>\n",
       "                        <td id=\"T_4a090306_b6eb_11eb_87b5_d4bed9bcb8d0row91_col0\" class=\"data row91 col0\" >['Moderna, Oxford/AstraZeneca, Pfizer/BioNTech']</td>\n",
       "            </tr>\n",
       "            <tr>\n",
       "                        <th id=\"T_4a090306_b6eb_11eb_87b5_d4bed9bcb8d0level0_row92\" class=\"row_heading level0 row92\" >Lebanon</th>\n",
       "                        <td id=\"T_4a090306_b6eb_11eb_87b5_d4bed9bcb8d0row92_col0\" class=\"data row92 col0\" >['Oxford/AstraZeneca, Pfizer/BioNTech, Sinopharm/Beijing, Sputnik V']</td>\n",
       "            </tr>\n",
       "            <tr>\n",
       "                        <th id=\"T_4a090306_b6eb_11eb_87b5_d4bed9bcb8d0level0_row93\" class=\"row_heading level0 row93\" >Liechtenstein</th>\n",
       "                        <td id=\"T_4a090306_b6eb_11eb_87b5_d4bed9bcb8d0row93_col0\" class=\"data row93 col0\" >['Moderna, Pfizer/BioNTech']</td>\n",
       "            </tr>\n",
       "            <tr>\n",
       "                        <th id=\"T_4a090306_b6eb_11eb_87b5_d4bed9bcb8d0level0_row94\" class=\"row_heading level0 row94\" >Lithuania</th>\n",
       "                        <td id=\"T_4a090306_b6eb_11eb_87b5_d4bed9bcb8d0row94_col0\" class=\"data row94 col0\" >['Moderna, Oxford/AstraZeneca, Pfizer/BioNTech']</td>\n",
       "            </tr>\n",
       "            <tr>\n",
       "                        <th id=\"T_4a090306_b6eb_11eb_87b5_d4bed9bcb8d0level0_row95\" class=\"row_heading level0 row95\" >Luxembourg</th>\n",
       "                        <td id=\"T_4a090306_b6eb_11eb_87b5_d4bed9bcb8d0row95_col0\" class=\"data row95 col0\" >['Moderna, Oxford/AstraZeneca, Pfizer/BioNTech']</td>\n",
       "            </tr>\n",
       "            <tr>\n",
       "                        <th id=\"T_4a090306_b6eb_11eb_87b5_d4bed9bcb8d0level0_row96\" class=\"row_heading level0 row96\" >Macao</th>\n",
       "                        <td id=\"T_4a090306_b6eb_11eb_87b5_d4bed9bcb8d0row96_col0\" class=\"data row96 col0\" >['Pfizer/BioNTech, Sinopharm/Beijing']</td>\n",
       "            </tr>\n",
       "            <tr>\n",
       "                        <th id=\"T_4a090306_b6eb_11eb_87b5_d4bed9bcb8d0level0_row97\" class=\"row_heading level0 row97\" >Malawi</th>\n",
       "                        <td id=\"T_4a090306_b6eb_11eb_87b5_d4bed9bcb8d0row97_col0\" class=\"data row97 col0\" >['Oxford/AstraZeneca']</td>\n",
       "            </tr>\n",
       "            <tr>\n",
       "                        <th id=\"T_4a090306_b6eb_11eb_87b5_d4bed9bcb8d0level0_row98\" class=\"row_heading level0 row98\" >Malaysia</th>\n",
       "                        <td id=\"T_4a090306_b6eb_11eb_87b5_d4bed9bcb8d0row98_col0\" class=\"data row98 col0\" >['Pfizer/BioNTech, Sinovac']</td>\n",
       "            </tr>\n",
       "            <tr>\n",
       "                        <th id=\"T_4a090306_b6eb_11eb_87b5_d4bed9bcb8d0level0_row99\" class=\"row_heading level0 row99\" >Maldives</th>\n",
       "                        <td id=\"T_4a090306_b6eb_11eb_87b5_d4bed9bcb8d0row99_col0\" class=\"data row99 col0\" >['Oxford/AstraZeneca, Pfizer/BioNTech, Sinopharm/Beijing']</td>\n",
       "            </tr>\n",
       "            <tr>\n",
       "                        <th id=\"T_4a090306_b6eb_11eb_87b5_d4bed9bcb8d0level0_row100\" class=\"row_heading level0 row100\" >Mali</th>\n",
       "                        <td id=\"T_4a090306_b6eb_11eb_87b5_d4bed9bcb8d0row100_col0\" class=\"data row100 col0\" >['Oxford/AstraZeneca']</td>\n",
       "            </tr>\n",
       "            <tr>\n",
       "                        <th id=\"T_4a090306_b6eb_11eb_87b5_d4bed9bcb8d0level0_row101\" class=\"row_heading level0 row101\" >Malta</th>\n",
       "                        <td id=\"T_4a090306_b6eb_11eb_87b5_d4bed9bcb8d0row101_col0\" class=\"data row101 col0\" >['Moderna, Oxford/AstraZeneca, Pfizer/BioNTech']</td>\n",
       "            </tr>\n",
       "            <tr>\n",
       "                        <th id=\"T_4a090306_b6eb_11eb_87b5_d4bed9bcb8d0level0_row102\" class=\"row_heading level0 row102\" >Mauritania</th>\n",
       "                        <td id=\"T_4a090306_b6eb_11eb_87b5_d4bed9bcb8d0row102_col0\" class=\"data row102 col0\" >['Sinopharm/Beijing']</td>\n",
       "            </tr>\n",
       "            <tr>\n",
       "                        <th id=\"T_4a090306_b6eb_11eb_87b5_d4bed9bcb8d0level0_row103\" class=\"row_heading level0 row103\" >Mauritius</th>\n",
       "                        <td id=\"T_4a090306_b6eb_11eb_87b5_d4bed9bcb8d0row103_col0\" class=\"data row103 col0\" >['Oxford/AstraZeneca']</td>\n",
       "            </tr>\n",
       "            <tr>\n",
       "                        <th id=\"T_4a090306_b6eb_11eb_87b5_d4bed9bcb8d0level0_row104\" class=\"row_heading level0 row104\" >Mexico</th>\n",
       "                        <td id=\"T_4a090306_b6eb_11eb_87b5_d4bed9bcb8d0row104_col0\" class=\"data row104 col0\" >['CanSino, Oxford/AstraZeneca, Pfizer/BioNTech, Sinovac, Sputnik V']</td>\n",
       "            </tr>\n",
       "            <tr>\n",
       "                        <th id=\"T_4a090306_b6eb_11eb_87b5_d4bed9bcb8d0level0_row105\" class=\"row_heading level0 row105\" >Moldova</th>\n",
       "                        <td id=\"T_4a090306_b6eb_11eb_87b5_d4bed9bcb8d0row105_col0\" class=\"data row105 col0\" >['Oxford/AstraZeneca']</td>\n",
       "            </tr>\n",
       "            <tr>\n",
       "                        <th id=\"T_4a090306_b6eb_11eb_87b5_d4bed9bcb8d0level0_row106\" class=\"row_heading level0 row106\" >Monaco</th>\n",
       "                        <td id=\"T_4a090306_b6eb_11eb_87b5_d4bed9bcb8d0row106_col0\" class=\"data row106 col0\" >['Pfizer/BioNTech']</td>\n",
       "            </tr>\n",
       "            <tr>\n",
       "                        <th id=\"T_4a090306_b6eb_11eb_87b5_d4bed9bcb8d0level0_row107\" class=\"row_heading level0 row107\" >Mongolia</th>\n",
       "                        <td id=\"T_4a090306_b6eb_11eb_87b5_d4bed9bcb8d0row107_col0\" class=\"data row107 col0\" >['Oxford/AstraZeneca']</td>\n",
       "            </tr>\n",
       "            <tr>\n",
       "                        <th id=\"T_4a090306_b6eb_11eb_87b5_d4bed9bcb8d0level0_row108\" class=\"row_heading level0 row108\" >Montenegro</th>\n",
       "                        <td id=\"T_4a090306_b6eb_11eb_87b5_d4bed9bcb8d0row108_col0\" class=\"data row108 col0\" >['Sinopharm/Beijing, Sputnik V']</td>\n",
       "            </tr>\n",
       "            <tr>\n",
       "                        <th id=\"T_4a090306_b6eb_11eb_87b5_d4bed9bcb8d0level0_row109\" class=\"row_heading level0 row109\" >Montserrat</th>\n",
       "                        <td id=\"T_4a090306_b6eb_11eb_87b5_d4bed9bcb8d0row109_col0\" class=\"data row109 col0\" >['Oxford/AstraZeneca']</td>\n",
       "            </tr>\n",
       "            <tr>\n",
       "                        <th id=\"T_4a090306_b6eb_11eb_87b5_d4bed9bcb8d0level0_row110\" class=\"row_heading level0 row110\" >Morocco</th>\n",
       "                        <td id=\"T_4a090306_b6eb_11eb_87b5_d4bed9bcb8d0row110_col0\" class=\"data row110 col0\" >['Oxford/AstraZeneca, Sinopharm/Beijing']</td>\n",
       "            </tr>\n",
       "            <tr>\n",
       "                        <th id=\"T_4a090306_b6eb_11eb_87b5_d4bed9bcb8d0level0_row111\" class=\"row_heading level0 row111\" >Mozambique</th>\n",
       "                        <td id=\"T_4a090306_b6eb_11eb_87b5_d4bed9bcb8d0row111_col0\" class=\"data row111 col0\" >['Sinopharm/Beijing']</td>\n",
       "            </tr>\n",
       "            <tr>\n",
       "                        <th id=\"T_4a090306_b6eb_11eb_87b5_d4bed9bcb8d0level0_row112\" class=\"row_heading level0 row112\" >Myanmar</th>\n",
       "                        <td id=\"T_4a090306_b6eb_11eb_87b5_d4bed9bcb8d0row112_col0\" class=\"data row112 col0\" >['Oxford/AstraZeneca']</td>\n",
       "            </tr>\n",
       "            <tr>\n",
       "                        <th id=\"T_4a090306_b6eb_11eb_87b5_d4bed9bcb8d0level0_row113\" class=\"row_heading level0 row113\" >Namibia</th>\n",
       "                        <td id=\"T_4a090306_b6eb_11eb_87b5_d4bed9bcb8d0row113_col0\" class=\"data row113 col0\" >['Sinopharm/Beijing']</td>\n",
       "            </tr>\n",
       "            <tr>\n",
       "                        <th id=\"T_4a090306_b6eb_11eb_87b5_d4bed9bcb8d0level0_row114\" class=\"row_heading level0 row114\" >Nepal</th>\n",
       "                        <td id=\"T_4a090306_b6eb_11eb_87b5_d4bed9bcb8d0row114_col0\" class=\"data row114 col0\" >['Oxford/AstraZeneca']</td>\n",
       "            </tr>\n",
       "            <tr>\n",
       "                        <th id=\"T_4a090306_b6eb_11eb_87b5_d4bed9bcb8d0level0_row115\" class=\"row_heading level0 row115\" >Netherlands</th>\n",
       "                        <td id=\"T_4a090306_b6eb_11eb_87b5_d4bed9bcb8d0row115_col0\" class=\"data row115 col0\" >['Moderna, Oxford/AstraZeneca, Pfizer/BioNTech']</td>\n",
       "            </tr>\n",
       "            <tr>\n",
       "                        <th id=\"T_4a090306_b6eb_11eb_87b5_d4bed9bcb8d0level0_row116\" class=\"row_heading level0 row116\" >New Zealand</th>\n",
       "                        <td id=\"T_4a090306_b6eb_11eb_87b5_d4bed9bcb8d0row116_col0\" class=\"data row116 col0\" >['Pfizer/BioNTech']</td>\n",
       "            </tr>\n",
       "            <tr>\n",
       "                        <th id=\"T_4a090306_b6eb_11eb_87b5_d4bed9bcb8d0level0_row117\" class=\"row_heading level0 row117\" >Nicaragua</th>\n",
       "                        <td id=\"T_4a090306_b6eb_11eb_87b5_d4bed9bcb8d0row117_col0\" class=\"data row117 col0\" >['Oxford/AstraZeneca, Sputnik V']</td>\n",
       "            </tr>\n",
       "            <tr>\n",
       "                        <th id=\"T_4a090306_b6eb_11eb_87b5_d4bed9bcb8d0level0_row118\" class=\"row_heading level0 row118\" >Nigeria</th>\n",
       "                        <td id=\"T_4a090306_b6eb_11eb_87b5_d4bed9bcb8d0row118_col0\" class=\"data row118 col0\" >['Oxford/AstraZeneca']</td>\n",
       "            </tr>\n",
       "            <tr>\n",
       "                        <th id=\"T_4a090306_b6eb_11eb_87b5_d4bed9bcb8d0level0_row119\" class=\"row_heading level0 row119\" >North Macedonia</th>\n",
       "                        <td id=\"T_4a090306_b6eb_11eb_87b5_d4bed9bcb8d0row119_col0\" class=\"data row119 col0\" >['Pfizer/BioNTech']</td>\n",
       "            </tr>\n",
       "            <tr>\n",
       "                        <th id=\"T_4a090306_b6eb_11eb_87b5_d4bed9bcb8d0level0_row120\" class=\"row_heading level0 row120\" >Northern Cyprus</th>\n",
       "                        <td id=\"T_4a090306_b6eb_11eb_87b5_d4bed9bcb8d0row120_col0\" class=\"data row120 col0\" >['Oxford/AstraZeneca, Pfizer/BioNTech, Sinovac']</td>\n",
       "            </tr>\n",
       "            <tr>\n",
       "                        <th id=\"T_4a090306_b6eb_11eb_87b5_d4bed9bcb8d0level0_row121\" class=\"row_heading level0 row121\" >Northern Ireland</th>\n",
       "                        <td id=\"T_4a090306_b6eb_11eb_87b5_d4bed9bcb8d0row121_col0\" class=\"data row121 col0\" >['Oxford/AstraZeneca, Pfizer/BioNTech']</td>\n",
       "            </tr>\n",
       "            <tr>\n",
       "                        <th id=\"T_4a090306_b6eb_11eb_87b5_d4bed9bcb8d0level0_row122\" class=\"row_heading level0 row122\" >Norway</th>\n",
       "                        <td id=\"T_4a090306_b6eb_11eb_87b5_d4bed9bcb8d0row122_col0\" class=\"data row122 col0\" >['Moderna, Oxford/AstraZeneca, Pfizer/BioNTech']</td>\n",
       "            </tr>\n",
       "            <tr>\n",
       "                        <th id=\"T_4a090306_b6eb_11eb_87b5_d4bed9bcb8d0level0_row123\" class=\"row_heading level0 row123\" >Oman</th>\n",
       "                        <td id=\"T_4a090306_b6eb_11eb_87b5_d4bed9bcb8d0row123_col0\" class=\"data row123 col0\" >['Oxford/AstraZeneca, Pfizer/BioNTech']</td>\n",
       "            </tr>\n",
       "            <tr>\n",
       "                        <th id=\"T_4a090306_b6eb_11eb_87b5_d4bed9bcb8d0level0_row124\" class=\"row_heading level0 row124\" >Pakistan</th>\n",
       "                        <td id=\"T_4a090306_b6eb_11eb_87b5_d4bed9bcb8d0row124_col0\" class=\"data row124 col0\" >['Oxford/AstraZeneca, Sinopharm/Beijing, Sputnik V']</td>\n",
       "            </tr>\n",
       "            <tr>\n",
       "                        <th id=\"T_4a090306_b6eb_11eb_87b5_d4bed9bcb8d0level0_row125\" class=\"row_heading level0 row125\" >Palestine</th>\n",
       "                        <td id=\"T_4a090306_b6eb_11eb_87b5_d4bed9bcb8d0row125_col0\" class=\"data row125 col0\" >['Moderna, Oxford/AstraZeneca, Pfizer/BioNTech']</td>\n",
       "            </tr>\n",
       "            <tr>\n",
       "                        <th id=\"T_4a090306_b6eb_11eb_87b5_d4bed9bcb8d0level0_row126\" class=\"row_heading level0 row126\" >Panama</th>\n",
       "                        <td id=\"T_4a090306_b6eb_11eb_87b5_d4bed9bcb8d0row126_col0\" class=\"data row126 col0\" >['Pfizer/BioNTech']</td>\n",
       "            </tr>\n",
       "            <tr>\n",
       "                        <th id=\"T_4a090306_b6eb_11eb_87b5_d4bed9bcb8d0level0_row127\" class=\"row_heading level0 row127\" >Papua New Guinea</th>\n",
       "                        <td id=\"T_4a090306_b6eb_11eb_87b5_d4bed9bcb8d0row127_col0\" class=\"data row127 col0\" >['Oxford/AstraZeneca']</td>\n",
       "            </tr>\n",
       "            <tr>\n",
       "                        <th id=\"T_4a090306_b6eb_11eb_87b5_d4bed9bcb8d0level0_row128\" class=\"row_heading level0 row128\" >Paraguay</th>\n",
       "                        <td id=\"T_4a090306_b6eb_11eb_87b5_d4bed9bcb8d0row128_col0\" class=\"data row128 col0\" >['Sputnik V']</td>\n",
       "            </tr>\n",
       "            <tr>\n",
       "                        <th id=\"T_4a090306_b6eb_11eb_87b5_d4bed9bcb8d0level0_row129\" class=\"row_heading level0 row129\" >Peru</th>\n",
       "                        <td id=\"T_4a090306_b6eb_11eb_87b5_d4bed9bcb8d0row129_col0\" class=\"data row129 col0\" >['Pfizer/BioNTech, Sinopharm/Beijing']</td>\n",
       "            </tr>\n",
       "            <tr>\n",
       "                        <th id=\"T_4a090306_b6eb_11eb_87b5_d4bed9bcb8d0level0_row130\" class=\"row_heading level0 row130\" >Philippines</th>\n",
       "                        <td id=\"T_4a090306_b6eb_11eb_87b5_d4bed9bcb8d0row130_col0\" class=\"data row130 col0\" >['Oxford/AstraZeneca, Sinovac']</td>\n",
       "            </tr>\n",
       "            <tr>\n",
       "                        <th id=\"T_4a090306_b6eb_11eb_87b5_d4bed9bcb8d0level0_row131\" class=\"row_heading level0 row131\" >Poland</th>\n",
       "                        <td id=\"T_4a090306_b6eb_11eb_87b5_d4bed9bcb8d0row131_col0\" class=\"data row131 col0\" >['Moderna, Oxford/AstraZeneca, Pfizer/BioNTech']</td>\n",
       "            </tr>\n",
       "            <tr>\n",
       "                        <th id=\"T_4a090306_b6eb_11eb_87b5_d4bed9bcb8d0level0_row132\" class=\"row_heading level0 row132\" >Portugal</th>\n",
       "                        <td id=\"T_4a090306_b6eb_11eb_87b5_d4bed9bcb8d0row132_col0\" class=\"data row132 col0\" >['Moderna, Oxford/AstraZeneca, Pfizer/BioNTech']</td>\n",
       "            </tr>\n",
       "            <tr>\n",
       "                        <th id=\"T_4a090306_b6eb_11eb_87b5_d4bed9bcb8d0level0_row133\" class=\"row_heading level0 row133\" >Qatar</th>\n",
       "                        <td id=\"T_4a090306_b6eb_11eb_87b5_d4bed9bcb8d0row133_col0\" class=\"data row133 col0\" >['Pfizer/BioNTech']</td>\n",
       "            </tr>\n",
       "            <tr>\n",
       "                        <th id=\"T_4a090306_b6eb_11eb_87b5_d4bed9bcb8d0level0_row134\" class=\"row_heading level0 row134\" >Romania</th>\n",
       "                        <td id=\"T_4a090306_b6eb_11eb_87b5_d4bed9bcb8d0row134_col0\" class=\"data row134 col0\" >['Moderna, Oxford/AstraZeneca, Pfizer/BioNTech']</td>\n",
       "            </tr>\n",
       "            <tr>\n",
       "                        <th id=\"T_4a090306_b6eb_11eb_87b5_d4bed9bcb8d0level0_row135\" class=\"row_heading level0 row135\" >Russia</th>\n",
       "                        <td id=\"T_4a090306_b6eb_11eb_87b5_d4bed9bcb8d0row135_col0\" class=\"data row135 col0\" >['EpiVacCorona, Sputnik V']</td>\n",
       "            </tr>\n",
       "            <tr>\n",
       "                        <th id=\"T_4a090306_b6eb_11eb_87b5_d4bed9bcb8d0level0_row136\" class=\"row_heading level0 row136\" >Rwanda</th>\n",
       "                        <td id=\"T_4a090306_b6eb_11eb_87b5_d4bed9bcb8d0row136_col0\" class=\"data row136 col0\" >['Moderna, Oxford/AstraZeneca, Pfizer/BioNTech']</td>\n",
       "            </tr>\n",
       "            <tr>\n",
       "                        <th id=\"T_4a090306_b6eb_11eb_87b5_d4bed9bcb8d0level0_row137\" class=\"row_heading level0 row137\" >Saint Helena</th>\n",
       "                        <td id=\"T_4a090306_b6eb_11eb_87b5_d4bed9bcb8d0row137_col0\" class=\"data row137 col0\" >['Oxford/AstraZeneca']</td>\n",
       "            </tr>\n",
       "            <tr>\n",
       "                        <th id=\"T_4a090306_b6eb_11eb_87b5_d4bed9bcb8d0level0_row138\" class=\"row_heading level0 row138\" >Saint Kitts and Nevis</th>\n",
       "                        <td id=\"T_4a090306_b6eb_11eb_87b5_d4bed9bcb8d0row138_col0\" class=\"data row138 col0\" >['Oxford/AstraZeneca']</td>\n",
       "            </tr>\n",
       "            <tr>\n",
       "                        <th id=\"T_4a090306_b6eb_11eb_87b5_d4bed9bcb8d0level0_row139\" class=\"row_heading level0 row139\" >Saint Lucia</th>\n",
       "                        <td id=\"T_4a090306_b6eb_11eb_87b5_d4bed9bcb8d0row139_col0\" class=\"data row139 col0\" >['Oxford/AstraZeneca']</td>\n",
       "            </tr>\n",
       "            <tr>\n",
       "                        <th id=\"T_4a090306_b6eb_11eb_87b5_d4bed9bcb8d0level0_row140\" class=\"row_heading level0 row140\" >Saint Vincent and the Grenadines</th>\n",
       "                        <td id=\"T_4a090306_b6eb_11eb_87b5_d4bed9bcb8d0row140_col0\" class=\"data row140 col0\" >['Oxford/AstraZeneca']</td>\n",
       "            </tr>\n",
       "            <tr>\n",
       "                        <th id=\"T_4a090306_b6eb_11eb_87b5_d4bed9bcb8d0level0_row141\" class=\"row_heading level0 row141\" >San Marino</th>\n",
       "                        <td id=\"T_4a090306_b6eb_11eb_87b5_d4bed9bcb8d0row141_col0\" class=\"data row141 col0\" >['Pfizer/BioNTech, Sputnik V']</td>\n",
       "            </tr>\n",
       "            <tr>\n",
       "                        <th id=\"T_4a090306_b6eb_11eb_87b5_d4bed9bcb8d0level0_row142\" class=\"row_heading level0 row142\" >Sao Tome and Principe</th>\n",
       "                        <td id=\"T_4a090306_b6eb_11eb_87b5_d4bed9bcb8d0row142_col0\" class=\"data row142 col0\" >['Oxford/AstraZeneca']</td>\n",
       "            </tr>\n",
       "            <tr>\n",
       "                        <th id=\"T_4a090306_b6eb_11eb_87b5_d4bed9bcb8d0level0_row143\" class=\"row_heading level0 row143\" >Saudi Arabia</th>\n",
       "                        <td id=\"T_4a090306_b6eb_11eb_87b5_d4bed9bcb8d0row143_col0\" class=\"data row143 col0\" >['Oxford/AstraZeneca, Pfizer/BioNTech']</td>\n",
       "            </tr>\n",
       "            <tr>\n",
       "                        <th id=\"T_4a090306_b6eb_11eb_87b5_d4bed9bcb8d0level0_row144\" class=\"row_heading level0 row144\" >Scotland</th>\n",
       "                        <td id=\"T_4a090306_b6eb_11eb_87b5_d4bed9bcb8d0row144_col0\" class=\"data row144 col0\" >['Oxford/AstraZeneca, Pfizer/BioNTech']</td>\n",
       "            </tr>\n",
       "            <tr>\n",
       "                        <th id=\"T_4a090306_b6eb_11eb_87b5_d4bed9bcb8d0level0_row145\" class=\"row_heading level0 row145\" >Senegal</th>\n",
       "                        <td id=\"T_4a090306_b6eb_11eb_87b5_d4bed9bcb8d0row145_col0\" class=\"data row145 col0\" >['Sinopharm/Beijing']</td>\n",
       "            </tr>\n",
       "            <tr>\n",
       "                        <th id=\"T_4a090306_b6eb_11eb_87b5_d4bed9bcb8d0level0_row146\" class=\"row_heading level0 row146\" >Serbia</th>\n",
       "                        <td id=\"T_4a090306_b6eb_11eb_87b5_d4bed9bcb8d0row146_col0\" class=\"data row146 col0\" >['Oxford/AstraZeneca, Pfizer/BioNTech, Sinopharm/Beijing, Sputnik V']</td>\n",
       "            </tr>\n",
       "            <tr>\n",
       "                        <th id=\"T_4a090306_b6eb_11eb_87b5_d4bed9bcb8d0level0_row147\" class=\"row_heading level0 row147\" >Seychelles</th>\n",
       "                        <td id=\"T_4a090306_b6eb_11eb_87b5_d4bed9bcb8d0row147_col0\" class=\"data row147 col0\" >['Oxford/AstraZeneca, Sinopharm/Beijing']</td>\n",
       "            </tr>\n",
       "            <tr>\n",
       "                        <th id=\"T_4a090306_b6eb_11eb_87b5_d4bed9bcb8d0level0_row148\" class=\"row_heading level0 row148\" >Sierra Leone</th>\n",
       "                        <td id=\"T_4a090306_b6eb_11eb_87b5_d4bed9bcb8d0row148_col0\" class=\"data row148 col0\" >['Oxford/AstraZeneca']</td>\n",
       "            </tr>\n",
       "            <tr>\n",
       "                        <th id=\"T_4a090306_b6eb_11eb_87b5_d4bed9bcb8d0level0_row149\" class=\"row_heading level0 row149\" >Singapore</th>\n",
       "                        <td id=\"T_4a090306_b6eb_11eb_87b5_d4bed9bcb8d0row149_col0\" class=\"data row149 col0\" >['Moderna, Pfizer/BioNTech']</td>\n",
       "            </tr>\n",
       "            <tr>\n",
       "                        <th id=\"T_4a090306_b6eb_11eb_87b5_d4bed9bcb8d0level0_row150\" class=\"row_heading level0 row150\" >Slovakia</th>\n",
       "                        <td id=\"T_4a090306_b6eb_11eb_87b5_d4bed9bcb8d0row150_col0\" class=\"data row150 col0\" >['Pfizer/BioNTech']</td>\n",
       "            </tr>\n",
       "            <tr>\n",
       "                        <th id=\"T_4a090306_b6eb_11eb_87b5_d4bed9bcb8d0level0_row151\" class=\"row_heading level0 row151\" >Slovenia</th>\n",
       "                        <td id=\"T_4a090306_b6eb_11eb_87b5_d4bed9bcb8d0row151_col0\" class=\"data row151 col0\" >['Oxford/AstraZeneca, Pfizer/BioNTech']</td>\n",
       "            </tr>\n",
       "            <tr>\n",
       "                        <th id=\"T_4a090306_b6eb_11eb_87b5_d4bed9bcb8d0level0_row152\" class=\"row_heading level0 row152\" >Solomon Islands</th>\n",
       "                        <td id=\"T_4a090306_b6eb_11eb_87b5_d4bed9bcb8d0row152_col0\" class=\"data row152 col0\" >['Oxford/AstraZeneca']</td>\n",
       "            </tr>\n",
       "            <tr>\n",
       "                        <th id=\"T_4a090306_b6eb_11eb_87b5_d4bed9bcb8d0level0_row153\" class=\"row_heading level0 row153\" >South Africa</th>\n",
       "                        <td id=\"T_4a090306_b6eb_11eb_87b5_d4bed9bcb8d0row153_col0\" class=\"data row153 col0\" >['Johnson&Johnson']</td>\n",
       "            </tr>\n",
       "            <tr>\n",
       "                        <th id=\"T_4a090306_b6eb_11eb_87b5_d4bed9bcb8d0level0_row154\" class=\"row_heading level0 row154\" >South Korea</th>\n",
       "                        <td id=\"T_4a090306_b6eb_11eb_87b5_d4bed9bcb8d0row154_col0\" class=\"data row154 col0\" >['Oxford/AstraZeneca, Pfizer/BioNTech']</td>\n",
       "            </tr>\n",
       "            <tr>\n",
       "                        <th id=\"T_4a090306_b6eb_11eb_87b5_d4bed9bcb8d0level0_row155\" class=\"row_heading level0 row155\" >South Sudan</th>\n",
       "                        <td id=\"T_4a090306_b6eb_11eb_87b5_d4bed9bcb8d0row155_col0\" class=\"data row155 col0\" >['Oxford/AstraZeneca']</td>\n",
       "            </tr>\n",
       "            <tr>\n",
       "                        <th id=\"T_4a090306_b6eb_11eb_87b5_d4bed9bcb8d0level0_row156\" class=\"row_heading level0 row156\" >Spain</th>\n",
       "                        <td id=\"T_4a090306_b6eb_11eb_87b5_d4bed9bcb8d0row156_col0\" class=\"data row156 col0\" >['Moderna, Oxford/AstraZeneca, Pfizer/BioNTech']</td>\n",
       "            </tr>\n",
       "            <tr>\n",
       "                        <th id=\"T_4a090306_b6eb_11eb_87b5_d4bed9bcb8d0level0_row157\" class=\"row_heading level0 row157\" >Sri Lanka</th>\n",
       "                        <td id=\"T_4a090306_b6eb_11eb_87b5_d4bed9bcb8d0row157_col0\" class=\"data row157 col0\" >['Oxford/AstraZeneca']</td>\n",
       "            </tr>\n",
       "            <tr>\n",
       "                        <th id=\"T_4a090306_b6eb_11eb_87b5_d4bed9bcb8d0level0_row158\" class=\"row_heading level0 row158\" >Sudan</th>\n",
       "                        <td id=\"T_4a090306_b6eb_11eb_87b5_d4bed9bcb8d0row158_col0\" class=\"data row158 col0\" >['Oxford/AstraZeneca']</td>\n",
       "            </tr>\n",
       "            <tr>\n",
       "                        <th id=\"T_4a090306_b6eb_11eb_87b5_d4bed9bcb8d0level0_row159\" class=\"row_heading level0 row159\" >Suriname</th>\n",
       "                        <td id=\"T_4a090306_b6eb_11eb_87b5_d4bed9bcb8d0row159_col0\" class=\"data row159 col0\" >['Oxford/AstraZeneca']</td>\n",
       "            </tr>\n",
       "            <tr>\n",
       "                        <th id=\"T_4a090306_b6eb_11eb_87b5_d4bed9bcb8d0level0_row160\" class=\"row_heading level0 row160\" >Sweden</th>\n",
       "                        <td id=\"T_4a090306_b6eb_11eb_87b5_d4bed9bcb8d0row160_col0\" class=\"data row160 col0\" >['Oxford/AstraZeneca, Pfizer/BioNTech']</td>\n",
       "            </tr>\n",
       "            <tr>\n",
       "                        <th id=\"T_4a090306_b6eb_11eb_87b5_d4bed9bcb8d0level0_row161\" class=\"row_heading level0 row161\" >Switzerland</th>\n",
       "                        <td id=\"T_4a090306_b6eb_11eb_87b5_d4bed9bcb8d0row161_col0\" class=\"data row161 col0\" >['Moderna, Pfizer/BioNTech']</td>\n",
       "            </tr>\n",
       "            <tr>\n",
       "                        <th id=\"T_4a090306_b6eb_11eb_87b5_d4bed9bcb8d0level0_row162\" class=\"row_heading level0 row162\" >Syria</th>\n",
       "                        <td id=\"T_4a090306_b6eb_11eb_87b5_d4bed9bcb8d0row162_col0\" class=\"data row162 col0\" >['Sputnik V']</td>\n",
       "            </tr>\n",
       "            <tr>\n",
       "                        <th id=\"T_4a090306_b6eb_11eb_87b5_d4bed9bcb8d0level0_row163\" class=\"row_heading level0 row163\" >Taiwan</th>\n",
       "                        <td id=\"T_4a090306_b6eb_11eb_87b5_d4bed9bcb8d0row163_col0\" class=\"data row163 col0\" >['Oxford/AstraZeneca']</td>\n",
       "            </tr>\n",
       "            <tr>\n",
       "                        <th id=\"T_4a090306_b6eb_11eb_87b5_d4bed9bcb8d0level0_row164\" class=\"row_heading level0 row164\" >Thailand</th>\n",
       "                        <td id=\"T_4a090306_b6eb_11eb_87b5_d4bed9bcb8d0row164_col0\" class=\"data row164 col0\" >['Oxford/AstraZeneca, Sinovac']</td>\n",
       "            </tr>\n",
       "            <tr>\n",
       "                        <th id=\"T_4a090306_b6eb_11eb_87b5_d4bed9bcb8d0level0_row165\" class=\"row_heading level0 row165\" >Togo</th>\n",
       "                        <td id=\"T_4a090306_b6eb_11eb_87b5_d4bed9bcb8d0row165_col0\" class=\"data row165 col0\" >['Oxford/AstraZeneca']</td>\n",
       "            </tr>\n",
       "            <tr>\n",
       "                        <th id=\"T_4a090306_b6eb_11eb_87b5_d4bed9bcb8d0level0_row166\" class=\"row_heading level0 row166\" >Trinidad and Tobago</th>\n",
       "                        <td id=\"T_4a090306_b6eb_11eb_87b5_d4bed9bcb8d0row166_col0\" class=\"data row166 col0\" >['Oxford/AstraZeneca']</td>\n",
       "            </tr>\n",
       "            <tr>\n",
       "                        <th id=\"T_4a090306_b6eb_11eb_87b5_d4bed9bcb8d0level0_row167\" class=\"row_heading level0 row167\" >Tunisia</th>\n",
       "                        <td id=\"T_4a090306_b6eb_11eb_87b5_d4bed9bcb8d0row167_col0\" class=\"data row167 col0\" >['Pfizer/BioNTech, Sinovac, Sputnik V']</td>\n",
       "            </tr>\n",
       "            <tr>\n",
       "                        <th id=\"T_4a090306_b6eb_11eb_87b5_d4bed9bcb8d0level0_row168\" class=\"row_heading level0 row168\" >Turkey</th>\n",
       "                        <td id=\"T_4a090306_b6eb_11eb_87b5_d4bed9bcb8d0row168_col0\" class=\"data row168 col0\" >['Pfizer/BioNTech, Sinovac']</td>\n",
       "            </tr>\n",
       "            <tr>\n",
       "                        <th id=\"T_4a090306_b6eb_11eb_87b5_d4bed9bcb8d0level0_row169\" class=\"row_heading level0 row169\" >Turks and Caicos Islands</th>\n",
       "                        <td id=\"T_4a090306_b6eb_11eb_87b5_d4bed9bcb8d0row169_col0\" class=\"data row169 col0\" >['Pfizer/BioNTech']</td>\n",
       "            </tr>\n",
       "            <tr>\n",
       "                        <th id=\"T_4a090306_b6eb_11eb_87b5_d4bed9bcb8d0level0_row170\" class=\"row_heading level0 row170\" >Uganda</th>\n",
       "                        <td id=\"T_4a090306_b6eb_11eb_87b5_d4bed9bcb8d0row170_col0\" class=\"data row170 col0\" >['Oxford/AstraZeneca']</td>\n",
       "            </tr>\n",
       "            <tr>\n",
       "                        <th id=\"T_4a090306_b6eb_11eb_87b5_d4bed9bcb8d0level0_row171\" class=\"row_heading level0 row171\" >Ukraine</th>\n",
       "                        <td id=\"T_4a090306_b6eb_11eb_87b5_d4bed9bcb8d0row171_col0\" class=\"data row171 col0\" >['Oxford/AstraZeneca']</td>\n",
       "            </tr>\n",
       "            <tr>\n",
       "                        <th id=\"T_4a090306_b6eb_11eb_87b5_d4bed9bcb8d0level0_row172\" class=\"row_heading level0 row172\" >United Arab Emirates</th>\n",
       "                        <td id=\"T_4a090306_b6eb_11eb_87b5_d4bed9bcb8d0row172_col0\" class=\"data row172 col0\" >['Oxford/AstraZeneca, Pfizer/BioNTech, Sinopharm/Beijing, Sinopharm/Wuhan, Sputnik V']</td>\n",
       "            </tr>\n",
       "            <tr>\n",
       "                        <th id=\"T_4a090306_b6eb_11eb_87b5_d4bed9bcb8d0level0_row173\" class=\"row_heading level0 row173\" >United Kingdom</th>\n",
       "                        <td id=\"T_4a090306_b6eb_11eb_87b5_d4bed9bcb8d0row173_col0\" class=\"data row173 col0\" >['Oxford/AstraZeneca, Pfizer/BioNTech']</td>\n",
       "            </tr>\n",
       "            <tr>\n",
       "                        <th id=\"T_4a090306_b6eb_11eb_87b5_d4bed9bcb8d0level0_row174\" class=\"row_heading level0 row174\" >United States</th>\n",
       "                        <td id=\"T_4a090306_b6eb_11eb_87b5_d4bed9bcb8d0row174_col0\" class=\"data row174 col0\" >['Johnson&Johnson, Moderna, Pfizer/BioNTech']</td>\n",
       "            </tr>\n",
       "            <tr>\n",
       "                        <th id=\"T_4a090306_b6eb_11eb_87b5_d4bed9bcb8d0level0_row175\" class=\"row_heading level0 row175\" >Uruguay</th>\n",
       "                        <td id=\"T_4a090306_b6eb_11eb_87b5_d4bed9bcb8d0row175_col0\" class=\"data row175 col0\" >['Pfizer/BioNTech, Sinovac']</td>\n",
       "            </tr>\n",
       "            <tr>\n",
       "                        <th id=\"T_4a090306_b6eb_11eb_87b5_d4bed9bcb8d0level0_row176\" class=\"row_heading level0 row176\" >Uzbekistan</th>\n",
       "                        <td id=\"T_4a090306_b6eb_11eb_87b5_d4bed9bcb8d0row176_col0\" class=\"data row176 col0\" >['Oxford/AstraZeneca']</td>\n",
       "            </tr>\n",
       "            <tr>\n",
       "                        <th id=\"T_4a090306_b6eb_11eb_87b5_d4bed9bcb8d0level0_row177\" class=\"row_heading level0 row177\" >Venezuela</th>\n",
       "                        <td id=\"T_4a090306_b6eb_11eb_87b5_d4bed9bcb8d0row177_col0\" class=\"data row177 col0\" >['Sputnik V']</td>\n",
       "            </tr>\n",
       "            <tr>\n",
       "                        <th id=\"T_4a090306_b6eb_11eb_87b5_d4bed9bcb8d0level0_row178\" class=\"row_heading level0 row178\" >Vietnam</th>\n",
       "                        <td id=\"T_4a090306_b6eb_11eb_87b5_d4bed9bcb8d0row178_col0\" class=\"data row178 col0\" >['Oxford/AstraZeneca']</td>\n",
       "            </tr>\n",
       "            <tr>\n",
       "                        <th id=\"T_4a090306_b6eb_11eb_87b5_d4bed9bcb8d0level0_row179\" class=\"row_heading level0 row179\" >Wales</th>\n",
       "                        <td id=\"T_4a090306_b6eb_11eb_87b5_d4bed9bcb8d0row179_col0\" class=\"data row179 col0\" >['Oxford/AstraZeneca, Pfizer/BioNTech']</td>\n",
       "            </tr>\n",
       "            <tr>\n",
       "                        <th id=\"T_4a090306_b6eb_11eb_87b5_d4bed9bcb8d0level0_row180\" class=\"row_heading level0 row180\" >Zambia</th>\n",
       "                        <td id=\"T_4a090306_b6eb_11eb_87b5_d4bed9bcb8d0row180_col0\" class=\"data row180 col0\" >['Oxford/AstraZeneca']</td>\n",
       "            </tr>\n",
       "            <tr>\n",
       "                        <th id=\"T_4a090306_b6eb_11eb_87b5_d4bed9bcb8d0level0_row181\" class=\"row_heading level0 row181\" >Zimbabwe</th>\n",
       "                        <td id=\"T_4a090306_b6eb_11eb_87b5_d4bed9bcb8d0row181_col0\" class=\"data row181 col0\" >['Sinopharm/Beijing']</td>\n",
       "            </tr>\n",
       "    </tbody></table>"
      ],
      "text/plain": [
       "<pandas.io.formats.style.Styler at 0x18fe8a61948>"
      ]
     },
     "execution_count": 41,
     "metadata": {},
     "output_type": "execute_result"
    }
   ],
   "source": [
    "data_df.style"
   ]
  },
  {
   "cell_type": "markdown",
   "metadata": {},
   "source": [
    "# 20.Plotting the top 10  countries with highest number of total vaccines taken"
   ]
  },
  {
   "cell_type": "code",
   "execution_count": 42,
   "metadata": {},
   "outputs": [
    {
     "data": {
      "text/plain": [
       "<Figure size 1440x432 with 0 Axes>"
      ]
     },
     "metadata": {},
     "output_type": "display_data"
    },
    {
     "data": {
      "image/png": "[encoded data removed]",
      "text/plain": [
       "<Figure size 432x288 with 1 Axes>"
      ]
     },
     "metadata": {
      "needs_background": "light"
     },
     "output_type": "display_data"
    }
   ],
   "source": [
    "total_vac=total_vac.sort_values(by='total_vaccinations',ascending=False)  #Sorting the values of dataframe in descending order\n",
    "plt.figure(figsize=(20,6))\n",
    "total_vac[:10].plot(kind='bar',color='Indianred')\n",
    "plt.title('Total number of vaccinations done')\n",
    "plt.show()"
   ]
  },
  {
   "cell_type": "code",
   "execution_count": 43,
   "metadata": {},
   "outputs": [
    {
     "data": {
      "text/html": [
       "<div>\n",
       "<style scoped>\n",
       "    .dataframe tbody tr th:only-of-type {\n",
       "        vertical-align: middle;\n",
       "    }\n",
       "\n",
       "    .dataframe tbody tr th {\n",
       "        vertical-align: top;\n",
       "    }\n",
       "\n",
       "    .dataframe thead th {\n",
       "        text-align: right;\n",
       "    }\n",
       "</style>\n",
       "<table border=\"1\" class=\"dataframe\">\n",
       "  <thead>\n",
       "    <tr style=\"text-align: right;\">\n",
       "      <th></th>\n",
       "      <th>total_vaccinations</th>\n",
       "    </tr>\n",
       "    <tr>\n",
       "      <th>Country_name</th>\n",
       "      <th></th>\n",
       "    </tr>\n",
       "  </thead>\n",
       "  <tbody>\n",
       "    <tr>\n",
       "      <td>United States</td>\n",
       "      <td>8.122810e+09</td>\n",
       "    </tr>\n",
       "    <tr>\n",
       "      <td>China</td>\n",
       "      <td>3.864033e+09</td>\n",
       "    </tr>\n",
       "    <tr>\n",
       "      <td>India</td>\n",
       "      <td>2.959308e+09</td>\n",
       "    </tr>\n",
       "    <tr>\n",
       "      <td>United Kingdom</td>\n",
       "      <td>2.014420e+09</td>\n",
       "    </tr>\n",
       "    <tr>\n",
       "      <td>England</td>\n",
       "      <td>1.700138e+09</td>\n",
       "    </tr>\n",
       "    <tr>\n",
       "      <td>...</td>\n",
       "      <td>...</td>\n",
       "    </tr>\n",
       "    <tr>\n",
       "      <td>Papua New Guinea</td>\n",
       "      <td>1.331000e+03</td>\n",
       "    </tr>\n",
       "    <tr>\n",
       "      <td>South Sudan</td>\n",
       "      <td>9.470000e+02</td>\n",
       "    </tr>\n",
       "    <tr>\n",
       "      <td>Armenia</td>\n",
       "      <td>5.650000e+02</td>\n",
       "    </tr>\n",
       "    <tr>\n",
       "      <td>Cameroon</td>\n",
       "      <td>4.000000e+02</td>\n",
       "    </tr>\n",
       "    <tr>\n",
       "      <td>Zambia</td>\n",
       "      <td>1.060000e+02</td>\n",
       "    </tr>\n",
       "  </tbody>\n",
       "</table>\n",
       "<p>182 rows × 1 columns</p>\n",
       "</div>"
      ],
      "text/plain": [
       "                  total_vaccinations\n",
       "Country_name                        \n",
       "United States           8.122810e+09\n",
       "China                   3.864033e+09\n",
       "India                   2.959308e+09\n",
       "United Kingdom          2.014420e+09\n",
       "England                 1.700138e+09\n",
       "...                              ...\n",
       "Papua New Guinea        1.331000e+03\n",
       "South Sudan             9.470000e+02\n",
       "Armenia                 5.650000e+02\n",
       "Cameroon                4.000000e+02\n",
       "Zambia                  1.060000e+02\n",
       "\n",
       "[182 rows x 1 columns]"
      ]
     },
     "execution_count": 43,
     "metadata": {},
     "output_type": "execute_result"
    }
   ],
   "source": [
    "total_vac"
   ]
  },
  {
   "cell_type": "code",
   "execution_count": 44,
   "metadata": {},
   "outputs": [],
   "source": [
    "##The top 10 countries according to the total number of vaccinations were done till now are displayed in the graph above and the top 3 are:\n",
    "#USA\n",
    "#China\n",
    "#India"
   ]
  },
  {
   "cell_type": "markdown",
   "metadata": {},
   "source": [
    "# 21. plot showing total number of people vaccinated in each country"
   ]
  },
  {
   "cell_type": "code",
   "execution_count": 45,
   "metadata": {},
   "outputs": [
    {
     "data": {
      "text/plain": [
       "Text(0.5, 1.0, 'Total number of people vaccinated')"
      ]
     },
     "execution_count": 45,
     "metadata": {},
     "output_type": "execute_result"
    },
    {
     "data": {
      "text/plain": [
       "<Figure size 1440x720 with 0 Axes>"
      ]
     },
     "metadata": {},
     "output_type": "display_data"
    },
    {
     "data": {
      "image/png": "[encoded data removed]",
      "text/plain": [
       "<Figure size 432x288 with 1 Axes>"
      ]
     },
     "metadata": {
      "needs_background": "light"
     },
     "output_type": "display_data"
    }
   ],
   "source": [
    "plt.figure(figsize=(20, 10))\n",
    "people_vac=data.groupby('Country_name').Total_vaccinations_per_date_and_country.last().to_frame()\n",
    "people_vac=people_vac.sort_values(by='Total_vaccinations_per_date_and_country',ascending=False)\n",
    "people_vac[:20].plot(kind='bar')\n",
    "plt.title('Total number of people vaccinated')"
   ]
  },
  {
   "cell_type": "code",
   "execution_count": 46,
   "metadata": {},
   "outputs": [
    {
     "data": {
      "image/png": "[encoded data removed]",
      "text/plain": [
       "<Figure size 1440x432 with 1 Axes>"
      ]
     },
     "metadata": {
      "needs_background": "light"
     },
     "output_type": "display_data"
    }
   ],
   "source": [
    "plt.figure(figsize=(20, 6))\n",
    "data.groupby('Country_name')['Total_vaccinations_per_date_and_country'].max().sort_values(ascending=False)[:50].plot(kind='bar');"
   ]
  },
  {
   "cell_type": "markdown",
   "metadata": {},
   "source": [
    "# 22. Plot showing total number of people fully vaccinated by countrywise"
   ]
  },
  {
   "cell_type": "code",
   "execution_count": 47,
   "metadata": {},
   "outputs": [
    {
     "data": {
      "text/plain": [
       "Text(0.5, 1.0, 'Countrywise total number of people fully vaccinated')"
      ]
     },
     "execution_count": 47,
     "metadata": {},
     "output_type": "execute_result"
    },
    {
     "data": {
      "image/png": "[encoded data removed]",
      "text/plain": [
       "<Figure size 432x288 with 1 Axes>"
      ]
     },
     "metadata": {
      "needs_background": "light"
     },
     "output_type": "display_data"
    }
   ],
   "source": [
    "people_fully_vac=data.groupby('Country_name').Number_of_people_fully_vaccinated.last().to_frame()\n",
    "people_fully_vac=people_fully_vac.sort_values(by='Number_of_people_fully_vaccinated',ascending=False)\n",
    "people_fully_vac[:20].plot(kind='bar',color='c')\n",
    "plt.title('Countrywise total number of people fully vaccinated')"
   ]
  },
  {
   "cell_type": "code",
   "execution_count": 48,
   "metadata": {},
   "outputs": [],
   "source": [
    "#In Gabraltar, maximum people got vaccinated all over the world. As it have less population as comparison to others so it covers its all population more fastly as others."
   ]
  },
  {
   "cell_type": "markdown",
   "metadata": {},
   "source": [
    "# 23 Plot showing the count of the vaccine type"
   ]
  },
  {
   "cell_type": "code",
   "execution_count": 49,
   "metadata": {},
   "outputs": [
    {
     "data": {
      "text/plain": [
       "Text(0.5, 1.0, 'Vaccine type (count)')"
      ]
     },
     "execution_count": 49,
     "metadata": {},
     "output_type": "execute_result"
    },
    {
     "data": {
      "image/png": "[encoded data removed]",
      "text/plain": [
       "<Figure size 1440x432 with 1 Axes>"
      ]
     },
     "metadata": {
      "needs_background": "light"
     },
     "output_type": "display_data"
    }
   ],
   "source": [
    "plt.figure(figsize=(20,6))\n",
    "plot=sns.countplot(data['The_combination_of_vaccines_used_by_a_country'],orient='y')\n",
    "plt.xticks(rotation=90)\n",
    "plt.title('Vaccine type (count)',fontweight='bold',fontsize='18')"
   ]
  },
  {
   "cell_type": "code",
   "execution_count": 50,
   "metadata": {},
   "outputs": [],
   "source": [
    "#Vaccines used in the country - total number of vaccines used in the country (up to date);"
   ]
  },
  {
   "cell_type": "code",
   "execution_count": null,
   "metadata": {},
   "outputs": [],
   "source": []
  },
  {
   "cell_type": "markdown",
   "metadata": {},
   "source": [
    "# 24 Plot showing people fully vaccinated by countrywise"
   ]
  },
  {
   "cell_type": "code",
   "execution_count": 208,
   "metadata": {},
   "outputs": [],
   "source": [
    "#Vaccines used in the country - total number of vaccines used in the country (up to date);"
   ]
  },
  {
   "cell_type": "code",
   "execution_count": 209,
   "metadata": {
    "scrolled": true
   },
   "outputs": [
    {
     "data": {
      "image/png": "[encoded data removed]",
      "text/plain": [
       "<Figure size 1440x432 with 1 Axes>"
      ]
     },
     "metadata": {},
     "output_type": "display_data"
    }
   ],
   "source": [
    "plt.figure(figsize=(20, 6))\n",
    "data.groupby('Country_name')['People_fully_vaccinated_percent'].last().sort_values(ascending=False)[:50].plot(kind='bar')\n",
    "plt.ylabel('people_fully_vaccinated_per_hundred')\n",
    "plt.title('People fully vaccinated in Country', fontsize=24, fontweight='bold');"
   ]
  },
  {
   "cell_type": "code",
   "execution_count": 210,
   "metadata": {},
   "outputs": [],
   "source": [
    "#"
   ]
  },
  {
   "cell_type": "code",
   "execution_count": 211,
   "metadata": {},
   "outputs": [
    {
     "data": {
      "text/plain": [
       "Text(0.5, 1.0, 'Countrywise people fully vaccinated/hundred')"
      ]
     },
     "execution_count": 211,
     "metadata": {},
     "output_type": "execute_result"
    },
    {
     "data": {
      "image/png": "[encoded data removed]",
      "text/plain": [
       "<Figure size 432x288 with 1 Axes>"
      ]
     },
     "metadata": {},
     "output_type": "display_data"
    }
   ],
   "source": [
    "people_fully_vacc=data.groupby('Country_name').Total_vaccination_percent.last().to_frame()\n",
    "people_fully_vacc=people_fully_vacc.sort_values(by='Total_vaccination_percent',ascending=False)\n",
    "people_fully_vacc[:40].plot(kind='bar',color='magenta')\n",
    "plt.title('Countrywise people fully vaccinated/hundred')"
   ]
  },
  {
   "cell_type": "code",
   "execution_count": 212,
   "metadata": {},
   "outputs": [],
   "source": [
    "#Total vaccinations per hundred - ratio (in percent) between vaccination number and total population up to the date in the country;"
   ]
  },
  {
   "cell_type": "markdown",
   "metadata": {},
   "source": [
    "# Total number of vaccinations - this is the absolute number of total immunizations in the country;\n"
   ]
  },
  {
   "cell_type": "code",
   "execution_count": 213,
   "metadata": {},
   "outputs": [
    {
     "data": {
      "text/plain": [
       "Text(0.5, 1.0, 'Total_vaccinations_per_date_and_country')"
      ]
     },
     "execution_count": 213,
     "metadata": {},
     "output_type": "execute_result"
    },
    {
     "data": {
      "image/png": "[encoded data removed]",
      "text/plain": [
       "<Figure size 2016x720 with 1 Axes>"
      ]
     },
     "metadata": {},
     "output_type": "display_data"
    }
   ],
   "source": [
    "sns.set_style('whitegrid')\n",
    "plt.figure(figsize=(28,10))\n",
    "data.groupby('Country_name').Total_vaccinations_per_date_and_country.last().plot(kind='bar')\n",
    "plt.title('Total_vaccinations_per_date_and_country',fontweight='bold',fontsize=24)"
   ]
  },
  {
   "cell_type": "code",
   "execution_count": 214,
   "metadata": {},
   "outputs": [
    {
     "data": {
      "text/plain": [
       "Canada           124\n",
       "Russia           123\n",
       "China            123\n",
       "Israel           119\n",
       "United States    118\n",
       "                ... \n",
       "Zambia             2\n",
       "Ethiopia           1\n",
       "Laos               1\n",
       "Armenia            1\n",
       "Nicaragua          1\n",
       "Name: Country_name, Length: 182, dtype: int64"
      ]
     },
     "execution_count": 214,
     "metadata": {},
     "output_type": "execute_result"
    }
   ],
   "source": [
    "data.Country_name.value_counts(ascending=False)"
   ]
  },
  {
   "cell_type": "code",
   "execution_count": 215,
   "metadata": {},
   "outputs": [
    {
     "data": {
      "text/plain": [
       "2021-03-31    164\n",
       "2021-03-23    162\n",
       "2021-03-30    161\n",
       "2021-03-29    161\n",
       "2021-03-28    160\n",
       "             ... \n",
       "2020-12-16      3\n",
       "2020-12-18      3\n",
       "2020-12-15      3\n",
       "2020-12-17      3\n",
       "2020-12-14      1\n",
       "Name: Calendar_date, Length: 124, dtype: int64"
      ]
     },
     "execution_count": 215,
     "metadata": {},
     "output_type": "execute_result"
    }
   ],
   "source": [
    "data.Calendar_date.value_counts()"
   ]
  },
  {
   "cell_type": "code",
   "execution_count": 216,
   "metadata": {},
   "outputs": [
    {
     "data": {
      "text/plain": [
       "124"
      ]
     },
     "execution_count": 216,
     "metadata": {},
     "output_type": "execute_result"
    }
   ],
   "source": [
    "data.Calendar_date.nunique()"
   ]
  },
  {
   "cell_type": "markdown",
   "metadata": {},
   "source": [
    "# 25 .How many types of vaccines are available all over the world"
   ]
  },
  {
   "cell_type": "code",
   "execution_count": 217,
   "metadata": {},
   "outputs": [
    {
     "data": {
      "text/plain": [
       "Moderna, Oxford/AstraZeneca, Pfizer/BioNTech                                          2772\n",
       "Oxford/AstraZeneca                                                                    2024\n",
       "Oxford/AstraZeneca, Pfizer/BioNTech                                                   1374\n",
       "Pfizer/BioNTech                                                                       1336\n",
       "Pfizer/BioNTech, Sinovac                                                               516\n",
       "Moderna, Pfizer/BioNTech                                                               476\n",
       "Sputnik V                                                                              419\n",
       "Oxford/AstraZeneca, Sinovac                                                            337\n",
       "Oxford/AstraZeneca, Sinopharm/Beijing                                                  281\n",
       "Oxford/AstraZeneca, Pfizer/BioNTech, Sinopharm/Beijing, Sputnik V                      277\n",
       "Oxford/AstraZeneca, Sinopharm/Beijing, Sputnik V                                       248\n",
       "Oxford/AstraZeneca, Pfizer/BioNTech, Sinovac                                           235\n",
       "Sinopharm/Beijing                                                                      234\n",
       "Pfizer/BioNTech, Sinopharm/Beijing                                                     227\n",
       "EpiVacCorona, Sputnik V                                                                123\n",
       "Sinopharm/Beijing, Sinopharm/Wuhan, Sinovac                                            123\n",
       "Johnson&Johnson, Moderna, Pfizer/BioNTech                                              118\n",
       "CanSino, Oxford/AstraZeneca, Pfizer/BioNTech, Sinovac, Sputnik V                       114\n",
       "Moderna, Oxford/AstraZeneca, Pfizer/BioNTech, Sinopharm/Beijing, Sputnik V             108\n",
       "Oxford/AstraZeneca, Pfizer/BioNTech, Sinopharm/Beijing, Sinopharm/Wuhan, Sputnik V     102\n",
       "Covaxin, Oxford/AstraZeneca                                                             92\n",
       "Moderna, Oxford/AstraZeneca                                                             91\n",
       "Sinovac                                                                                 90\n",
       "Oxford/AstraZeneca, Pfizer/BioNTech, Sinopharm/Beijing                                  74\n",
       "Oxford/AstraZeneca, Sinopharm/Beijing, Sinovac                                          67\n",
       "Oxford/AstraZeneca, Pfizer/BioNTech, Sputnik V                                          58\n",
       "Sinopharm/Beijing, Sputnik V                                                            57\n",
       "Johnson&Johnson                                                                         57\n",
       "Pfizer/BioNTech, Sputnik V                                                              48\n",
       "Oxford/AstraZeneca, Sputnik V                                                           43\n",
       "Pfizer/BioNTech, Sinovac, Sputnik V                                                     35\n",
       "Name: The_combination_of_vaccines_used_by_a_country, dtype: int64"
      ]
     },
     "execution_count": 217,
     "metadata": {},
     "output_type": "execute_result"
    }
   ],
   "source": [
    "data.The_combination_of_vaccines_used_by_a_country.value_counts()"
   ]
  },
  {
   "cell_type": "code",
   "execution_count": 218,
   "metadata": {},
   "outputs": [
    {
     "data": {
      "text/plain": [
       "12156"
      ]
     },
     "execution_count": 218,
     "metadata": {},
     "output_type": "execute_result"
    }
   ],
   "source": [
    "data.The_combination_of_vaccines_used_by_a_country.count()"
   ]
  },
  {
   "cell_type": "code",
   "execution_count": 219,
   "metadata": {},
   "outputs": [
    {
     "data": {
      "text/plain": [
       "31"
      ]
     },
     "execution_count": 219,
     "metadata": {},
     "output_type": "execute_result"
    }
   ],
   "source": [
    "data.The_combination_of_vaccines_used_by_a_country.nunique()"
   ]
  },
  {
   "cell_type": "code",
   "execution_count": 220,
   "metadata": {},
   "outputs": [
    {
     "data": {
      "text/plain": [
       "https://coronavirus.data.gov.uk/details/healthcare                                                                                    515\n",
       "https://covid19tracker.ca/vaccinationtracker.html                                                                                     124\n",
       "http://www.nhc.gov.cn/xcs/yqjzqk/202104/d2755da833374735ab125abcc2699849.shtml                                                        123\n",
       "https://gogov.ru/articles/covid-v-stats                                                                                               123\n",
       "https://datadashboard.health.gov.il/COVID-19/general                                                                                  119\n",
       "                                                                                                                                     ... \n",
       "http://www.china.org.cn/world/Off_the_Wire/2021-04/15/content_77410184.htm                                                              2\n",
       "http://www.xinhuanet.com/english/asiapacific/2021-03/17/c_139816710.htm                                                                 1\n",
       "https://www.confidencial.com.ni/nacion/gobierno-de-nicaragua-informa-avances-vacunacion-contra-la-covid-19-con-44-dias-de-retraso/      1\n",
       "https://www.facebook.com/EthiopiaFMoH/posts/1795514303952698                                                                            1\n",
       "https://rus.azatutyun.am/a/31180204.html                                                                                                1\n",
       "Name: Source_website, Length: 178, dtype: int64"
      ]
     },
     "execution_count": 220,
     "metadata": {},
     "output_type": "execute_result"
    }
   ],
   "source": [
    "data.Source_website.value_counts()"
   ]
  },
  {
   "cell_type": "markdown",
   "metadata": {},
   "source": [
    "# 26. Total vaccines taken in each month all over the world"
   ]
  },
  {
   "cell_type": "code",
   "execution_count": 221,
   "metadata": {},
   "outputs": [
    {
     "data": {
      "text/plain": [
       "0        2021-02-22\n",
       "1        2021-02-23\n",
       "2        2021-02-24\n",
       "3        2021-02-25\n",
       "4        2021-02-26\n",
       "            ...    \n",
       "12151    2021-04-12\n",
       "12152    2021-04-13\n",
       "12153    2021-04-14\n",
       "12154    2021-04-15\n",
       "12155    2021-04-16\n",
       "Name: Calendar_date, Length: 12156, dtype: object"
      ]
     },
     "execution_count": 221,
     "metadata": {},
     "output_type": "execute_result"
    }
   ],
   "source": [
    "data['Calendar_date']"
   ]
  },
  {
   "cell_type": "code",
   "execution_count": 222,
   "metadata": {},
   "outputs": [],
   "source": [
    "date_month = [date.split('-')[1] for date in data.Calendar_date]\n",
    "data['date_month'] = date_month"
   ]
  },
  {
   "cell_type": "code",
   "execution_count": 223,
   "metadata": {},
   "outputs": [
    {
     "data": {
      "image/png": "[encoded data removed]",
      "text/plain": [
       "<Figure size 432x288 with 1 Axes>"
      ]
     },
     "metadata": {},
     "output_type": "display_data"
    }
   ],
   "source": [
    "data = data.groupby('date_month')['Daily_vaccination'].sum().sort_values(ascending=False)\n",
    "plt.bar(data.index, data);\n",
    "plt.xlabel('month');\n",
    "plt.ylabel('total vaccination in month')\n",
    "plt.title('Total Vaccination in a Month all over the World', fontsize=11, fontweight='bold');"
   ]
  },
  {
   "cell_type": "code",
   "execution_count": 224,
   "metadata": {},
   "outputs": [],
   "source": [
    "#In March, maximum people got vaccinated all over the month. As most of the country in March have a vaccine\n",
    "#so they try to vaccinate there population as much it is possible."
   ]
  },
  {
   "cell_type": "code",
   "execution_count": 99,
   "metadata": {},
   "outputs": [],
   "source": [
    "#creating dataframe for top 5 vaccinated countries\n",
    "x= data.loc[(data.country== \"United States\") | (data.country== \"China\")| (data.country== \"India\")| (data.country== \"Unted Kingdom\")|(data.country== \"England\")]"
   ]
  },
  {
   "cell_type": "code",
   "execution_count": 100,
   "metadata": {},
   "outputs": [
    {
     "data": {
      "text/html": [
       "<div>\n",
       "<style scoped>\n",
       "    .dataframe tbody tr th:only-of-type {\n",
       "        vertical-align: middle;\n",
       "    }\n",
       "\n",
       "    .dataframe tbody tr th {\n",
       "        vertical-align: top;\n",
       "    }\n",
       "\n",
       "    .dataframe thead th {\n",
       "        text-align: right;\n",
       "    }\n",
       "</style>\n",
       "<table border=\"1\" class=\"dataframe\">\n",
       "  <thead>\n",
       "    <tr style=\"text-align: right;\">\n",
       "      <th></th>\n",
       "      <th>country</th>\n",
       "      <th>iso_code</th>\n",
       "      <th>date</th>\n",
       "      <th>total_vaccinations</th>\n",
       "      <th>people_vaccinated</th>\n",
       "      <th>people_fully_vaccinated</th>\n",
       "      <th>daily_vaccinations_raw</th>\n",
       "      <th>daily_vaccinations</th>\n",
       "      <th>total_vaccinations_per_hundred</th>\n",
       "      <th>people_vaccinated_per_hundred</th>\n",
       "      <th>people_fully_vaccinated_per_hundred</th>\n",
       "      <th>daily_vaccinations_per_million</th>\n",
       "      <th>vaccines</th>\n",
       "      <th>source_name</th>\n",
       "      <th>source_website</th>\n",
       "    </tr>\n",
       "  </thead>\n",
       "  <tbody>\n",
       "    <tr>\n",
       "      <td>2195</td>\n",
       "      <td>China</td>\n",
       "      <td>CHN</td>\n",
       "      <td>2020-12-15</td>\n",
       "      <td>1500000.0</td>\n",
       "      <td>NaN</td>\n",
       "      <td>NaN</td>\n",
       "      <td>NaN</td>\n",
       "      <td>NaN</td>\n",
       "      <td>0.10</td>\n",
       "      <td>NaN</td>\n",
       "      <td>NaN</td>\n",
       "      <td>NaN</td>\n",
       "      <td>Sinopharm/Beijing, Sinopharm/Wuhan, Sinovac</td>\n",
       "      <td>National Health Commission</td>\n",
       "      <td>http://www.nhc.gov.cn/xcs/yqjzqk/202104/d2755d...</td>\n",
       "    </tr>\n",
       "    <tr>\n",
       "      <td>2196</td>\n",
       "      <td>China</td>\n",
       "      <td>CHN</td>\n",
       "      <td>2020-12-16</td>\n",
       "      <td>NaN</td>\n",
       "      <td>NaN</td>\n",
       "      <td>NaN</td>\n",
       "      <td>NaN</td>\n",
       "      <td>187500.0</td>\n",
       "      <td>NaN</td>\n",
       "      <td>NaN</td>\n",
       "      <td>NaN</td>\n",
       "      <td>130.0</td>\n",
       "      <td>Sinopharm/Beijing, Sinopharm/Wuhan, Sinovac</td>\n",
       "      <td>National Health Commission</td>\n",
       "      <td>http://www.nhc.gov.cn/xcs/yqjzqk/202104/d2755d...</td>\n",
       "    </tr>\n",
       "    <tr>\n",
       "      <td>2197</td>\n",
       "      <td>China</td>\n",
       "      <td>CHN</td>\n",
       "      <td>2020-12-17</td>\n",
       "      <td>NaN</td>\n",
       "      <td>NaN</td>\n",
       "      <td>NaN</td>\n",
       "      <td>NaN</td>\n",
       "      <td>187500.0</td>\n",
       "      <td>NaN</td>\n",
       "      <td>NaN</td>\n",
       "      <td>NaN</td>\n",
       "      <td>130.0</td>\n",
       "      <td>Sinopharm/Beijing, Sinopharm/Wuhan, Sinovac</td>\n",
       "      <td>National Health Commission</td>\n",
       "      <td>http://www.nhc.gov.cn/xcs/yqjzqk/202104/d2755d...</td>\n",
       "    </tr>\n",
       "    <tr>\n",
       "      <td>2198</td>\n",
       "      <td>China</td>\n",
       "      <td>CHN</td>\n",
       "      <td>2020-12-18</td>\n",
       "      <td>NaN</td>\n",
       "      <td>NaN</td>\n",
       "      <td>NaN</td>\n",
       "      <td>NaN</td>\n",
       "      <td>187500.0</td>\n",
       "      <td>NaN</td>\n",
       "      <td>NaN</td>\n",
       "      <td>NaN</td>\n",
       "      <td>130.0</td>\n",
       "      <td>Sinopharm/Beijing, Sinopharm/Wuhan, Sinovac</td>\n",
       "      <td>National Health Commission</td>\n",
       "      <td>http://www.nhc.gov.cn/xcs/yqjzqk/202104/d2755d...</td>\n",
       "    </tr>\n",
       "    <tr>\n",
       "      <td>2199</td>\n",
       "      <td>China</td>\n",
       "      <td>CHN</td>\n",
       "      <td>2020-12-19</td>\n",
       "      <td>NaN</td>\n",
       "      <td>NaN</td>\n",
       "      <td>NaN</td>\n",
       "      <td>NaN</td>\n",
       "      <td>187500.0</td>\n",
       "      <td>NaN</td>\n",
       "      <td>NaN</td>\n",
       "      <td>NaN</td>\n",
       "      <td>130.0</td>\n",
       "      <td>Sinopharm/Beijing, Sinopharm/Wuhan, Sinovac</td>\n",
       "      <td>National Health Commission</td>\n",
       "      <td>http://www.nhc.gov.cn/xcs/yqjzqk/202104/d2755d...</td>\n",
       "    </tr>\n",
       "    <tr>\n",
       "      <td>...</td>\n",
       "      <td>...</td>\n",
       "      <td>...</td>\n",
       "      <td>...</td>\n",
       "      <td>...</td>\n",
       "      <td>...</td>\n",
       "      <td>...</td>\n",
       "      <td>...</td>\n",
       "      <td>...</td>\n",
       "      <td>...</td>\n",
       "      <td>...</td>\n",
       "      <td>...</td>\n",
       "      <td>...</td>\n",
       "      <td>...</td>\n",
       "      <td>...</td>\n",
       "      <td>...</td>\n",
       "    </tr>\n",
       "    <tr>\n",
       "      <td>11829</td>\n",
       "      <td>United States</td>\n",
       "      <td>USA</td>\n",
       "      <td>2021-04-12</td>\n",
       "      <td>189692045.0</td>\n",
       "      <td>120848490.0</td>\n",
       "      <td>74066085.0</td>\n",
       "      <td>2644914.0</td>\n",
       "      <td>3214893.0</td>\n",
       "      <td>56.72</td>\n",
       "      <td>36.13</td>\n",
       "      <td>22.15</td>\n",
       "      <td>9613.0</td>\n",
       "      <td>Johnson&amp;Johnson, Moderna, Pfizer/BioNTech</td>\n",
       "      <td>Centers for Disease Control and Prevention</td>\n",
       "      <td>https://covid.cdc.gov/covid-data-tracker/#vacc...</td>\n",
       "    </tr>\n",
       "    <tr>\n",
       "      <td>11830</td>\n",
       "      <td>United States</td>\n",
       "      <td>USA</td>\n",
       "      <td>2021-04-13</td>\n",
       "      <td>192282781.0</td>\n",
       "      <td>122295530.0</td>\n",
       "      <td>75322283.0</td>\n",
       "      <td>2590736.0</td>\n",
       "      <td>3384387.0</td>\n",
       "      <td>57.49</td>\n",
       "      <td>36.57</td>\n",
       "      <td>22.52</td>\n",
       "      <td>10120.0</td>\n",
       "      <td>Johnson&amp;Johnson, Moderna, Pfizer/BioNTech</td>\n",
       "      <td>Centers for Disease Control and Prevention</td>\n",
       "      <td>https://covid.cdc.gov/covid-data-tracker/#vacc...</td>\n",
       "    </tr>\n",
       "    <tr>\n",
       "      <td>11831</td>\n",
       "      <td>United States</td>\n",
       "      <td>USA</td>\n",
       "      <td>2021-04-14</td>\n",
       "      <td>194791836.0</td>\n",
       "      <td>123917385.0</td>\n",
       "      <td>76681252.0</td>\n",
       "      <td>2509055.0</td>\n",
       "      <td>3330740.0</td>\n",
       "      <td>58.24</td>\n",
       "      <td>37.05</td>\n",
       "      <td>22.93</td>\n",
       "      <td>9959.0</td>\n",
       "      <td>Johnson&amp;Johnson, Moderna, Pfizer/BioNTech</td>\n",
       "      <td>Centers for Disease Control and Prevention</td>\n",
       "      <td>https://covid.cdc.gov/covid-data-tracker/#vacc...</td>\n",
       "    </tr>\n",
       "    <tr>\n",
       "      <td>11832</td>\n",
       "      <td>United States</td>\n",
       "      <td>USA</td>\n",
       "      <td>2021-04-15</td>\n",
       "      <td>198317040.0</td>\n",
       "      <td>125822868.0</td>\n",
       "      <td>78498290.0</td>\n",
       "      <td>3525204.0</td>\n",
       "      <td>3348189.0</td>\n",
       "      <td>59.30</td>\n",
       "      <td>37.62</td>\n",
       "      <td>23.47</td>\n",
       "      <td>10011.0</td>\n",
       "      <td>Johnson&amp;Johnson, Moderna, Pfizer/BioNTech</td>\n",
       "      <td>Centers for Disease Control and Prevention</td>\n",
       "      <td>https://covid.cdc.gov/covid-data-tracker/#vacc...</td>\n",
       "    </tr>\n",
       "    <tr>\n",
       "      <td>11833</td>\n",
       "      <td>United States</td>\n",
       "      <td>USA</td>\n",
       "      <td>2021-04-16</td>\n",
       "      <td>202282923.0</td>\n",
       "      <td>127743096.0</td>\n",
       "      <td>80609818.0</td>\n",
       "      <td>3965883.0</td>\n",
       "      <td>3349306.0</td>\n",
       "      <td>60.48</td>\n",
       "      <td>38.20</td>\n",
       "      <td>24.10</td>\n",
       "      <td>10015.0</td>\n",
       "      <td>Johnson&amp;Johnson, Moderna, Pfizer/BioNTech</td>\n",
       "      <td>Centers for Disease Control and Prevention</td>\n",
       "      <td>https://covid.cdc.gov/covid-data-tracker/#vacc...</td>\n",
       "    </tr>\n",
       "  </tbody>\n",
       "</table>\n",
       "<p>436 rows × 15 columns</p>\n",
       "</div>"
      ],
      "text/plain": [
       "             country iso_code        date  total_vaccinations  \\\n",
       "2195           China      CHN  2020-12-15           1500000.0   \n",
       "2196           China      CHN  2020-12-16                 NaN   \n",
       "2197           China      CHN  2020-12-17                 NaN   \n",
       "2198           China      CHN  2020-12-18                 NaN   \n",
       "2199           China      CHN  2020-12-19                 NaN   \n",
       "...              ...      ...         ...                 ...   \n",
       "11829  United States      USA  2021-04-12         189692045.0   \n",
       "11830  United States      USA  2021-04-13         192282781.0   \n",
       "11831  United States      USA  2021-04-14         194791836.0   \n",
       "11832  United States      USA  2021-04-15         198317040.0   \n",
       "11833  United States      USA  2021-04-16         202282923.0   \n",
       "\n",
       "       people_vaccinated  people_fully_vaccinated  daily_vaccinations_raw  \\\n",
       "2195                 NaN                      NaN                     NaN   \n",
       "2196                 NaN                      NaN                     NaN   \n",
       "2197                 NaN                      NaN                     NaN   \n",
       "2198                 NaN                      NaN                     NaN   \n",
       "2199                 NaN                      NaN                     NaN   \n",
       "...                  ...                      ...                     ...   \n",
       "11829        120848490.0               74066085.0               2644914.0   \n",
       "11830        122295530.0               75322283.0               2590736.0   \n",
       "11831        123917385.0               76681252.0               2509055.0   \n",
       "11832        125822868.0               78498290.0               3525204.0   \n",
       "11833        127743096.0               80609818.0               3965883.0   \n",
       "\n",
       "       daily_vaccinations  total_vaccinations_per_hundred  \\\n",
       "2195                  NaN                            0.10   \n",
       "2196             187500.0                             NaN   \n",
       "2197             187500.0                             NaN   \n",
       "2198             187500.0                             NaN   \n",
       "2199             187500.0                             NaN   \n",
       "...                   ...                             ...   \n",
       "11829           3214893.0                           56.72   \n",
       "11830           3384387.0                           57.49   \n",
       "11831           3330740.0                           58.24   \n",
       "11832           3348189.0                           59.30   \n",
       "11833           3349306.0                           60.48   \n",
       "\n",
       "       people_vaccinated_per_hundred  people_fully_vaccinated_per_hundred  \\\n",
       "2195                             NaN                                  NaN   \n",
       "2196                             NaN                                  NaN   \n",
       "2197                             NaN                                  NaN   \n",
       "2198                             NaN                                  NaN   \n",
       "2199                             NaN                                  NaN   \n",
       "...                              ...                                  ...   \n",
       "11829                          36.13                                22.15   \n",
       "11830                          36.57                                22.52   \n",
       "11831                          37.05                                22.93   \n",
       "11832                          37.62                                23.47   \n",
       "11833                          38.20                                24.10   \n",
       "\n",
       "       daily_vaccinations_per_million  \\\n",
       "2195                              NaN   \n",
       "2196                            130.0   \n",
       "2197                            130.0   \n",
       "2198                            130.0   \n",
       "2199                            130.0   \n",
       "...                               ...   \n",
       "11829                          9613.0   \n",
       "11830                         10120.0   \n",
       "11831                          9959.0   \n",
       "11832                         10011.0   \n",
       "11833                         10015.0   \n",
       "\n",
       "                                          vaccines  \\\n",
       "2195   Sinopharm/Beijing, Sinopharm/Wuhan, Sinovac   \n",
       "2196   Sinopharm/Beijing, Sinopharm/Wuhan, Sinovac   \n",
       "2197   Sinopharm/Beijing, Sinopharm/Wuhan, Sinovac   \n",
       "2198   Sinopharm/Beijing, Sinopharm/Wuhan, Sinovac   \n",
       "2199   Sinopharm/Beijing, Sinopharm/Wuhan, Sinovac   \n",
       "...                                            ...   \n",
       "11829    Johnson&Johnson, Moderna, Pfizer/BioNTech   \n",
       "11830    Johnson&Johnson, Moderna, Pfizer/BioNTech   \n",
       "11831    Johnson&Johnson, Moderna, Pfizer/BioNTech   \n",
       "11832    Johnson&Johnson, Moderna, Pfizer/BioNTech   \n",
       "11833    Johnson&Johnson, Moderna, Pfizer/BioNTech   \n",
       "\n",
       "                                      source_name  \\\n",
       "2195                   National Health Commission   \n",
       "2196                   National Health Commission   \n",
       "2197                   National Health Commission   \n",
       "2198                   National Health Commission   \n",
       "2199                   National Health Commission   \n",
       "...                                           ...   \n",
       "11829  Centers for Disease Control and Prevention   \n",
       "11830  Centers for Disease Control and Prevention   \n",
       "11831  Centers for Disease Control and Prevention   \n",
       "11832  Centers for Disease Control and Prevention   \n",
       "11833  Centers for Disease Control and Prevention   \n",
       "\n",
       "                                          source_website  \n",
       "2195   http://www.nhc.gov.cn/xcs/yqjzqk/202104/d2755d...  \n",
       "2196   http://www.nhc.gov.cn/xcs/yqjzqk/202104/d2755d...  \n",
       "2197   http://www.nhc.gov.cn/xcs/yqjzqk/202104/d2755d...  \n",
       "2198   http://www.nhc.gov.cn/xcs/yqjzqk/202104/d2755d...  \n",
       "2199   http://www.nhc.gov.cn/xcs/yqjzqk/202104/d2755d...  \n",
       "...                                                  ...  \n",
       "11829  https://covid.cdc.gov/covid-data-tracker/#vacc...  \n",
       "11830  https://covid.cdc.gov/covid-data-tracker/#vacc...  \n",
       "11831  https://covid.cdc.gov/covid-data-tracker/#vacc...  \n",
       "11832  https://covid.cdc.gov/covid-data-tracker/#vacc...  \n",
       "11833  https://covid.cdc.gov/covid-data-tracker/#vacc...  \n",
       "\n",
       "[436 rows x 15 columns]"
      ]
     },
     "execution_count": 100,
     "metadata": {},
     "output_type": "execute_result"
    }
   ],
   "source": [
    "x"
   ]
  },
  {
   "cell_type": "code",
   "execution_count": null,
   "metadata": {},
   "outputs": [],
   "source": [
    "usa_data = data[data['country'] == 'United States'][['daily_vaccinations', 'date']].reset_index().set_index('date').dropna().drop(columns = ['index'])\n",
    "usa_data['Date'] = pd.to_datetime(usa_data.index, utc=True)\n",
    "usa_data.set_index('Date', inplace=True)"
   ]
  },
  {
   "cell_type": "code",
   "execution_count": 96,
   "metadata": {},
   "outputs": [
    {
     "data": {
      "image/png": "[encoded data removed]",
      "text/plain": [
       "<Figure size 1080x360 with 1 Axes>"
      ]
     },
     "metadata": {},
     "output_type": "display_data"
    }
   ],
   "source": [
    "#daily vaccination comparison\n",
    "plt.figure(figsize= (15,5))\n",
    "sns.lineplot(x= \"date\",y= \"daily_vaccinations\" ,data= x,hue= \"country\")\n",
    "plt.show()"
   ]
  },
  {
   "cell_type": "code",
   "execution_count": null,
   "metadata": {},
   "outputs": [],
   "source": []
  },
  {
   "cell_type": "code",
   "execution_count": 92,
   "metadata": {},
   "outputs": [],
   "source": []
  },
  {
   "cell_type": "code",
   "execution_count": 93,
   "metadata": {},
   "outputs": [
    {
     "data": {
      "application/vnd.plotly.v1+json": {
       "config": {
        "plotlyServerURL": "https://plot.ly"
       },
       "data": [
        {
         "hovertemplate": "Date=%{x}<br>daily_vaccinations=%{y}<extra></extra>",
         "legendgroup": "",
         "line": {
          "color": "#636efa",
          "dash": "solid"
         },
         "mode": "lines",
         "name": "",
         "orientation": "v",
         "showlegend": false,
         "type": "scatter",
         "x": [
          "2020-12-21T00:00:00+00:00",
          "2020-12-22T00:00:00+00:00",
          "2020-12-23T00:00:00+00:00",
          "2020-12-24T00:00:00+00:00",
          "2020-12-25T00:00:00+00:00",
          "2020-12-26T00:00:00+00:00",
          "2020-12-27T00:00:00+00:00",
          "2020-12-28T00:00:00+00:00",
          "2020-12-29T00:00:00+00:00",
          "2020-12-30T00:00:00+00:00",
          "2020-12-31T00:00:00+00:00",
          "2021-01-01T00:00:00+00:00",
          "2021-01-02T00:00:00+00:00",
          "2021-01-03T00:00:00+00:00",
          "2021-01-04T00:00:00+00:00",
          "2021-01-05T00:00:00+00:00",
          "2021-01-06T00:00:00+00:00",
          "2021-01-07T00:00:00+00:00",
          "2021-01-08T00:00:00+00:00",
          "2021-01-09T00:00:00+00:00",
          "2021-01-10T00:00:00+00:00",
          "2021-01-11T00:00:00+00:00",
          "2021-01-12T00:00:00+00:00",
          "2021-01-13T00:00:00+00:00",
          "2021-01-14T00:00:00+00:00",
          "2021-01-15T00:00:00+00:00",
          "2021-01-16T00:00:00+00:00",
          "2021-01-17T00:00:00+00:00",
          "2021-01-18T00:00:00+00:00",
          "2021-01-19T00:00:00+00:00",
          "2021-01-20T00:00:00+00:00",
          "2021-01-21T00:00:00+00:00",
          "2021-01-22T00:00:00+00:00",
          "2021-01-23T00:00:00+00:00",
          "2021-01-24T00:00:00+00:00",
          "2021-01-25T00:00:00+00:00",
          "2021-01-26T00:00:00+00:00",
          "2021-01-27T00:00:00+00:00",
          "2021-01-28T00:00:00+00:00",
          "2021-01-29T00:00:00+00:00",
          "2021-01-30T00:00:00+00:00",
          "2021-01-31T00:00:00+00:00",
          "2021-02-01T00:00:00+00:00",
          "2021-02-02T00:00:00+00:00",
          "2021-02-03T00:00:00+00:00",
          "2021-02-04T00:00:00+00:00",
          "2021-02-05T00:00:00+00:00",
          "2021-02-06T00:00:00+00:00",
          "2021-02-07T00:00:00+00:00",
          "2021-02-08T00:00:00+00:00",
          "2021-02-09T00:00:00+00:00",
          "2021-02-10T00:00:00+00:00",
          "2021-02-11T00:00:00+00:00",
          "2021-02-12T00:00:00+00:00",
          "2021-02-13T00:00:00+00:00",
          "2021-02-14T00:00:00+00:00",
          "2021-02-15T00:00:00+00:00",
          "2021-02-16T00:00:00+00:00",
          "2021-02-17T00:00:00+00:00",
          "2021-02-18T00:00:00+00:00",
          "2021-02-19T00:00:00+00:00",
          "2021-02-20T00:00:00+00:00",
          "2021-02-21T00:00:00+00:00",
          "2021-02-22T00:00:00+00:00",
          "2021-02-23T00:00:00+00:00",
          "2021-02-24T00:00:00+00:00",
          "2021-02-25T00:00:00+00:00",
          "2021-02-26T00:00:00+00:00",
          "2021-02-27T00:00:00+00:00",
          "2021-02-28T00:00:00+00:00",
          "2021-03-01T00:00:00+00:00",
          "2021-03-02T00:00:00+00:00",
          "2021-03-03T00:00:00+00:00",
          "2021-03-04T00:00:00+00:00",
          "2021-03-05T00:00:00+00:00",
          "2021-03-06T00:00:00+00:00",
          "2021-03-07T00:00:00+00:00",
          "2021-03-08T00:00:00+00:00",
          "2021-03-09T00:00:00+00:00",
          "2021-03-10T00:00:00+00:00",
          "2021-03-11T00:00:00+00:00",
          "2021-03-12T00:00:00+00:00",
          "2021-03-13T00:00:00+00:00",
          "2021-03-14T00:00:00+00:00",
          "2021-03-15T00:00:00+00:00",
          "2021-03-16T00:00:00+00:00",
          "2021-03-17T00:00:00+00:00",
          "2021-03-18T00:00:00+00:00",
          "2021-03-19T00:00:00+00:00",
          "2021-03-20T00:00:00+00:00",
          "2021-03-21T00:00:00+00:00",
          "2021-03-22T00:00:00+00:00",
          "2021-03-23T00:00:00+00:00",
          "2021-03-24T00:00:00+00:00",
          "2021-03-25T00:00:00+00:00",
          "2021-03-26T00:00:00+00:00",
          "2021-03-27T00:00:00+00:00",
          "2021-03-28T00:00:00+00:00",
          "2021-03-29T00:00:00+00:00",
          "2021-03-30T00:00:00+00:00",
          "2021-03-31T00:00:00+00:00",
          "2021-04-01T00:00:00+00:00",
          "2021-04-02T00:00:00+00:00",
          "2021-04-03T00:00:00+00:00",
          "2021-04-04T00:00:00+00:00",
          "2021-04-05T00:00:00+00:00",
          "2021-04-06T00:00:00+00:00",
          "2021-04-07T00:00:00+00:00",
          "2021-04-08T00:00:00+00:00",
          "2021-04-09T00:00:00+00:00",
          "2021-04-10T00:00:00+00:00",
          "2021-04-11T00:00:00+00:00",
          "2021-04-12T00:00:00+00:00",
          "2021-04-13T00:00:00+00:00",
          "2021-04-14T00:00:00+00:00",
          "2021-04-15T00:00:00+00:00",
          "2021-04-16T00:00:00+00:00"
         ],
         "xaxis": "x",
         "y": [
          57909,
          127432,
          150606,
          191001,
          215238,
          231396,
          211379,
          216147,
          235685,
          255223,
          278776,
          302329,
          325882,
          336949,
          348017,
          339372,
          358887,
          378253,
          419933,
          461263,
          546636,
          632009,
          641524,
          710238,
          747082,
          798707,
          811670,
          824632,
          837595,
          911493,
          892403,
          913912,
          975540,
          1057387,
          1122182,
          1126251,
          1119058,
          1161050,
          1235330,
          1253815,
          1291416,
          1324949,
          1355451,
          1319981,
          1317946,
          1287147,
          1276364,
          1351437,
          1441091,
          1456459,
          1489333,
          1555959,
          1598080,
          1655907,
          1657703,
          1667631,
          1662106,
          1716311,
          1644551,
          1621071,
          1596355,
          1521088,
          1458040,
          1446445,
          1401674,
          1454731,
          1505193,
          1552717,
          1645240,
          1735053,
          1817502,
          1942788,
          2010790,
          2042676,
          2079147,
          2158020,
          2159392,
          2169981,
          2151571,
          2168688,
          2233006,
          2302844,
          2541597,
          2386932,
          2427430,
          2435037,
          2473762,
          2503731,
          2455116,
          2248285,
          2488734,
          2489697,
          2497025,
          2490889,
          2510755,
          2624410,
          2677034,
          2711611,
          2757586,
          2769331,
          2828491,
          2903730,
          2988825,
          3072527,
          3084436,
          3053566,
          2998533,
          3029052,
          3035473,
          3033045,
          3111327,
          3141912,
          3214893,
          3384387,
          3330740,
          3348189,
          3349306
         ],
         "yaxis": "y"
        }
       ],
       "layout": {
        "legend": {
         "tracegroupgap": 0
        },
        "template": {
         "data": {
          "bar": [
           {
            "error_x": {
             "color": "#2a3f5f"
            },
            "error_y": {
             "color": "#2a3f5f"
            },
            "marker": {
             "line": {
              "color": "#E5ECF6",
              "width": 0.5
             }
            },
            "type": "bar"
           }
          ],
          "barpolar": [
           {
            "marker": {
             "line": {
              "color": "#E5ECF6",
              "width": 0.5
             }
            },
            "type": "barpolar"
           }
          ],
          "carpet": [
           {
            "aaxis": {
             "endlinecolor": "#2a3f5f",
             "gridcolor": "white",
             "linecolor": "white",
             "minorgridcolor": "white",
             "startlinecolor": "#2a3f5f"
            },
            "baxis": {
             "endlinecolor": "#2a3f5f",
             "gridcolor": "white",
             "linecolor": "white",
             "minorgridcolor": "white",
             "startlinecolor": "#2a3f5f"
            },
            "type": "carpet"
           }
          ],
          "choropleth": [
           {
            "colorbar": {
             "outlinewidth": 0,
             "ticks": ""
            },
            "type": "choropleth"
           }
          ],
          "contour": [
           {
            "colorbar": {
             "outlinewidth": 0,
             "ticks": ""
            },
            "colorscale": [
             [
              0,
              "#0d0887"
             ],
             [
              0.1111111111111111,
              "#46039f"
             ],
             [
              0.2222222222222222,
              "#7201a8"
             ],
             [
              0.3333333333333333,
              "#9c179e"
             ],
             [
              0.4444444444444444,
              "#bd3786"
             ],
             [
              0.5555555555555556,
              "#d8576b"
             ],
             [
              0.6666666666666666,
              "#ed7953"
             ],
             [
              0.7777777777777778,
              "#fb9f3a"
             ],
             [
              0.8888888888888888,
              "#fdca26"
             ],
             [
              1,
              "#f0f921"
             ]
            ],
            "type": "contour"
           }
          ],
          "contourcarpet": [
           {
            "colorbar": {
             "outlinewidth": 0,
             "ticks": ""
            },
            "type": "contourcarpet"
           }
          ],
          "heatmap": [
           {
            "colorbar": {
             "outlinewidth": 0,
             "ticks": ""
            },
            "colorscale": [
             [
              0,
              "#0d0887"
             ],
             [
              0.1111111111111111,
              "#46039f"
             ],
             [
              0.2222222222222222,
              "#7201a8"
             ],
             [
              0.3333333333333333,
              "#9c179e"
             ],
             [
              0.4444444444444444,
              "#bd3786"
             ],
             [
              0.5555555555555556,
              "#d8576b"
             ],
             [
              0.6666666666666666,
              "#ed7953"
             ],
             [
              0.7777777777777778,
              "#fb9f3a"
             ],
             [
              0.8888888888888888,
              "#fdca26"
             ],
             [
              1,
              "#f0f921"
             ]
            ],
            "type": "heatmap"
           }
          ],
          "heatmapgl": [
           {
            "colorbar": {
             "outlinewidth": 0,
             "ticks": ""
            },
            "colorscale": [
             [
              0,
              "#0d0887"
             ],
             [
              0.1111111111111111,
              "#46039f"
             ],
             [
              0.2222222222222222,
              "#7201a8"
             ],
             [
              0.3333333333333333,
              "#9c179e"
             ],
             [
              0.4444444444444444,
              "#bd3786"
             ],
             [
              0.5555555555555556,
              "#d8576b"
             ],
             [
              0.6666666666666666,
              "#ed7953"
             ],
             [
              0.7777777777777778,
              "#fb9f3a"
             ],
             [
              0.8888888888888888,
              "#fdca26"
             ],
             [
              1,
              "#f0f921"
             ]
            ],
            "type": "heatmapgl"
           }
          ],
          "histogram": [
           {
            "marker": {
             "colorbar": {
              "outlinewidth": 0,
              "ticks": ""
             }
            },
            "type": "histogram"
           }
          ],
          "histogram2d": [
           {
            "colorbar": {
             "outlinewidth": 0,
             "ticks": ""
            },
            "colorscale": [
             [
              0,
              "#0d0887"
             ],
             [
              0.1111111111111111,
              "#46039f"
             ],
             [
              0.2222222222222222,
              "#7201a8"
             ],
             [
              0.3333333333333333,
              "#9c179e"
             ],
             [
              0.4444444444444444,
              "#bd3786"
             ],
             [
              0.5555555555555556,
              "#d8576b"
             ],
             [
              0.6666666666666666,
              "#ed7953"
             ],
             [
              0.7777777777777778,
              "#fb9f3a"
             ],
             [
              0.8888888888888888,
              "#fdca26"
             ],
             [
              1,
              "#f0f921"
             ]
            ],
            "type": "histogram2d"
           }
          ],
          "histogram2dcontour": [
           {
            "colorbar": {
             "outlinewidth": 0,
             "ticks": ""
            },
            "colorscale": [
             [
              0,
              "#0d0887"
             ],
             [
              0.1111111111111111,
              "#46039f"
             ],
             [
              0.2222222222222222,
              "#7201a8"
             ],
             [
              0.3333333333333333,
              "#9c179e"
             ],
             [
              0.4444444444444444,
              "#bd3786"
             ],
             [
              0.5555555555555556,
              "#d8576b"
             ],
             [
              0.6666666666666666,
              "#ed7953"
             ],
             [
              0.7777777777777778,
              "#fb9f3a"
             ],
             [
              0.8888888888888888,
              "#fdca26"
             ],
             [
              1,
              "#f0f921"
             ]
            ],
            "type": "histogram2dcontour"
           }
          ],
          "mesh3d": [
           {
            "colorbar": {
             "outlinewidth": 0,
             "ticks": ""
            },
            "type": "mesh3d"
           }
          ],
          "parcoords": [
           {
            "line": {
             "colorbar": {
              "outlinewidth": 0,
              "ticks": ""
             }
            },
            "type": "parcoords"
           }
          ],
          "pie": [
           {
            "automargin": true,
            "type": "pie"
           }
          ],
          "scatter": [
           {
            "marker": {
             "colorbar": {
              "outlinewidth": 0,
              "ticks": ""
             }
            },
            "type": "scatter"
           }
          ],
          "scatter3d": [
           {
            "line": {
             "colorbar": {
              "outlinewidth": 0,
              "ticks": ""
             }
            },
            "marker": {
             "colorbar": {
              "outlinewidth": 0,
              "ticks": ""
             }
            },
            "type": "scatter3d"
           }
          ],
          "scattercarpet": [
           {
            "marker": {
             "colorbar": {
              "outlinewidth": 0,
              "ticks": ""
             }
            },
            "type": "scattercarpet"
           }
          ],
          "scattergeo": [
           {
            "marker": {
             "colorbar": {
              "outlinewidth": 0,
              "ticks": ""
             }
            },
            "type": "scattergeo"
           }
          ],
          "scattergl": [
           {
            "marker": {
             "colorbar": {
              "outlinewidth": 0,
              "ticks": ""
             }
            },
            "type": "scattergl"
           }
          ],
          "scattermapbox": [
           {
            "marker": {
             "colorbar": {
              "outlinewidth": 0,
              "ticks": ""
             }
            },
            "type": "scattermapbox"
           }
          ],
          "scatterpolar": [
           {
            "marker": {
             "colorbar": {
              "outlinewidth": 0,
              "ticks": ""
             }
            },
            "type": "scatterpolar"
           }
          ],
          "scatterpolargl": [
           {
            "marker": {
             "colorbar": {
              "outlinewidth": 0,
              "ticks": ""
             }
            },
            "type": "scatterpolargl"
           }
          ],
          "scatterternary": [
           {
            "marker": {
             "colorbar": {
              "outlinewidth": 0,
              "ticks": ""
             }
            },
            "type": "scatterternary"
           }
          ],
          "surface": [
           {
            "colorbar": {
             "outlinewidth": 0,
             "ticks": ""
            },
            "colorscale": [
             [
              0,
              "#0d0887"
             ],
             [
              0.1111111111111111,
              "#46039f"
             ],
             [
              0.2222222222222222,
              "#7201a8"
             ],
             [
              0.3333333333333333,
              "#9c179e"
             ],
             [
              0.4444444444444444,
              "#bd3786"
             ],
             [
              0.5555555555555556,
              "#d8576b"
             ],
             [
              0.6666666666666666,
              "#ed7953"
             ],
             [
              0.7777777777777778,
              "#fb9f3a"
             ],
             [
              0.8888888888888888,
              "#fdca26"
             ],
             [
              1,
              "#f0f921"
             ]
            ],
            "type": "surface"
           }
          ],
          "table": [
           {
            "cells": {
             "fill": {
              "color": "#EBF0F8"
             },
             "line": {
              "color": "white"
             }
            },
            "header": {
             "fill": {
              "color": "#C8D4E3"
             },
             "line": {
              "color": "white"
             }
            },
            "type": "table"
           }
          ]
         },
         "layout": {
          "annotationdefaults": {
           "arrowcolor": "#2a3f5f",
           "arrowhead": 0,
           "arrowwidth": 1
          },
          "autotypenumbers": "strict",
          "coloraxis": {
           "colorbar": {
            "outlinewidth": 0,
            "ticks": ""
           }
          },
          "colorscale": {
           "diverging": [
            [
             0,
             "#8e0152"
            ],
            [
             0.1,
             "#c51b7d"
            ],
            [
             0.2,
             "#de77ae"
            ],
            [
             0.3,
             "#f1b6da"
            ],
            [
             0.4,
             "#fde0ef"
            ],
            [
             0.5,
             "#f7f7f7"
            ],
            [
             0.6,
             "#e6f5d0"
            ],
            [
             0.7,
             "#b8e186"
            ],
            [
             0.8,
             "#7fbc41"
            ],
            [
             0.9,
             "#4d9221"
            ],
            [
             1,
             "#276419"
            ]
           ],
           "sequential": [
            [
             0,
             "#0d0887"
            ],
            [
             0.1111111111111111,
             "#46039f"
            ],
            [
             0.2222222222222222,
             "#7201a8"
            ],
            [
             0.3333333333333333,
             "#9c179e"
            ],
            [
             0.4444444444444444,
             "#bd3786"
            ],
            [
             0.5555555555555556,
             "#d8576b"
            ],
            [
             0.6666666666666666,
             "#ed7953"
            ],
            [
             0.7777777777777778,
             "#fb9f3a"
            ],
            [
             0.8888888888888888,
             "#fdca26"
            ],
            [
             1,
             "#f0f921"
            ]
           ],
           "sequentialminus": [
            [
             0,
             "#0d0887"
            ],
            [
             0.1111111111111111,
             "#46039f"
            ],
            [
             0.2222222222222222,
             "#7201a8"
            ],
            [
             0.3333333333333333,
             "#9c179e"
            ],
            [
             0.4444444444444444,
             "#bd3786"
            ],
            [
             0.5555555555555556,
             "#d8576b"
            ],
            [
             0.6666666666666666,
             "#ed7953"
            ],
            [
             0.7777777777777778,
             "#fb9f3a"
            ],
            [
             0.8888888888888888,
             "#fdca26"
            ],
            [
             1,
             "#f0f921"
            ]
           ]
          },
          "colorway": [
           "#636efa",
           "#EF553B",
           "#00cc96",
           "#ab63fa",
           "#FFA15A",
           "#19d3f3",
           "#FF6692",
           "#B6E880",
           "#FF97FF",
           "#FECB52"
          ],
          "font": {
           "color": "#2a3f5f"
          },
          "geo": {
           "bgcolor": "white",
           "lakecolor": "white",
           "landcolor": "#E5ECF6",
           "showlakes": true,
           "showland": true,
           "subunitcolor": "white"
          },
          "hoverlabel": {
           "align": "left"
          },
          "hovermode": "closest",
          "mapbox": {
           "style": "light"
          },
          "paper_bgcolor": "white",
          "plot_bgcolor": "#E5ECF6",
          "polar": {
           "angularaxis": {
            "gridcolor": "white",
            "linecolor": "white",
            "ticks": ""
           },
           "bgcolor": "#E5ECF6",
           "radialaxis": {
            "gridcolor": "white",
            "linecolor": "white",
            "ticks": ""
           }
          },
          "scene": {
           "xaxis": {
            "backgroundcolor": "#E5ECF6",
            "gridcolor": "white",
            "gridwidth": 2,
            "linecolor": "white",
            "showbackground": true,
            "ticks": "",
            "zerolinecolor": "white"
           },
           "yaxis": {
            "backgroundcolor": "#E5ECF6",
            "gridcolor": "white",
            "gridwidth": 2,
            "linecolor": "white",
            "showbackground": true,
            "ticks": "",
            "zerolinecolor": "white"
           },
           "zaxis": {
            "backgroundcolor": "#E5ECF6",
            "gridcolor": "white",
            "gridwidth": 2,
            "linecolor": "white",
            "showbackground": true,
            "ticks": "",
            "zerolinecolor": "white"
           }
          },
          "shapedefaults": {
           "line": {
            "color": "#2a3f5f"
           }
          },
          "ternary": {
           "aaxis": {
            "gridcolor": "white",
            "linecolor": "white",
            "ticks": ""
           },
           "baxis": {
            "gridcolor": "white",
            "linecolor": "white",
            "ticks": ""
           },
           "bgcolor": "#E5ECF6",
           "caxis": {
            "gridcolor": "white",
            "linecolor": "white",
            "ticks": ""
           }
          },
          "title": {
           "x": 0.05
          },
          "xaxis": {
           "automargin": true,
           "gridcolor": "white",
           "linecolor": "white",
           "ticks": "",
           "title": {
            "standoff": 15
           },
           "zerolinecolor": "white",
           "zerolinewidth": 2
          },
          "yaxis": {
           "automargin": true,
           "gridcolor": "white",
           "linecolor": "white",
           "ticks": "",
           "title": {
            "standoff": 15
           },
           "zerolinecolor": "white",
           "zerolinewidth": 2
          }
         }
        },
        "title": {
         "text": "Trend of vaccinations in the US"
        },
        "xaxis": {
         "anchor": "y",
         "domain": [
          0,
          1
         ],
         "title": {
          "text": "Date"
         }
        },
        "yaxis": {
         "anchor": "x",
         "domain": [
          0,
          1
         ],
         "title": {
          "text": "daily_vaccinations"
         }
        }
       }
      },
      "text/html": [
       "<div>                            <div id=\"f54bc364-862e-40d9-b8a1-5e33adb985e9\" class=\"plotly-graph-div\" style=\"height:525px; width:100%;\"></div>            <script type=\"text/javascript\">                require([\"plotly\"], function(Plotly) {                    window.PLOTLYENV=window.PLOTLYENV || {};                                    if (document.getElementById(\"f54bc364-862e-40d9-b8a1-5e33adb985e9\")) {                    Plotly.newPlot(                        \"f54bc364-862e-40d9-b8a1-5e33adb985e9\",                        [{\"hovertemplate\": \"Date=%{x}<br>daily_vaccinations=%{y}<extra></extra>\", \"legendgroup\": \"\", \"line\": {\"color\": \"#636efa\", \"dash\": \"solid\"}, \"mode\": \"lines\", \"name\": \"\", \"orientation\": \"v\", \"showlegend\": false, \"type\": \"scatter\", \"x\": [\"2020-12-21T00:00:00+00:00\", \"2020-12-22T00:00:00+00:00\", \"2020-12-23T00:00:00+00:00\", \"2020-12-24T00:00:00+00:00\", \"2020-12-25T00:00:00+00:00\", \"2020-12-26T00:00:00+00:00\", \"2020-12-27T00:00:00+00:00\", \"2020-12-28T00:00:00+00:00\", \"2020-12-29T00:00:00+00:00\", \"2020-12-30T00:00:00+00:00\", \"2020-12-31T00:00:00+00:00\", \"2021-01-01T00:00:00+00:00\", \"2021-01-02T00:00:00+00:00\", \"2021-01-03T00:00:00+00:00\", \"2021-01-04T00:00:00+00:00\", \"2021-01-05T00:00:00+00:00\", \"2021-01-06T00:00:00+00:00\", \"2021-01-07T00:00:00+00:00\", \"2021-01-08T00:00:00+00:00\", \"2021-01-09T00:00:00+00:00\", \"2021-01-10T00:00:00+00:00\", \"2021-01-11T00:00:00+00:00\", \"2021-01-12T00:00:00+00:00\", \"2021-01-13T00:00:00+00:00\", \"2021-01-14T00:00:00+00:00\", \"2021-01-15T00:00:00+00:00\", \"2021-01-16T00:00:00+00:00\", \"2021-01-17T00:00:00+00:00\", \"2021-01-18T00:00:00+00:00\", \"2021-01-19T00:00:00+00:00\", \"2021-01-20T00:00:00+00:00\", \"2021-01-21T00:00:00+00:00\", \"2021-01-22T00:00:00+00:00\", \"2021-01-23T00:00:00+00:00\", \"2021-01-24T00:00:00+00:00\", \"2021-01-25T00:00:00+00:00\", \"2021-01-26T00:00:00+00:00\", \"2021-01-27T00:00:00+00:00\", \"2021-01-28T00:00:00+00:00\", \"2021-01-29T00:00:00+00:00\", \"2021-01-30T00:00:00+00:00\", \"2021-01-31T00:00:00+00:00\", \"2021-02-01T00:00:00+00:00\", \"2021-02-02T00:00:00+00:00\", \"2021-02-03T00:00:00+00:00\", \"2021-02-04T00:00:00+00:00\", \"2021-02-05T00:00:00+00:00\", \"2021-02-06T00:00:00+00:00\", \"2021-02-07T00:00:00+00:00\", \"2021-02-08T00:00:00+00:00\", \"2021-02-09T00:00:00+00:00\", \"2021-02-10T00:00:00+00:00\", \"2021-02-11T00:00:00+00:00\", \"2021-02-12T00:00:00+00:00\", \"2021-02-13T00:00:00+00:00\", \"2021-02-14T00:00:00+00:00\", \"2021-02-15T00:00:00+00:00\", \"2021-02-16T00:00:00+00:00\", \"2021-02-17T00:00:00+00:00\", \"2021-02-18T00:00:00+00:00\", \"2021-02-19T00:00:00+00:00\", \"2021-02-20T00:00:00+00:00\", \"2021-02-21T00:00:00+00:00\", \"2021-02-22T00:00:00+00:00\", \"2021-02-23T00:00:00+00:00\", \"2021-02-24T00:00:00+00:00\", \"2021-02-25T00:00:00+00:00\", \"2021-02-26T00:00:00+00:00\", \"2021-02-27T00:00:00+00:00\", \"2021-02-28T00:00:00+00:00\", \"2021-03-01T00:00:00+00:00\", \"2021-03-02T00:00:00+00:00\", \"2021-03-03T00:00:00+00:00\", \"2021-03-04T00:00:00+00:00\", \"2021-03-05T00:00:00+00:00\", \"2021-03-06T00:00:00+00:00\", \"2021-03-07T00:00:00+00:00\", \"2021-03-08T00:00:00+00:00\", \"2021-03-09T00:00:00+00:00\", \"2021-03-10T00:00:00+00:00\", \"2021-03-11T00:00:00+00:00\", \"2021-03-12T00:00:00+00:00\", \"2021-03-13T00:00:00+00:00\", \"2021-03-14T00:00:00+00:00\", \"2021-03-15T00:00:00+00:00\", \"2021-03-16T00:00:00+00:00\", \"2021-03-17T00:00:00+00:00\", \"2021-03-18T00:00:00+00:00\", \"2021-03-19T00:00:00+00:00\", \"2021-03-20T00:00:00+00:00\", \"2021-03-21T00:00:00+00:00\", \"2021-03-22T00:00:00+00:00\", \"2021-03-23T00:00:00+00:00\", \"2021-03-24T00:00:00+00:00\", \"2021-03-25T00:00:00+00:00\", \"2021-03-26T00:00:00+00:00\", \"2021-03-27T00:00:00+00:00\", \"2021-03-28T00:00:00+00:00\", \"2021-03-29T00:00:00+00:00\", \"2021-03-30T00:00:00+00:00\", \"2021-03-31T00:00:00+00:00\", \"2021-04-01T00:00:00+00:00\", \"2021-04-02T00:00:00+00:00\", \"2021-04-03T00:00:00+00:00\", \"2021-04-04T00:00:00+00:00\", \"2021-04-05T00:00:00+00:00\", \"2021-04-06T00:00:00+00:00\", \"2021-04-07T00:00:00+00:00\", \"2021-04-08T00:00:00+00:00\", \"2021-04-09T00:00:00+00:00\", \"2021-04-10T00:00:00+00:00\", \"2021-04-11T00:00:00+00:00\", \"2021-04-12T00:00:00+00:00\", \"2021-04-13T00:00:00+00:00\", \"2021-04-14T00:00:00+00:00\", \"2021-04-15T00:00:00+00:00\", \"2021-04-16T00:00:00+00:00\"], \"xaxis\": \"x\", \"y\": [57909.0, 127432.0, 150606.0, 191001.0, 215238.0, 231396.0, 211379.0, 216147.0, 235685.0, 255223.0, 278776.0, 302329.0, 325882.0, 336949.0, 348017.0, 339372.0, 358887.0, 378253.0, 419933.0, 461263.0, 546636.0, 632009.0, 641524.0, 710238.0, 747082.0, 798707.0, 811670.0, 824632.0, 837595.0, 911493.0, 892403.0, 913912.0, 975540.0, 1057387.0, 1122182.0, 1126251.0, 1119058.0, 1161050.0, 1235330.0, 1253815.0, 1291416.0, 1324949.0, 1355451.0, 1319981.0, 1317946.0, 1287147.0, 1276364.0, 1351437.0, 1441091.0, 1456459.0, 1489333.0, 1555959.0, 1598080.0, 1655907.0, 1657703.0, 1667631.0, 1662106.0, 1716311.0, 1644551.0, 1621071.0, 1596355.0, 1521088.0, 1458040.0, 1446445.0, 1401674.0, 1454731.0, 1505193.0, 1552717.0, 1645240.0, 1735053.0, 1817502.0, 1942788.0, 2010790.0, 2042676.0, 2079147.0, 2158020.0, 2159392.0, 2169981.0, 2151571.0, 2168688.0, 2233006.0, 2302844.0, 2541597.0, 2386932.0, 2427430.0, 2435037.0, 2473762.0, 2503731.0, 2455116.0, 2248285.0, 2488734.0, 2489697.0, 2497025.0, 2490889.0, 2510755.0, 2624410.0, 2677034.0, 2711611.0, 2757586.0, 2769331.0, 2828491.0, 2903730.0, 2988825.0, 3072527.0, 3084436.0, 3053566.0, 2998533.0, 3029052.0, 3035473.0, 3033045.0, 3111327.0, 3141912.0, 3214893.0, 3384387.0, 3330740.0, 3348189.0, 3349306.0], \"yaxis\": \"y\"}],                        {\"legend\": {\"tracegroupgap\": 0}, \"template\": {\"data\": {\"bar\": [{\"error_x\": {\"color\": \"#2a3f5f\"}, \"error_y\": {\"color\": \"#2a3f5f\"}, \"marker\": {\"line\": {\"color\": \"#E5ECF6\", \"width\": 0.5}}, \"type\": \"bar\"}], \"barpolar\": [{\"marker\": {\"line\": {\"color\": \"#E5ECF6\", \"width\": 0.5}}, \"type\": \"barpolar\"}], \"carpet\": [{\"aaxis\": {\"endlinecolor\": \"#2a3f5f\", \"gridcolor\": \"white\", \"linecolor\": \"white\", \"minorgridcolor\": \"white\", \"startlinecolor\": \"#2a3f5f\"}, \"baxis\": {\"endlinecolor\": \"#2a3f5f\", \"gridcolor\": \"white\", \"linecolor\": \"white\", \"minorgridcolor\": \"white\", \"startlinecolor\": \"#2a3f5f\"}, \"type\": \"carpet\"}], \"choropleth\": [{\"colorbar\": {\"outlinewidth\": 0, \"ticks\": \"\"}, \"type\": \"choropleth\"}], \"contour\": [{\"colorbar\": {\"outlinewidth\": 0, \"ticks\": \"\"}, \"colorscale\": [[0.0, \"#0d0887\"], [0.1111111111111111, \"#46039f\"], [0.2222222222222222, \"#7201a8\"], [0.3333333333333333, \"#9c179e\"], [0.4444444444444444, \"#bd3786\"], [0.5555555555555556, \"#d8576b\"], [0.6666666666666666, \"#ed7953\"], [0.7777777777777778, \"#fb9f3a\"], [0.8888888888888888, \"#fdca26\"], [1.0, \"#f0f921\"]], \"type\": \"contour\"}], \"contourcarpet\": [{\"colorbar\": {\"outlinewidth\": 0, \"ticks\": \"\"}, \"type\": \"contourcarpet\"}], \"heatmap\": [{\"colorbar\": {\"outlinewidth\": 0, \"ticks\": \"\"}, \"colorscale\": [[0.0, \"#0d0887\"], [0.1111111111111111, \"#46039f\"], [0.2222222222222222, \"#7201a8\"], [0.3333333333333333, \"#9c179e\"], [0.4444444444444444, \"#bd3786\"], [0.5555555555555556, \"#d8576b\"], [0.6666666666666666, \"#ed7953\"], [0.7777777777777778, \"#fb9f3a\"], [0.8888888888888888, \"#fdca26\"], [1.0, \"#f0f921\"]], \"type\": \"heatmap\"}], \"heatmapgl\": [{\"colorbar\": {\"outlinewidth\": 0, \"ticks\": \"\"}, \"colorscale\": [[0.0, \"#0d0887\"], [0.1111111111111111, \"#46039f\"], [0.2222222222222222, \"#7201a8\"], [0.3333333333333333, \"#9c179e\"], [0.4444444444444444, \"#bd3786\"], [0.5555555555555556, \"#d8576b\"], [0.6666666666666666, \"#ed7953\"], [0.7777777777777778, \"#fb9f3a\"], [0.8888888888888888, \"#fdca26\"], [1.0, \"#f0f921\"]], \"type\": \"heatmapgl\"}], \"histogram\": [{\"marker\": {\"colorbar\": {\"outlinewidth\": 0, \"ticks\": \"\"}}, \"type\": \"histogram\"}], \"histogram2d\": [{\"colorbar\": {\"outlinewidth\": 0, \"ticks\": \"\"}, \"colorscale\": [[0.0, \"#0d0887\"], [0.1111111111111111, \"#46039f\"], [0.2222222222222222, \"#7201a8\"], [0.3333333333333333, \"#9c179e\"], [0.4444444444444444, \"#bd3786\"], [0.5555555555555556, \"#d8576b\"], [0.6666666666666666, \"#ed7953\"], [0.7777777777777778, \"#fb9f3a\"], [0.8888888888888888, \"#fdca26\"], [1.0, \"#f0f921\"]], \"type\": \"histogram2d\"}], \"histogram2dcontour\": [{\"colorbar\": {\"outlinewidth\": 0, \"ticks\": \"\"}, \"colorscale\": [[0.0, \"#0d0887\"], [0.1111111111111111, \"#46039f\"], [0.2222222222222222, \"#7201a8\"], [0.3333333333333333, \"#9c179e\"], [0.4444444444444444, \"#bd3786\"], [0.5555555555555556, \"#d8576b\"], [0.6666666666666666, \"#ed7953\"], [0.7777777777777778, \"#fb9f3a\"], [0.8888888888888888, \"#fdca26\"], [1.0, \"#f0f921\"]], \"type\": \"histogram2dcontour\"}], \"mesh3d\": [{\"colorbar\": {\"outlinewidth\": 0, \"ticks\": \"\"}, \"type\": \"mesh3d\"}], \"parcoords\": [{\"line\": {\"colorbar\": {\"outlinewidth\": 0, \"ticks\": \"\"}}, \"type\": \"parcoords\"}], \"pie\": [{\"automargin\": true, \"type\": \"pie\"}], \"scatter\": [{\"marker\": {\"colorbar\": {\"outlinewidth\": 0, \"ticks\": \"\"}}, \"type\": \"scatter\"}], \"scatter3d\": [{\"line\": {\"colorbar\": {\"outlinewidth\": 0, \"ticks\": \"\"}}, \"marker\": {\"colorbar\": {\"outlinewidth\": 0, \"ticks\": \"\"}}, \"type\": \"scatter3d\"}], \"scattercarpet\": [{\"marker\": {\"colorbar\": {\"outlinewidth\": 0, \"ticks\": \"\"}}, \"type\": \"scattercarpet\"}], \"scattergeo\": [{\"marker\": {\"colorbar\": {\"outlinewidth\": 0, \"ticks\": \"\"}}, \"type\": \"scattergeo\"}], \"scattergl\": [{\"marker\": {\"colorbar\": {\"outlinewidth\": 0, \"ticks\": \"\"}}, \"type\": \"scattergl\"}], \"scattermapbox\": [{\"marker\": {\"colorbar\": {\"outlinewidth\": 0, \"ticks\": \"\"}}, \"type\": \"scattermapbox\"}], \"scatterpolar\": [{\"marker\": {\"colorbar\": {\"outlinewidth\": 0, \"ticks\": \"\"}}, \"type\": \"scatterpolar\"}], \"scatterpolargl\": [{\"marker\": {\"colorbar\": {\"outlinewidth\": 0, \"ticks\": \"\"}}, \"type\": \"scatterpolargl\"}], \"scatterternary\": [{\"marker\": {\"colorbar\": {\"outlinewidth\": 0, \"ticks\": \"\"}}, \"type\": \"scatterternary\"}], \"surface\": [{\"colorbar\": {\"outlinewidth\": 0, \"ticks\": \"\"}, \"colorscale\": [[0.0, \"#0d0887\"], [0.1111111111111111, \"#46039f\"], [0.2222222222222222, \"#7201a8\"], [0.3333333333333333, \"#9c179e\"], [0.4444444444444444, \"#bd3786\"], [0.5555555555555556, \"#d8576b\"], [0.6666666666666666, \"#ed7953\"], [0.7777777777777778, \"#fb9f3a\"], [0.8888888888888888, \"#fdca26\"], [1.0, \"#f0f921\"]], \"type\": \"surface\"}], \"table\": [{\"cells\": {\"fill\": {\"color\": \"#EBF0F8\"}, \"line\": {\"color\": \"white\"}}, \"header\": {\"fill\": {\"color\": \"#C8D4E3\"}, \"line\": {\"color\": \"white\"}}, \"type\": \"table\"}]}, \"layout\": {\"annotationdefaults\": {\"arrowcolor\": \"#2a3f5f\", \"arrowhead\": 0, \"arrowwidth\": 1}, \"autotypenumbers\": \"strict\", \"coloraxis\": {\"colorbar\": {\"outlinewidth\": 0, \"ticks\": \"\"}}, \"colorscale\": {\"diverging\": [[0, \"#8e0152\"], [0.1, \"#c51b7d\"], [0.2, \"#de77ae\"], [0.3, \"#f1b6da\"], [0.4, \"#fde0ef\"], [0.5, \"#f7f7f7\"], [0.6, \"#e6f5d0\"], [0.7, \"#b8e186\"], [0.8, \"#7fbc41\"], [0.9, \"#4d9221\"], [1, \"#276419\"]], \"sequential\": [[0.0, \"#0d0887\"], [0.1111111111111111, \"#46039f\"], [0.2222222222222222, \"#7201a8\"], [0.3333333333333333, \"#9c179e\"], [0.4444444444444444, \"#bd3786\"], [0.5555555555555556, \"#d8576b\"], [0.6666666666666666, \"#ed7953\"], [0.7777777777777778, \"#fb9f3a\"], [0.8888888888888888, \"#fdca26\"], [1.0, \"#f0f921\"]], \"sequentialminus\": [[0.0, \"#0d0887\"], [0.1111111111111111, \"#46039f\"], [0.2222222222222222, \"#7201a8\"], [0.3333333333333333, \"#9c179e\"], [0.4444444444444444, \"#bd3786\"], [0.5555555555555556, \"#d8576b\"], [0.6666666666666666, \"#ed7953\"], [0.7777777777777778, \"#fb9f3a\"], [0.8888888888888888, \"#fdca26\"], [1.0, \"#f0f921\"]]}, \"colorway\": [\"#636efa\", \"#EF553B\", \"#00cc96\", \"#ab63fa\", \"#FFA15A\", \"#19d3f3\", \"#FF6692\", \"#B6E880\", \"#FF97FF\", \"#FECB52\"], \"font\": {\"color\": \"#2a3f5f\"}, \"geo\": {\"bgcolor\": \"white\", \"lakecolor\": \"white\", \"landcolor\": \"#E5ECF6\", \"showlakes\": true, \"showland\": true, \"subunitcolor\": \"white\"}, \"hoverlabel\": {\"align\": \"left\"}, \"hovermode\": \"closest\", \"mapbox\": {\"style\": \"light\"}, \"paper_bgcolor\": \"white\", \"plot_bgcolor\": \"#E5ECF6\", \"polar\": {\"angularaxis\": {\"gridcolor\": \"white\", \"linecolor\": \"white\", \"ticks\": \"\"}, \"bgcolor\": \"#E5ECF6\", \"radialaxis\": {\"gridcolor\": \"white\", \"linecolor\": \"white\", \"ticks\": \"\"}}, \"scene\": {\"xaxis\": {\"backgroundcolor\": \"#E5ECF6\", \"gridcolor\": \"white\", \"gridwidth\": 2, \"linecolor\": \"white\", \"showbackground\": true, \"ticks\": \"\", \"zerolinecolor\": \"white\"}, \"yaxis\": {\"backgroundcolor\": \"#E5ECF6\", \"gridcolor\": \"white\", \"gridwidth\": 2, \"linecolor\": \"white\", \"showbackground\": true, \"ticks\": \"\", \"zerolinecolor\": \"white\"}, \"zaxis\": {\"backgroundcolor\": \"#E5ECF6\", \"gridcolor\": \"white\", \"gridwidth\": 2, \"linecolor\": \"white\", \"showbackground\": true, \"ticks\": \"\", \"zerolinecolor\": \"white\"}}, \"shapedefaults\": {\"line\": {\"color\": \"#2a3f5f\"}}, \"ternary\": {\"aaxis\": {\"gridcolor\": \"white\", \"linecolor\": \"white\", \"ticks\": \"\"}, \"baxis\": {\"gridcolor\": \"white\", \"linecolor\": \"white\", \"ticks\": \"\"}, \"bgcolor\": \"#E5ECF6\", \"caxis\": {\"gridcolor\": \"white\", \"linecolor\": \"white\", \"ticks\": \"\"}}, \"title\": {\"x\": 0.05}, \"xaxis\": {\"automargin\": true, \"gridcolor\": \"white\", \"linecolor\": \"white\", \"ticks\": \"\", \"title\": {\"standoff\": 15}, \"zerolinecolor\": \"white\", \"zerolinewidth\": 2}, \"yaxis\": {\"automargin\": true, \"gridcolor\": \"white\", \"linecolor\": \"white\", \"ticks\": \"\", \"title\": {\"standoff\": 15}, \"zerolinecolor\": \"white\", \"zerolinewidth\": 2}}}, \"title\": {\"text\": \"Trend of vaccinations in the US\"}, \"xaxis\": {\"anchor\": \"y\", \"domain\": [0.0, 1.0], \"title\": {\"text\": \"Date\"}}, \"yaxis\": {\"anchor\": \"x\", \"domain\": [0.0, 1.0], \"title\": {\"text\": \"daily_vaccinations\"}}},                        {\"responsive\": true}                    ).then(function(){\n",
       "                            \n",
       "var gd = document.getElementById('f54bc364-862e-40d9-b8a1-5e33adb985e9');\n",
       "var x = new MutationObserver(function (mutations, observer) {{\n",
       "        var display = window.getComputedStyle(gd).display;\n",
       "        if (!display || display === 'none') {{\n",
       "            console.log([gd, 'removed!']);\n",
       "            Plotly.purge(gd);\n",
       "            observer.disconnect();\n",
       "        }}\n",
       "}});\n",
       "\n",
       "// Listen for the removal of the full notebook cells\n",
       "var notebookContainer = gd.closest('#notebook-container');\n",
       "if (notebookContainer) {{\n",
       "    x.observe(notebookContainer, {childList: true});\n",
       "}}\n",
       "\n",
       "// Listen for the clearing of the current output cell\n",
       "var outputEl = gd.closest('.output');\n",
       "if (outputEl) {{\n",
       "    x.observe(outputEl, {childList: true});\n",
       "}}\n",
       "\n",
       "                        })                };                });            </script>        </div>"
      ]
     },
     "metadata": {},
     "output_type": "display_data"
    }
   ],
   "source": [
    "usa_data = data[data['country'] == 'United States'][['daily_vaccinations', 'date']].reset_index().set_index('date').dropna().drop(columns = ['index'])\n",
    "usa_data['Date'] = pd.to_datetime(usa_data.index, utc=True)\n",
    "usa_data.set_index('Date', inplace=True)\n",
    "px.line(usa_data, y='daily_vaccinations', title='Trend of vaccinations in the US')"
   ]
  },
  {
   "cell_type": "markdown",
   "metadata": {},
   "source": [
    "# Final Conclusion"
   ]
  },
  {
   "cell_type": "code",
   "execution_count": null,
   "metadata": {},
   "outputs": [],
   "source": [
    "#Country_Vaccinations dataset contains 12156 rows and 15 columns\n",
    "#Total number of countries available in our dataset are 182\n",
    "#Number of unique dates available in our dataset are 124\n",
    "#Total types of vaccines available all over the world are 31¶\n",
    "#Total number of vaccinations given in India are 119937641\n",
    "#Types of vaccines available in India are Covaxin, Oxford/AstraZeneca\n",
    "#In March, maximum people got vaccinated all over the month. As most of the country in March have a vaccine\n",
    "#so they try to vaccinate there population as much it is possible.\n"
   ]
  },
  {
   "cell_type": "markdown",
   "metadata": {},
   "source": [
    "# Future Scope"
   ]
  },
  {
   "cell_type": "code",
   "execution_count": null,
   "metadata": {},
   "outputs": [],
   "source": [
    "#We need more information to tell which vaccine is effective"
   ]
  },
  {
   "cell_type": "code",
   "execution_count": null,
   "metadata": {},
   "outputs": [],
   "source": []
  },
  {
   "cell_type": "code",
   "execution_count": null,
   "metadata": {},
   "outputs": [],
   "source": []
  },
  {
   "cell_type": "code",
   "execution_count": null,
   "metadata": {},
   "outputs": [],
   "source": []
  },
  {
   "cell_type": "code",
   "execution_count": null,
   "metadata": {},
   "outputs": [],
   "source": []
  },
  {
   "cell_type": "code",
   "execution_count": null,
   "metadata": {},
   "outputs": [],
   "source": []
  },
  {
   "cell_type": "code",
   "execution_count": null,
   "metadata": {},
   "outputs": [],
   "source": []
  },
  {
   "cell_type": "code",
   "execution_count": null,
   "metadata": {},
   "outputs": [],
   "source": []
  }
 ],
 "metadata": {
  "kernelspec": {
   "display_name": "Python 3",
   "language": "python",
   "name": "python3"
  },
  "language_info": {
   "codemirror_mode": {
    "name": "ipython",
    "version": 3
   },
   "file_extension": ".py",
   "mimetype": "text/x-python",
   "name": "python",
   "nbconvert_exporter": "python",
   "pygments_lexer": "ipython3",
   "version": "3.7.4"
  }
 },
 "nbformat": 4,
 "nbformat_minor": 2
}
